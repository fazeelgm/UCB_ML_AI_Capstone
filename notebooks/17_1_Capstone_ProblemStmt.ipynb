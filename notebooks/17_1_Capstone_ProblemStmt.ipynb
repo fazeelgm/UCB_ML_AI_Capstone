{
 "cells": [
  {
   "cell_type": "markdown",
   "id": "91fb4a00-388e-4bb5-931f-ee46e722315e",
   "metadata": {},
   "source": [
    "# Capstone Project 17.1: Problem Statement"
   ]
  },
  {
   "cell_type": "markdown",
   "id": "2df88f74-f8a7-4a3d-be5a-0f7c4881f51b",
   "metadata": {},
   "source": [
    "**Learning Outcome Addressed:**\n",
    "\n",
    "> 3. Develop a problem statement that includes a research question, expected data sources and structure, expected results, and\n",
    "> expected techniques\n",
    "\n",
    "Congratulations! You have now completed the three practical application assignments. There will be no further cumulative projects except for your final capstone project. \n",
    "\n",
    "You should already have proposed a question to answer in your final capstone and looked at possible datasets and techniques. A few modules ago, you should have met with your Learning Facilitator to refine your question and generate ideas for datasets and techniques. Now, it is time to submit the official proposal.\n",
    "\n",
    "In this discussion board, your initial post should contain the following:\n",
    "\n",
    "* The research question you intend to answer (one sentence, if possible)\n",
    "* Your expected data source(s) (either a link to existing data or a sentence describing where you will source the data from)\n",
    "* The techniques you expect to use in your analysis\n",
    "* The expected results\n",
    "* Why this question is important\n",
    "\n",
    "That last bullet point is the most important. Remember, your final capstone project will be graded not only on the execution of your plan but also on your ability to translate those results into actionable business intelligence that can be acted upon by non-AI/ML personnel. Not only will you have to do the number crunching, but you will also have to distill the results into something understandable by the general public. This last bullet point is your opportunity to explain (in non-AI/ML language) why this question is important. What happens if this question is unanswered? What benefit will your analysis bring?\n",
    "\n",
    "_This is a required discussion and counts toward program completion._\n",
    "\n",
    "**Submission Instructions:**\n",
    "\n",
    "Feel free to read/comment on fellow learners' submissions, but note that responses are not required. This activity is structured as a discussion to allow learners to see each others' questions and possible solutions.\n",
    "\n",
    "**Suggested Time:** 180 minutes"
   ]
  },
  {
   "cell_type": "markdown",
   "id": "f85e7d19-f497-49bc-bfaa-7c52708ac30f",
   "metadata": {},
   "source": [
    "## My Writeup"
   ]
  },
  {
   "cell_type": "markdown",
   "id": "d509f1bc-a28f-47e8-bedc-9b594a0bc17f",
   "metadata": {},
   "source": [
    "### Research Question\n",
    "\n",
    "1. Can we predict the likelihood of a crime occuring in a specific area at a specific time?\n",
    "2. Can we identify Hotspots by crime categories?\n",
    "\n",
    "### Data Source\n",
    "\n",
    "[SF Police Department Incident Reports: 2018 to Present](https://data.sfgov.org/Public-Safety/Police-Department-Incident-Reports-2018-to-Present/wg3w-h783/about_data)\n",
    "\n",
    "* DataType: Time Series data for SFPD incidents reported by:\n",
    "  * Police officers\n",
    "  * Citizens using SFPD website and Twitter/X\n",
    "* Published daily and ranges from Sept 5, 2018 up to the current time\n",
    "* Includes categorization and sub-categorization of incidents, as well as resolution codes\n",
    "* Include GIS (LatLong) and neighborhood data that can be cross-indexed with other SF City datasets\n",
    "\n",
    "### Modeling\n",
    "\n",
    "1. Crime Prediction\n",
    "\n",
    "    * Features / attributes\n",
    "      * Location data (latitude, longitude, neighborhood, district)\n",
    "      * Time data (day of the week, hour, month, year)\n",
    "      * Incident type/category\n",
    "      * Historical crime data\n",
    "    \n",
    "    * Modeling Approaches\n",
    "        * Time series forecasting (e.g., ARIMA, etc)\n",
    "        * Classification models (e.g., Logistic Regression, Random Forest, Gradient Boosting)\n",
    "        * Spatial / GIS analysis\n",
    "\n",
    "2. Hotspot Identification\n",
    "\n",
    "    * Features / attributes\n",
    "      * Geospatial data (latitude, longitude)\n",
    "      * Temporal data (time, date, season)\n",
    "      * Incident frequency\n",
    "       \n",
    "    * Modeling Approaches\n",
    "  \n",
    "      * Kernel Density Estimation (KDE) for hotspot mapping\n",
    "      * Spatial clustering techniques (e.g., DBSCAN, K-Means with geographic data)\n",
    "      * Heatmap visualizations\n",
    "\n",
    "3. Why is this important?\n",
    "\n",
    "By focusing on crime prediction and hotspot identification, law enforcement can enhance their ability to prevent crime, use resources more efficiently, and build stronger relationships with the communities they serve, ultimately leading to a safer and more secure environment for everyone. The data-driven decision-making approach can benefit the following areas:\n",
    "\n",
    "* Proactive Policing and Crime Prevention\n",
    "* Efficient Use of Resources\n",
    "* Data-Driven Decision Making\n",
    "* Enhancing Public Safety and Trust\n",
    "* Cross-Departmental Collaboration\n",
    "* Emergency Preparedness\n"
   ]
  },
  {
   "cell_type": "code",
   "execution_count": null,
   "id": "bf6cd8ef-de25-413f-865e-7431f68983c8",
   "metadata": {},
   "outputs": [],
   "source": []
  }
 ],
 "metadata": {
  "kernelspec": {
   "display_name": "Python 3 (ipykernel)",
   "language": "python",
   "name": "python3"
  },
  "language_info": {
   "codemirror_mode": {
    "name": "ipython",
    "version": 3
   },
   "file_extension": ".py",
   "mimetype": "text/x-python",
   "name": "python",
   "nbconvert_exporter": "python",
   "pygments_lexer": "ipython3",
   "version": "3.11.9"
  },
  "widgets": {
   "application/vnd.jupyter.widget-state+json": {
    "state": {},
    "version_major": 2,
    "version_minor": 0
   }
  }
 },
 "nbformat": 4,
 "nbformat_minor": 5
}
