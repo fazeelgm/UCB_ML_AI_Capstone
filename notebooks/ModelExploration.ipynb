{
 "cells": [
  {
   "cell_type": "markdown",
   "id": "800f300e-1c9d-4f8e-9bce-aa31778a3bbc",
   "metadata": {},
   "source": [
    "# Capstone: Exploratory Prediction Modeling"
   ]
  },
  {
   "cell_type": "code",
   "execution_count": 2,
   "id": "2b05fd2b-87c4-4db0-9bb5-1ae0748656bc",
   "metadata": {},
   "outputs": [],
   "source": [
    "import matplotlib.pyplot as plt\n",
    "import pandas as pd\n",
    "import numpy as np\n",
    "import seaborn as sns\n",
    "\n",
    "\n",
    "# Import utilities\n",
    "# import pathlib\n",
    "import time\n",
    "\n",
    "# Export dataFrame's as images\n",
    "import dataframe_image as dfi\n",
    "\n",
    "# import project utils\n",
    "import sys\n",
    "sys.path.append('../src')\n",
    "\n",
    "import data_utils\n",
    "from data_utils import Config\n",
    "\n",
    "import graph_utils\n",
    "\n",
    "from sklearn.model_selection import train_test_split\n",
    "from sklearn.preprocessing import StandardScaler, LabelEncoder\n",
    "from sklearn.neighbors import KNeighborsClassifier\n",
    "from sklearn.ensemble import RandomForestClassifier\n",
    "from sklearn.linear_model import LogisticRegression\n",
    "from sklearn.dummy import DummyClassifier\n",
    "from sklearn.metrics import accuracy_score, precision_score, f1_score, recall_score, roc_auc_score, log_loss\n",
    "from sklearn.metrics import classification_report, confusion_matrix, ConfusionMatrixDisplay, roc_curve\n",
    "\n",
    "from xgboost import XGBClassifier\n",
    "import xgboost as xgb"
   ]
  },
  {
   "cell_type": "code",
   "execution_count": 3,
   "id": "4214fe9c-8a7e-46d6-a79e-48fe4150289d",
   "metadata": {},
   "outputs": [],
   "source": [
    "# Configure logging\n",
    "import logging\n",
    "logging.basicConfig(level=logging.INFO, format='%(levelname)s: %(message)s')\n",
    "\n",
    "# logging.getLogger().setLevel(logging.DEBUG)\n",
    "# logging.getLogger().setLevel(logging.INFO)"
   ]
  },
  {
   "cell_type": "code",
   "execution_count": 4,
   "id": "74c6b335-5290-483d-8aa6-5b7f9b7b5799",
   "metadata": {},
   "outputs": [],
   "source": [
    "def time_secs_to_msg(lapse_time_secs, mins_label='m', secs_label='s'):\n",
    "    if lapse_time_secs <= 60:\n",
    "        return f'{lapse_time_secs%60:.2f}{secs_label}'\n",
    "    else:\n",
    "        return f'{lapse_time_secs//60:,.0f}{mins_label} {lapse_time_secs%60:.2f}{secs_label}'"
   ]
  },
  {
   "cell_type": "markdown",
   "id": "5814d6a5-3ae8-43f1-b00f-5b22986f3267",
   "metadata": {},
   "source": [
    "## The Data: San Francisco Police Department Incident Reports"
   ]
  },
  {
   "cell_type": "markdown",
   "id": "2bd64605-3a3b-480b-be39-711b70beb7cc",
   "metadata": {},
   "source": [
    "### Read the Data"
   ]
  },
  {
   "cell_type": "code",
   "execution_count": 7,
   "id": "3250ab5b-8240-4f47-9438-aecea04d69b0",
   "metadata": {},
   "outputs": [
    {
     "name": "stdout",
     "output_type": "stream",
     "text": [
      "Selected sample file: ../data/incidents_clean.csv\n"
     ]
    }
   ],
   "source": [
    "# Which dataset to work from?\n",
    "\n",
    "sample_file = data_utils.select_sample_csv_file(pct=100)\n",
    "# sample_file = data_utils.select_sample_csv_file(pct=10)\n",
    "print(f'Selected sample file: {sample_file}')"
   ]
  },
  {
   "cell_type": "code",
   "execution_count": 8,
   "id": "71f7eb17-698f-4eba-aebc-c2893f443e39",
   "metadata": {},
   "outputs": [
    {
     "name": "stdout",
     "output_type": "stream",
     "text": [
      "Reading file: ../data/incidents_clean.csv ... Done: 894,585 rows, 36 columns\n",
      "... Converting datetime to timeseries ... Done\n",
      "... Setting index to datetime ... Done\n",
      "Done\n"
     ]
    }
   ],
   "source": [
    "current_raw_df, current_clean_df = data_utils.get_clean_data_from_csv(sample_file)"
   ]
  },
  {
   "cell_type": "code",
   "execution_count": 9,
   "id": "49438aea-557f-49a0-9caf-2a230ea378f1",
   "metadata": {},
   "outputs": [
    {
     "name": "stdout",
     "output_type": "stream",
     "text": [
      "Pre-processing ... \n",
      "... Dropping unwanted columns ... \n",
      "... preprocess_drop_cols: Column Unnamed: 0 not dropped: KeyError(\"['Unnamed: 0'] not found in axis\")\n",
      "... preprocess_drop_cols: Column esncag_-_boundary_file dropped\n",
      "... preprocess_drop_cols: Column central_market/tenderloin_boundary_polygon_-_updated dropped\n",
      "... preprocess_drop_cols: Column civic_center_harm_reduction_project_boundary dropped\n",
      "... preprocess_drop_cols: Column hsoc_zones_as_of_2018-06-05 dropped\n",
      "... preprocess_drop_cols: Column invest_in_neighborhoods_(iin)_areas dropped\n",
      "... preprocess_drop_cols: Column report_type_code dropped\n",
      "... preprocess_drop_cols: Column report_type_description dropped\n",
      "... preprocess_drop_cols: Column filed_online dropped\n",
      "... preprocess_drop_cols: Column intersection dropped\n",
      "... preprocess_drop_cols: Column cnn dropped\n",
      "... preprocess_drop_cols: Column point dropped\n",
      "... preprocess_drop_cols: Column supervisor_district dropped\n",
      "... preprocess_drop_cols: Column supervisor_district_2012 dropped\n",
      "... preprocess_drop_cols: Column current_supervisor_districts dropped\n",
      "... preprocess_drop_cols: Column incident_datetime dropped\n",
      "... preprocess_drop_cols: Column report_datetime dropped\n",
      "... preprocess_drop_cols: Column incident_id dropped\n",
      "... preprocess_drop_cols: Column incident_code dropped\n",
      "... preprocess_drop_cols: Column row_id dropped\n",
      "... preprocess_drop_cols: Column incident_number dropped\n",
      "... preprocess_drop_cols: Column cad_number dropped\n",
      "... preprocess_drop_cols: Column incident_subcategory dropped\n",
      "... preprocess_drop_cols: Column incident_description dropped\n",
      "... preprocess_drop_cols: Column current_police_districts dropped\n",
      "... preprocess_drop_cols: Column neighborhoods dropped\n",
      "... Done\n",
      "... Removing resolution types: \"Unfounded\", \"Exceptional Adult\" ... \n",
      "... Removing police_district types: \"Out of SF\" ... \n",
      "... Renaming column: \"analysis_neighborhood\" -> \"neighborhood\" ... \n",
      "... Renaming columns: Dropping \"incident_*\" from column names ... \n",
      "... Removing rows with nulls (dropna) ... \n",
      "... Done\n",
      "Done: Start: (894585, 35), End: (829328, 10) -> Rows removed: 65,257 rows (7.29%)\n"
     ]
    }
   ],
   "source": [
    "data = data_utils.preprocess_data(current_raw_df.copy())"
   ]
  },
  {
   "cell_type": "code",
   "execution_count": 10,
   "id": "796600d8-4dc4-4367-8bdd-48602641b3bf",
   "metadata": {},
   "outputs": [
    {
     "name": "stdout",
     "output_type": "stream",
     "text": [
      "Fixing data artifacts (in-place) ... \n",
      "... Category column:\n",
      "    ...\"Human Trafficking*\"\n",
      "    ...\"Motor Vehicle Theft\"\n",
      "    ...\"Weapons Offence\"\n",
      "Done\n"
     ]
    }
   ],
   "source": [
    "# Fix data value artifacts that were discovered during EDA\n",
    "data = data_utils.fix_data_artifacts(data)"
   ]
  },
  {
   "cell_type": "code",
   "execution_count": 11,
   "id": "0593a1a6-d608-4168-ab60-698d8e3a854a",
   "metadata": {},
   "outputs": [
    {
     "name": "stdout",
     "output_type": "stream",
     "text": [
      "<class 'pandas.core.frame.DataFrame'>\n",
      "DatetimeIndex: 829328 entries, 2023-03-11 14:00:00 to 2023-03-21 17:42:00\n",
      "Data columns (total 10 columns):\n",
      " #   Column           Non-Null Count   Dtype  \n",
      "---  ------           --------------   -----  \n",
      " 0   date             829328 non-null  object \n",
      " 1   time             829328 non-null  object \n",
      " 2   year             829328 non-null  int64  \n",
      " 3   day_of_week      829328 non-null  object \n",
      " 4   category         829328 non-null  object \n",
      " 5   resolution       829328 non-null  object \n",
      " 6   police_district  829328 non-null  object \n",
      " 7   neighborhood     829328 non-null  object \n",
      " 8   latitude         829328 non-null  float64\n",
      " 9   longitude        829328 non-null  float64\n",
      "dtypes: float64(2), int64(1), object(7)\n",
      "memory usage: 69.6+ MB\n"
     ]
    }
   ],
   "source": [
    "data.info()"
   ]
  },
  {
   "cell_type": "markdown",
   "id": "cee8b6f7-2f63-409e-8a77-d95a82a599b2",
   "metadata": {},
   "source": [
    "## Summary of EDA"
   ]
  },
  {
   "cell_type": "markdown",
   "id": "def62469-b0fa-405b-ae5e-9cf32c9994a4",
   "metadata": {},
   "source": [
    "After cleaning the data and performing basic EDA, we have established the following:\n",
    "\n",
    "1. Target variable `category`\n",
    "   * Evenly spread across time\n",
    "   * Incidence of crimes is extremely skewed/unbalanced by category. Larceny (29.02%) by far outweighing the other top-10 categories with each being in the single digits\n",
    "3. Features impacting `category`\n",
    "   * Affected by incident time and date components: date, time, day of week, month, year, etc\n",
    "   * Affected by police disctrict\n",
    "   * Affect by latitude and logitude (TODO: need visualization)\n",
    "4. We artificially removed nulls (TODO: will come back to impute data later)"
   ]
  },
  {
   "cell_type": "markdown",
   "id": "d4580fda-167c-419e-94a4-466d884169d8",
   "metadata": {},
   "source": [
    "## Feature Engineering"
   ]
  },
  {
   "cell_type": "code",
   "execution_count": 15,
   "id": "e3693b1c-6a4c-4480-99c3-1afb183a1352",
   "metadata": {},
   "outputs": [
    {
     "data": {
      "text/html": [
       "<div>\n",
       "<style scoped>\n",
       "    .dataframe tbody tr th:only-of-type {\n",
       "        vertical-align: middle;\n",
       "    }\n",
       "\n",
       "    .dataframe tbody tr th {\n",
       "        vertical-align: top;\n",
       "    }\n",
       "\n",
       "    .dataframe thead th {\n",
       "        text-align: right;\n",
       "    }\n",
       "</style>\n",
       "<table border=\"1\" class=\"dataframe\">\n",
       "  <thead>\n",
       "    <tr style=\"text-align: right;\">\n",
       "      <th></th>\n",
       "      <th>date</th>\n",
       "      <th>time</th>\n",
       "      <th>year</th>\n",
       "      <th>day_of_week</th>\n",
       "      <th>category</th>\n",
       "      <th>resolution</th>\n",
       "      <th>police_district</th>\n",
       "      <th>neighborhood</th>\n",
       "      <th>latitude</th>\n",
       "      <th>longitude</th>\n",
       "    </tr>\n",
       "    <tr>\n",
       "      <th>datetime</th>\n",
       "      <th></th>\n",
       "      <th></th>\n",
       "      <th></th>\n",
       "      <th></th>\n",
       "      <th></th>\n",
       "      <th></th>\n",
       "      <th></th>\n",
       "      <th></th>\n",
       "      <th></th>\n",
       "      <th></th>\n",
       "    </tr>\n",
       "  </thead>\n",
       "  <tbody>\n",
       "    <tr>\n",
       "      <th>2023-03-11 14:00:00</th>\n",
       "      <td>2023/03/11</td>\n",
       "      <td>14:00</td>\n",
       "      <td>2023</td>\n",
       "      <td>Saturday</td>\n",
       "      <td>Assault</td>\n",
       "      <td>Open or Active</td>\n",
       "      <td>Park</td>\n",
       "      <td>Golden Gate Park</td>\n",
       "      <td>37.772895</td>\n",
       "      <td>-122.454285</td>\n",
       "    </tr>\n",
       "    <tr>\n",
       "      <th>2022-06-27 12:00:00</th>\n",
       "      <td>2022/06/27</td>\n",
       "      <td>12:00</td>\n",
       "      <td>2022</td>\n",
       "      <td>Monday</td>\n",
       "      <td>Lost Property</td>\n",
       "      <td>Open or Active</td>\n",
       "      <td>Central</td>\n",
       "      <td>Financial District/South Beach</td>\n",
       "      <td>37.787359</td>\n",
       "      <td>-122.408227</td>\n",
       "    </tr>\n",
       "  </tbody>\n",
       "</table>\n",
       "</div>"
      ],
      "text/plain": [
       "                           date   time  year day_of_week       category  \\\n",
       "datetime                                                                  \n",
       "2023-03-11 14:00:00  2023/03/11  14:00  2023    Saturday        Assault   \n",
       "2022-06-27 12:00:00  2022/06/27  12:00  2022      Monday  Lost Property   \n",
       "\n",
       "                         resolution police_district  \\\n",
       "datetime                                              \n",
       "2023-03-11 14:00:00  Open or Active            Park   \n",
       "2022-06-27 12:00:00  Open or Active         Central   \n",
       "\n",
       "                                       neighborhood   latitude   longitude  \n",
       "datetime                                                                    \n",
       "2023-03-11 14:00:00                Golden Gate Park  37.772895 -122.454285  \n",
       "2022-06-27 12:00:00  Financial District/South Beach  37.787359 -122.408227  "
      ]
     },
     "execution_count": 15,
     "metadata": {},
     "output_type": "execute_result"
    }
   ],
   "source": [
    "data.head(2)"
   ]
  },
  {
   "cell_type": "code",
   "execution_count": 16,
   "id": "42c52ff3-baa7-47e8-95e7-6b65ffd9424a",
   "metadata": {},
   "outputs": [
    {
     "name": "stdout",
     "output_type": "stream",
     "text": [
      "<class 'pandas.core.frame.DataFrame'>\n",
      "DatetimeIndex: 829328 entries, 2023-03-11 14:00:00 to 2023-03-21 17:42:00\n",
      "Data columns (total 10 columns):\n",
      " #   Column           Non-Null Count   Dtype  \n",
      "---  ------           --------------   -----  \n",
      " 0   date             829328 non-null  object \n",
      " 1   time             829328 non-null  object \n",
      " 2   year             829328 non-null  int64  \n",
      " 3   day_of_week      829328 non-null  object \n",
      " 4   category         829328 non-null  object \n",
      " 5   resolution       829328 non-null  object \n",
      " 6   police_district  829328 non-null  object \n",
      " 7   neighborhood     829328 non-null  object \n",
      " 8   latitude         829328 non-null  float64\n",
      " 9   longitude        829328 non-null  float64\n",
      "dtypes: float64(2), int64(1), object(7)\n",
      "memory usage: 69.6+ MB\n"
     ]
    }
   ],
   "source": [
    "data.info()"
   ]
  },
  {
   "cell_type": "markdown",
   "id": "2d93db1b-4718-4bac-8a22-8aff944c3c64",
   "metadata": {},
   "source": [
    "### Encoding: Time-based columns"
   ]
  },
  {
   "cell_type": "markdown",
   "id": "c6939cb5-85c3-4f3e-92f8-23347859bded",
   "metadata": {},
   "source": [
    "Let's unpack the date and time into their components that are still missing so there is less to encode:"
   ]
  },
  {
   "cell_type": "code",
   "execution_count": 19,
   "id": "e80e1ca0-445e-4251-8672-a70c5ef40597",
   "metadata": {},
   "outputs": [],
   "source": [
    "data['hour'] = data.index.map(lambda x: x.hour)\n",
    "data['minute'] = data.index.map(lambda x: x.minute)\n",
    "data['day'] = data.index.map(lambda x: x.day)\n",
    "data['month'] = data.index.map(lambda x: x.month)"
   ]
  },
  {
   "cell_type": "markdown",
   "id": "9834113f-4129-4c28-9ca6-f2f5051b7b1e",
   "metadata": {},
   "source": [
    "Now let's encode day_of_week to numeric values:"
   ]
  },
  {
   "cell_type": "code",
   "execution_count": 21,
   "id": "eba3c50f-bc77-4491-b663-4ea286c5774b",
   "metadata": {},
   "outputs": [],
   "source": [
    "enc_dow = LabelEncoder()\n",
    "enc_dow.fit(data.day_of_week.unique())\n",
    "data['dow'] = enc_dow.transform(data.day_of_week)"
   ]
  },
  {
   "cell_type": "markdown",
   "id": "2cb03a71-9c9e-4bca-af32-b35f05db2e1e",
   "metadata": {},
   "source": [
    "Let's mark the redundant columns to be dropped after feature engineering:"
   ]
  },
  {
   "cell_type": "code",
   "execution_count": 23,
   "id": "3ce4c19a-dbf1-49c6-8fc5-c91a4e72aaff",
   "metadata": {},
   "outputs": [],
   "source": [
    "drop_encoded_cols = ['date', 'time', 'day_of_week']"
   ]
  },
  {
   "cell_type": "markdown",
   "id": "6b474b64-0486-4de0-9fe3-85dd1df87559",
   "metadata": {},
   "source": [
    "### Encoding: Resolution"
   ]
  },
  {
   "cell_type": "markdown",
   "id": "079fb531-2e4c-4f36-bf09-00bc9ca6c0e3",
   "metadata": {},
   "source": [
    "We will also drop the resolution column since it doesn't impact crime prediction:"
   ]
  },
  {
   "cell_type": "code",
   "execution_count": 26,
   "id": "d130971c-9f96-40c2-a973-bb5ada873544",
   "metadata": {},
   "outputs": [
    {
     "data": {
      "text/plain": [
       "resolution\n",
       "Open or Active          662581\n",
       "Cite or Arrest Adult    166747\n",
       "Name: count, dtype: int64"
      ]
     },
     "execution_count": 26,
     "metadata": {},
     "output_type": "execute_result"
    }
   ],
   "source": [
    "data.resolution.value_counts()"
   ]
  },
  {
   "cell_type": "code",
   "execution_count": 27,
   "id": "12b60a7a-4290-42c5-bdcc-12436361160d",
   "metadata": {},
   "outputs": [],
   "source": [
    "drop_encoded_cols.append('resolution')"
   ]
  },
  {
   "cell_type": "markdown",
   "id": "54a27a2a-a4e1-46e6-aaaa-6462a88ef904",
   "metadata": {},
   "source": [
    "### Encoding: Category"
   ]
  },
  {
   "cell_type": "code",
   "execution_count": 29,
   "id": "1887058d-290d-4de7-be1a-ad4790edc9fb",
   "metadata": {},
   "outputs": [],
   "source": [
    "enc_cat = LabelEncoder()\n",
    "enc_cat.fit(data.category.unique())\n",
    "data.category = enc_cat.transform(data.category)"
   ]
  },
  {
   "cell_type": "markdown",
   "id": "e4357e80-34aa-426c-8360-15da700f3136",
   "metadata": {},
   "source": [
    "### Encoding: Police District"
   ]
  },
  {
   "cell_type": "code",
   "execution_count": 31,
   "id": "8b918e7f-285b-4cd6-9960-7fe80b848c59",
   "metadata": {},
   "outputs": [],
   "source": [
    "enc_pd = LabelEncoder()\n",
    "enc_pd.fit(data.police_district.unique())\n",
    "data['pd'] = enc_pd.transform(data.police_district)"
   ]
  },
  {
   "cell_type": "markdown",
   "id": "d06b758e-6f91-45af-b590-f526a8d84033",
   "metadata": {},
   "source": [
    "### Encoding: Neighborhood"
   ]
  },
  {
   "cell_type": "code",
   "execution_count": 33,
   "id": "82fb1300-2f74-4930-94ab-a5b161e4b4f4",
   "metadata": {},
   "outputs": [],
   "source": [
    "enc_hood = LabelEncoder()\n",
    "enc_hood.fit(data.neighborhood.unique())\n",
    "data.neighborhood = enc_hood.transform(data.neighborhood)"
   ]
  },
  {
   "cell_type": "markdown",
   "id": "9844c0b5-1967-46f3-b316-5f8e2a1e4e74",
   "metadata": {},
   "source": [
    "### Dropping Redundant Columns"
   ]
  },
  {
   "cell_type": "markdown",
   "id": "40759752-bd7b-40ee-9503-2778c2594c9f",
   "metadata": {},
   "source": [
    "We can now drop the redundant encoded columns:"
   ]
  },
  {
   "cell_type": "code",
   "execution_count": 36,
   "id": "db644549-7780-4117-be95-207dde3eb418",
   "metadata": {},
   "outputs": [
    {
     "name": "stdout",
     "output_type": "stream",
     "text": [
      "Dropping encoded columns: ['date', 'time', 'day_of_week', 'resolution', 'police_district']\n"
     ]
    }
   ],
   "source": [
    "drop_encoded_cols.append('police_district')\n",
    "\n",
    "print(f'Dropping encoded columns: {drop_encoded_cols}')\n",
    "data.drop(columns=drop_encoded_cols, inplace=True)"
   ]
  },
  {
   "cell_type": "code",
   "execution_count": 37,
   "id": "de363da7-290a-4a98-bee6-2760db2cb526",
   "metadata": {},
   "outputs": [
    {
     "data": {
      "text/html": [
       "<div>\n",
       "<style scoped>\n",
       "    .dataframe tbody tr th:only-of-type {\n",
       "        vertical-align: middle;\n",
       "    }\n",
       "\n",
       "    .dataframe tbody tr th {\n",
       "        vertical-align: top;\n",
       "    }\n",
       "\n",
       "    .dataframe thead th {\n",
       "        text-align: right;\n",
       "    }\n",
       "</style>\n",
       "<table border=\"1\" class=\"dataframe\">\n",
       "  <thead>\n",
       "    <tr style=\"text-align: right;\">\n",
       "      <th></th>\n",
       "      <th>year</th>\n",
       "      <th>category</th>\n",
       "      <th>neighborhood</th>\n",
       "      <th>latitude</th>\n",
       "      <th>longitude</th>\n",
       "      <th>hour</th>\n",
       "      <th>minute</th>\n",
       "      <th>day</th>\n",
       "      <th>month</th>\n",
       "      <th>dow</th>\n",
       "      <th>pd</th>\n",
       "    </tr>\n",
       "    <tr>\n",
       "      <th>datetime</th>\n",
       "      <th></th>\n",
       "      <th></th>\n",
       "      <th></th>\n",
       "      <th></th>\n",
       "      <th></th>\n",
       "      <th></th>\n",
       "      <th></th>\n",
       "      <th></th>\n",
       "      <th></th>\n",
       "      <th></th>\n",
       "      <th></th>\n",
       "    </tr>\n",
       "  </thead>\n",
       "  <tbody>\n",
       "    <tr>\n",
       "      <th>2023-03-11 14:00:00</th>\n",
       "      <td>2023</td>\n",
       "      <td>1</td>\n",
       "      <td>7</td>\n",
       "      <td>37.772895</td>\n",
       "      <td>-122.454285</td>\n",
       "      <td>14</td>\n",
       "      <td>0</td>\n",
       "      <td>11</td>\n",
       "      <td>3</td>\n",
       "      <td>2</td>\n",
       "      <td>5</td>\n",
       "    </tr>\n",
       "    <tr>\n",
       "      <th>2022-06-27 12:00:00</th>\n",
       "      <td>2022</td>\n",
       "      <td>18</td>\n",
       "      <td>5</td>\n",
       "      <td>37.787359</td>\n",
       "      <td>-122.408227</td>\n",
       "      <td>12</td>\n",
       "      <td>0</td>\n",
       "      <td>27</td>\n",
       "      <td>6</td>\n",
       "      <td>1</td>\n",
       "      <td>1</td>\n",
       "    </tr>\n",
       "  </tbody>\n",
       "</table>\n",
       "</div>"
      ],
      "text/plain": [
       "                     year  category  neighborhood   latitude   longitude  \\\n",
       "datetime                                                                   \n",
       "2023-03-11 14:00:00  2023         1             7  37.772895 -122.454285   \n",
       "2022-06-27 12:00:00  2022        18             5  37.787359 -122.408227   \n",
       "\n",
       "                     hour  minute  day  month  dow  pd  \n",
       "datetime                                                \n",
       "2023-03-11 14:00:00    14       0   11      3    2   5  \n",
       "2022-06-27 12:00:00    12       0   27      6    1   1  "
      ]
     },
     "execution_count": 37,
     "metadata": {},
     "output_type": "execute_result"
    }
   ],
   "source": [
    "data.head(2)"
   ]
  },
  {
   "cell_type": "code",
   "execution_count": 38,
   "id": "9a45dd9e-7aa0-43c1-9d94-40d6287cb845",
   "metadata": {},
   "outputs": [
    {
     "name": "stdout",
     "output_type": "stream",
     "text": [
      "<class 'pandas.core.frame.DataFrame'>\n",
      "DatetimeIndex: 829328 entries, 2023-03-11 14:00:00 to 2023-03-21 17:42:00\n",
      "Data columns (total 11 columns):\n",
      " #   Column        Non-Null Count   Dtype  \n",
      "---  ------        --------------   -----  \n",
      " 0   year          829328 non-null  int64  \n",
      " 1   category      829328 non-null  int64  \n",
      " 2   neighborhood  829328 non-null  int64  \n",
      " 3   latitude      829328 non-null  float64\n",
      " 4   longitude     829328 non-null  float64\n",
      " 5   hour          829328 non-null  int64  \n",
      " 6   minute        829328 non-null  int64  \n",
      " 7   day           829328 non-null  int64  \n",
      " 8   month         829328 non-null  int64  \n",
      " 9   dow           829328 non-null  int64  \n",
      " 10  pd            829328 non-null  int64  \n",
      "dtypes: float64(2), int64(9)\n",
      "memory usage: 75.9 MB\n"
     ]
    }
   ],
   "source": [
    "data.info()"
   ]
  },
  {
   "cell_type": "markdown",
   "id": "03c7ab2c-d5a3-4d2a-b158-87ea45debe21",
   "metadata": {},
   "source": [
    "## Data Preparation"
   ]
  },
  {
   "cell_type": "markdown",
   "id": "7d496dcd-171a-4d49-8807-11ffafa4b233",
   "metadata": {},
   "source": [
    "### Create Train/Test Splits"
   ]
  },
  {
   "cell_type": "code",
   "execution_count": 41,
   "id": "ac470dae-d362-45d4-911f-5906ce1e271b",
   "metadata": {},
   "outputs": [],
   "source": [
    "X = data.drop('category', axis='columns')\n",
    "y = data['category']"
   ]
  },
  {
   "cell_type": "code",
   "execution_count": 42,
   "id": "9df7a80e-6033-412d-a282-ffa985f48904",
   "metadata": {},
   "outputs": [],
   "source": [
    "# OneHot Encode the features and drop the first value to reduce multicollinearity\n",
    "X = pd.get_dummies(X, drop_first=True)"
   ]
  },
  {
   "cell_type": "code",
   "execution_count": 43,
   "id": "140d725c-be87-47fd-b60d-6bee9e666ada",
   "metadata": {},
   "outputs": [
    {
     "name": "stdout",
     "output_type": "stream",
     "text": [
      "Project-wide random_state: 42\n"
     ]
    }
   ],
   "source": [
    "# Consistent random_state for the project\n",
    "print(f'Project-wide random_state: {Config.RANDOM_STATE}')"
   ]
  },
  {
   "cell_type": "code",
   "execution_count": 44,
   "id": "3f71f3ab-33fa-4ea3-bade-efc053e13870",
   "metadata": {},
   "outputs": [],
   "source": [
    "X_train, X_test, y_train, y_test = train_test_split(X, y, test_size=0.2, \n",
    "                                                    stratify=y, random_state=Config.RANDOM_STATE)"
   ]
  },
  {
   "cell_type": "code",
   "execution_count": 45,
   "id": "a01d3fc6-d194-43b3-89eb-aa639586aa7a",
   "metadata": {},
   "outputs": [
    {
     "data": {
      "text/html": [
       "<div>\n",
       "<style scoped>\n",
       "    .dataframe tbody tr th:only-of-type {\n",
       "        vertical-align: middle;\n",
       "    }\n",
       "\n",
       "    .dataframe tbody tr th {\n",
       "        vertical-align: top;\n",
       "    }\n",
       "\n",
       "    .dataframe thead th {\n",
       "        text-align: right;\n",
       "    }\n",
       "</style>\n",
       "<table border=\"1\" class=\"dataframe\">\n",
       "  <thead>\n",
       "    <tr style=\"text-align: right;\">\n",
       "      <th>datetime</th>\n",
       "      <th>2023-03-11 14:00:00</th>\n",
       "      <th>2022-06-27 12:00:00</th>\n",
       "      <th>2023-03-16 17:30:00</th>\n",
       "      <th>2023-03-21 15:50:00</th>\n",
       "      <th>2021-08-22 09:40:00</th>\n",
       "    </tr>\n",
       "  </thead>\n",
       "  <tbody>\n",
       "    <tr>\n",
       "      <th>year</th>\n",
       "      <td>2023.000000</td>\n",
       "      <td>2022.000000</td>\n",
       "      <td>2023.000000</td>\n",
       "      <td>2023.000000</td>\n",
       "      <td>2021.000000</td>\n",
       "    </tr>\n",
       "    <tr>\n",
       "      <th>neighborhood</th>\n",
       "      <td>7.000000</td>\n",
       "      <td>5.000000</td>\n",
       "      <td>28.000000</td>\n",
       "      <td>35.000000</td>\n",
       "      <td>26.000000</td>\n",
       "    </tr>\n",
       "    <tr>\n",
       "      <th>latitude</th>\n",
       "      <td>37.772895</td>\n",
       "      <td>37.787359</td>\n",
       "      <td>37.762290</td>\n",
       "      <td>37.787038</td>\n",
       "      <td>37.793977</td>\n",
       "    </tr>\n",
       "    <tr>\n",
       "      <th>longitude</th>\n",
       "      <td>-122.454285</td>\n",
       "      <td>-122.408227</td>\n",
       "      <td>-122.401324</td>\n",
       "      <td>-122.418271</td>\n",
       "      <td>-122.429804</td>\n",
       "    </tr>\n",
       "    <tr>\n",
       "      <th>hour</th>\n",
       "      <td>14.000000</td>\n",
       "      <td>12.000000</td>\n",
       "      <td>17.000000</td>\n",
       "      <td>15.000000</td>\n",
       "      <td>9.000000</td>\n",
       "    </tr>\n",
       "    <tr>\n",
       "      <th>minute</th>\n",
       "      <td>0.000000</td>\n",
       "      <td>0.000000</td>\n",
       "      <td>30.000000</td>\n",
       "      <td>50.000000</td>\n",
       "      <td>40.000000</td>\n",
       "    </tr>\n",
       "    <tr>\n",
       "      <th>day</th>\n",
       "      <td>11.000000</td>\n",
       "      <td>27.000000</td>\n",
       "      <td>16.000000</td>\n",
       "      <td>21.000000</td>\n",
       "      <td>22.000000</td>\n",
       "    </tr>\n",
       "    <tr>\n",
       "      <th>month</th>\n",
       "      <td>3.000000</td>\n",
       "      <td>6.000000</td>\n",
       "      <td>3.000000</td>\n",
       "      <td>3.000000</td>\n",
       "      <td>8.000000</td>\n",
       "    </tr>\n",
       "    <tr>\n",
       "      <th>dow</th>\n",
       "      <td>2.000000</td>\n",
       "      <td>1.000000</td>\n",
       "      <td>4.000000</td>\n",
       "      <td>5.000000</td>\n",
       "      <td>3.000000</td>\n",
       "    </tr>\n",
       "    <tr>\n",
       "      <th>pd</th>\n",
       "      <td>5.000000</td>\n",
       "      <td>1.000000</td>\n",
       "      <td>0.000000</td>\n",
       "      <td>4.000000</td>\n",
       "      <td>4.000000</td>\n",
       "    </tr>\n",
       "  </tbody>\n",
       "</table>\n",
       "</div>"
      ],
      "text/plain": [
       "datetime      2023-03-11 14:00:00  2022-06-27 12:00:00  2023-03-16 17:30:00  \\\n",
       "year                  2023.000000          2022.000000          2023.000000   \n",
       "neighborhood             7.000000             5.000000            28.000000   \n",
       "latitude                37.772895            37.787359            37.762290   \n",
       "longitude             -122.454285          -122.408227          -122.401324   \n",
       "hour                    14.000000            12.000000            17.000000   \n",
       "minute                   0.000000             0.000000            30.000000   \n",
       "day                     11.000000            27.000000            16.000000   \n",
       "month                    3.000000             6.000000             3.000000   \n",
       "dow                      2.000000             1.000000             4.000000   \n",
       "pd                       5.000000             1.000000             0.000000   \n",
       "\n",
       "datetime      2023-03-21 15:50:00  2021-08-22 09:40:00  \n",
       "year                  2023.000000          2021.000000  \n",
       "neighborhood            35.000000            26.000000  \n",
       "latitude                37.787038            37.793977  \n",
       "longitude             -122.418271          -122.429804  \n",
       "hour                    15.000000             9.000000  \n",
       "minute                  50.000000            40.000000  \n",
       "day                     21.000000            22.000000  \n",
       "month                    3.000000             8.000000  \n",
       "dow                      5.000000             3.000000  \n",
       "pd                       4.000000             4.000000  "
      ]
     },
     "execution_count": 45,
     "metadata": {},
     "output_type": "execute_result"
    }
   ],
   "source": [
    "# spot-check feature encoding\n",
    "X.T.iloc[:, 0:5]"
   ]
  },
  {
   "cell_type": "markdown",
   "id": "be0ffce7-ac24-4443-a5df-81a0449852c6",
   "metadata": {},
   "source": [
    "### Feature Scaling"
   ]
  },
  {
   "cell_type": "code",
   "execution_count": 47,
   "id": "e6ed9a74-008a-4c0f-b2af-76e5f0e54793",
   "metadata": {},
   "outputs": [],
   "source": [
    "# Scale the data - we'll use StandardScaler for the baseline model\n",
    "logging.debug('Scaling data')\n",
    "scaler = StandardScaler()\n",
    "\n",
    "X_train_scaled = scaler.fit_transform(X_train)\n",
    "X_test_scaled = scaler.transform(X_test)"
   ]
  },
  {
   "cell_type": "markdown",
   "id": "a2df8b27-6969-4b14-b3e0-f4e351df67d0",
   "metadata": {},
   "source": [
    "## Model Exploration"
   ]
  },
  {
   "cell_type": "markdown",
   "id": "519e74d3-390d-4b30-acc2-d685aa461d76",
   "metadata": {},
   "source": [
    "We will now evaluate different models for predicting the Crime Category from our features:"
   ]
  },
  {
   "cell_type": "code",
   "execution_count": 50,
   "id": "9fb217f2-ba53-4f9a-9fdf-c79a3deefe1c",
   "metadata": {},
   "outputs": [
    {
     "data": {
      "text/plain": [
       "Index(['year', 'neighborhood', 'latitude', 'longitude', 'hour', 'minute',\n",
       "       'day', 'month', 'dow', 'pd'],\n",
       "      dtype='object')"
      ]
     },
     "execution_count": 50,
     "metadata": {},
     "output_type": "execute_result"
    }
   ],
   "source": [
    "X_train.columns"
   ]
  },
  {
   "cell_type": "markdown",
   "id": "d75a3fbc-b034-4ced-a667-57713c0453a4",
   "metadata": {},
   "source": [
    "The task of classifying the incident types based on a set of historical attrirbutes (features) and predicting on similar attributes is a **multiclass classification** problem. We will now experiment on some ML models that are generally used for similar problems to see what would be the best choice for us.\n",
    "\n",
    "We will evaluate the following models:\n",
    "\n",
    "* Simple classification models\n",
    "  * `DummyClassifier` to get a baseline for our project\n",
    "  * `LogisticRegression` with L1 Regularization\n",
    "* Multiclass classifiers\n",
    "  * `KNeighborsClassifier`\n",
    "* Ensemble methods: Since our dataset has high variability with a lot of numerical and cagtegorical features with a range of mean and variance, we plan to employ ensemble methods and tune them for best results\n",
    "  * `RandomForestClassifier`\n",
    "  * `XGBClassifier`: We considered `XGLite` but selected XGBoost as it provides better model explainability features like SHAP values, which we expect to be able to use in explaining our results"
   ]
  },
  {
   "cell_type": "markdown",
   "id": "f7d149f8-5cf7-4455-9d03-e4018d377dd3",
   "metadata": {},
   "source": [
    "### Evaluation Metrics"
   ]
  },
  {
   "cell_type": "markdown",
   "id": "637a03c6-4a3c-4c83-8905-19777ce99473",
   "metadata": {},
   "source": [
    "In this project, we are predicting or classifyig across 49 crime categories. We will use two evaluation metrics to compare our models:\n",
    "\n",
    "1. **Accuracy**: Measures the proportion of correct predictions over all predictions made. The accuracy benchmark is 1/49 or 2.04% given our crime categories\n",
    "2. **Log_Loss**: Measures the accuracy of a classifier by penalizing false classifications. It does this by taking the negative logarithm of the predicted probability for the true class. The goal is to minimize this loss, meaning that higher probabilities are assigned to the correct classes\n",
    "   * TODO: Benchmark???\n",
    "\n",
    "While accuracy provides a simple measure of correctness, log-loss offers a more nuanced view by considering how confident those predictions are. We'll use them together for a comprehensive evaluation and to learn more about them"
   ]
  },
  {
   "cell_type": "code",
   "execution_count": 54,
   "id": "44d907e6-792a-4c8b-bd67-a4818a4a1caf",
   "metadata": {},
   "outputs": [],
   "source": [
    "def build_results_row(name, model, Xtr, Xte, ytr, yte, use_best=False):\n",
    "    \"\"\"\n",
    "    Given the model and training/test sets, builds a row of metrics for reporting the results\n",
    "\n",
    "    :param name: Name/Description of model\n",
    "    :param model: Fully constructed model instance - will call fit() and predict() to get metrics\n",
    "    :param Xtr: X_train - scale before calling\n",
    "    :param Xte: X_test - scale before calling\n",
    "    :param ytr: Y_train set\n",
    "    :param yteL: Y_test set\n",
    "    \"\"\"\n",
    "    \n",
    "    print(f'{name}: Starting', flush=True)\n",
    "    start_time = time.time()\n",
    "\n",
    "    # train the model\n",
    "    clf = model.fit(Xtr, ytr)\n",
    "\n",
    "    # if we're tuning then use best_estimator\n",
    "    if use_best:\n",
    "        clf = model.best_estimator_\n",
    "        logging.debug(f'{name}: Best Model={clf}')\n",
    "        logging.debug(f'{name}: Best Params={model.best_params_}')\n",
    "\n",
    "    # Save fit time\n",
    "    fit_time = time.time() - start_time\n",
    "    logging.debug(f'{name}: Fitted')\n",
    "\n",
    "    # get the predictions / probabilities\n",
    "    y_preds = clf.predict(Xte)\n",
    "    y_probs_full = clf.predict_proba(Xte)\n",
    "    y_probs = y_probs_full[:, 1]\n",
    "\n",
    "    print(f'>>> {yte.shape} {y_preds.shape} {y_probs_full.shape}')\n",
    "    print(f'>>> {np.unique(yte)}')\n",
    "    print(f'>>> {np.unique(y_preds)}')\n",
    "    print(f'>>> {np.unique(y_probs_full)}')\n",
    "\n",
    "    cm = confusion_matrix(yte, y_preds)\n",
    "    logging.debug(f'{name}: Got preds/probs')\n",
    "\n",
    "    # Get metrics\n",
    "    row = {\n",
    "        'Train Time': time_secs_to_msg(fit_time),\n",
    "        'Train Accuracy': f'{model.score(Xtr, ytr)*100:.2f}%',\n",
    "        'Test Accuracy': f'{model.score(Xte, yte)*100:.2f}%',\n",
    "        'Precision': f'{precision_score(yte, y_preds, average=\"weighted\")*100:.2f}%',  # for multi-class with imbalance\n",
    "        'Recall': f'{recall_score(yte, y_preds, average=\"weighted\")*100:.2f}%',\n",
    "        'F1': f'{f1_score(yte, y_preds, average=\"weighted\")*100:.2f}%',\n",
    "        'AUC': f'{roc_auc_score(yte, y_probs_full, average=\"weighted\", multi_class=\"ovr\")*100:.2f}%',    # faster with imbalanced multi-class cases\n",
    "        'Log_loss': f'{log_loss(yte, y_probs_full, labels=np.unique(yte))}',\n",
    "        'preds': y_preds,\n",
    "        'probs': y_probs,\n",
    "        'cm': cm,\n",
    "        'TN': f'{cm[0, 0]:,d}',\n",
    "        'FP': f'{cm[0, 1]:,d}',\n",
    "        'FN': f'{cm[1, 0]:,d}',\n",
    "        'TP': f'{cm[1, 1]:,d}',\n",
    "        'params': model.get_params(),\n",
    "        'best_params': None,\n",
    "        'best_model': clf,\n",
    "    }\n",
    "    if use_best:\n",
    "        row.update({'best_params': model.best_params_})\n",
    "        \n",
    "    logging.debug(f'{name}: Got metrics')\n",
    "    \n",
    "    print(f'{name}: Done: {time_secs_to_msg(time.time()-start_time)}')\n",
    "\n",
    "    return row"
   ]
  },
  {
   "cell_type": "markdown",
   "id": "584e5a53-2bbd-4283-bf5e-34fdf4b15ec4",
   "metadata": {},
   "source": [
    "### Baseline DummyClassifier"
   ]
  },
  {
   "cell_type": "code",
   "execution_count": 56,
   "id": "39f421c5-bc59-47db-8b30-f534a18f18d4",
   "metadata": {},
   "outputs": [],
   "source": [
    "results = []\n",
    "\n",
    "n_estimators = 100"
   ]
  },
  {
   "cell_type": "code",
   "execution_count": 57,
   "id": "e5389318-135b-483b-a8a8-7cefd2223b28",
   "metadata": {},
   "outputs": [],
   "source": [
    "# let's start saving the results for reporting out\n",
    "results_defaults = {}\n",
    "\n",
    "# Reports won't print all the columns\n",
    "report_cols = ['Train Time', 'Train Accuracy', 'Test Accuracy', \n",
    "               'Precision', 'Recall', 'F1', 'AUC', 'Log_loss', 'TN', 'FP', 'FN', 'TP']\n",
    "report_cols_tuned = ['best_params', 'Train Time', 'Train Accuracy', 'Test Accuracy', \n",
    "                     'Precision', 'Recall', 'F1', 'AUC', 'Log_loss', 'TN', 'FP', 'FN', 'TP']"
   ]
  },
  {
   "cell_type": "markdown",
   "id": "73638fa5-fc3a-492e-846c-93cd0ad72f30",
   "metadata": {},
   "source": [
    "### DummyClassifier"
   ]
  },
  {
   "cell_type": "code",
   "execution_count": 59,
   "id": "30a0c574-91cb-49b6-8cec-7b5fd0207924",
   "metadata": {},
   "outputs": [
    {
     "name": "stdout",
     "output_type": "stream",
     "text": [
      "DummyClassifier: Starting\n",
      "Baseline: DummyClassifier - strategy=uniform: accuracy: 0.022120265756695165, log_loss: 3.8066624897703183\n",
      "DummyClassifier: Done: 0.40s\n"
     ]
    }
   ],
   "source": [
    "name='DummyClassifier'\n",
    "print(f'{name}: Starting', flush=True)\n",
    "start_time = time.time()\n",
    "\n",
    "base = DummyClassifier(strategy='uniform', random_state=Config.RANDOM_STATE)\n",
    "base.fit(X_train_scaled, y_train)\n",
    "y_preds = base.predict(X_test_scaled)\n",
    "pred_probs = base.predict_proba(X_test_scaled)\n",
    "base_acc = accuracy_score(y_test, y_preds)\n",
    "base_loss = log_loss(y_test, pred_probs)\n",
    "\n",
    "label='Baseline: DummyClassifier - strategy=uniform'\n",
    "results.append([label, base_acc, base_loss, time_secs_to_msg(time.time()-start_time), base.get_params()])\n",
    "print(f'{label}: accuracy: {base_acc}, log_loss: {base_loss}')\n",
    "\n",
    "print(f'{name}: Done: {time_secs_to_msg(time.time()-start_time)}')"
   ]
  },
  {
   "cell_type": "code",
   "execution_count": 60,
   "id": "4c554832-05bd-48c1-b3e3-6ab9a0e8ddcb",
   "metadata": {},
   "outputs": [],
   "source": [
    "# Define the default models\n",
    "models_dummy = {\n",
    "    'DummyClassifier: uniform': DummyClassifier(strategy='uniform', random_state=Config.RANDOM_STATE),\n",
    "    'DummyClassifier: most_frequent': DummyClassifier(strategy='most_frequent', random_state=Config.RANDOM_STATE),\n",
    "    'DummyClassifier: stratified': DummyClassifier(strategy='stratified', random_state=Config.RANDOM_STATE),\n",
    "}"
   ]
  },
  {
   "cell_type": "code",
   "execution_count": 61,
   "id": "a7cb9c0f-d499-40b1-bf03-da7978cf2893",
   "metadata": {},
   "outputs": [
    {
     "name": "stdout",
     "output_type": "stream",
     "text": [
      "DummyClassifier: uniform: Starting\n",
      ">>> (165866,) (165866,) (165866, 45)\n",
      ">>> [ 0  1  2  3  4  5  6  7  8  9 10 11 12 13 14 15 16 17 18 19 20 21 22 23\n",
      " 24 25 26 27 28 29 30 31 32 33 34 35 36 37 38 39 40 41 42 43 44]\n",
      ">>> [ 0  1  2  3  4  5  6  7  8  9 10 11 12 13 14 15 16 17 18 19 20 21 22 23\n",
      " 24 25 26 27 28 29 30 31 32 33 34 35 36 37 38 39 40 41 42 43 44]\n",
      ">>> [0.02222222]\n",
      "DummyClassifier: uniform: Done: 2.34s\n",
      "DummyClassifier: most_frequent: Starting\n",
      ">>> (165866,) (165866,) (165866, 45)\n",
      ">>> [ 0  1  2  3  4  5  6  7  8  9 10 11 12 13 14 15 16 17 18 19 20 21 22 23\n",
      " 24 25 26 27 28 29 30 31 32 33 34 35 36 37 38 39 40 41 42 43 44]\n",
      ">>> [16]\n",
      ">>> [0. 1.]\n"
     ]
    },
    {
     "name": "stderr",
     "output_type": "stream",
     "text": [
      "/opt/anaconda3/lib/python3.11/site-packages/sklearn/metrics/_classification.py:1531: UndefinedMetricWarning: Precision is ill-defined and being set to 0.0 in labels with no predicted samples. Use `zero_division` parameter to control this behavior.\n",
      "  _warn_prf(average, modifier, f\"{metric.capitalize()} is\", len(result))\n"
     ]
    },
    {
     "name": "stdout",
     "output_type": "stream",
     "text": [
      "DummyClassifier: most_frequent: Done: 2.76s\n",
      "DummyClassifier: stratified: Starting\n",
      ">>> (165866,) (165866,) (165866, 45)\n",
      ">>> [ 0  1  2  3  4  5  6  7  8  9 10 11 12 13 14 15 16 17 18 19 20 21 22 23\n",
      " 24 25 26 27 28 29 30 31 32 33 34 35 36 37 38 39 40 41 42 43 44]\n",
      ">>> [ 0  1  2  3  4  5  6  7  8  9 10 11 12 13 14 15 16 17 18 19 20 21 22 23\n",
      " 24 25 26 27 28 29 30 31 32 33 34 35 36 37 38 39 40 41 42 43 44]\n",
      ">>> [0. 1.]\n",
      "DummyClassifier: stratified: Done: 5.19s\n"
     ]
    }
   ],
   "source": [
    "for name, model in models_dummy.items():\n",
    "    # Get metrics row for the report - will fit() and predict() to generate metrics\n",
    "    results_defaults[name] = build_results_row(name, model, X_train_scaled, X_test_scaled, y_train, y_test)"
   ]
  },
  {
   "cell_type": "code",
   "execution_count": 62,
   "id": "8e04a9d6-78c2-44c0-be2c-3070b772558e",
   "metadata": {},
   "outputs": [
    {
     "data": {
      "text/html": [
       "<div>\n",
       "<style scoped>\n",
       "    .dataframe tbody tr th:only-of-type {\n",
       "        vertical-align: middle;\n",
       "    }\n",
       "\n",
       "    .dataframe tbody tr th {\n",
       "        vertical-align: top;\n",
       "    }\n",
       "\n",
       "    .dataframe thead th {\n",
       "        text-align: right;\n",
       "    }\n",
       "</style>\n",
       "<table border=\"1\" class=\"dataframe\">\n",
       "  <thead>\n",
       "    <tr style=\"text-align: right;\">\n",
       "      <th></th>\n",
       "      <th>Train Time</th>\n",
       "      <th>Train Accuracy</th>\n",
       "      <th>Test Accuracy</th>\n",
       "      <th>Precision</th>\n",
       "      <th>Recall</th>\n",
       "      <th>F1</th>\n",
       "      <th>AUC</th>\n",
       "      <th>Log_loss</th>\n",
       "      <th>TN</th>\n",
       "      <th>FP</th>\n",
       "      <th>FN</th>\n",
       "      <th>TP</th>\n",
       "    </tr>\n",
       "  </thead>\n",
       "  <tbody>\n",
       "    <tr>\n",
       "      <th>DummyClassifier: most_frequent</th>\n",
       "      <td>0.07s</td>\n",
       "      <td>28.93%</td>\n",
       "      <td>28.93%</td>\n",
       "      <td>8.37%</td>\n",
       "      <td>28.93%</td>\n",
       "      <td>12.98%</td>\n",
       "      <td>50.00%</td>\n",
       "      <td>25.617535643729592</td>\n",
       "      <td>0</td>\n",
       "      <td>0</td>\n",
       "      <td>0</td>\n",
       "      <td>0</td>\n",
       "    </tr>\n",
       "    <tr>\n",
       "      <th>DummyClassifier: uniform</th>\n",
       "      <td>0.07s</td>\n",
       "      <td>2.21%</td>\n",
       "      <td>2.21%</td>\n",
       "      <td>11.62%</td>\n",
       "      <td>2.21%</td>\n",
       "      <td>3.12%</td>\n",
       "      <td>50.00%</td>\n",
       "      <td>3.8066624897703183</td>\n",
       "      <td>16</td>\n",
       "      <td>19</td>\n",
       "      <td>240</td>\n",
       "      <td>242</td>\n",
       "    </tr>\n",
       "    <tr>\n",
       "      <th>DummyClassifier: stratified</th>\n",
       "      <td>0.09s</td>\n",
       "      <td>11.55%</td>\n",
       "      <td>11.44%</td>\n",
       "      <td>11.46%</td>\n",
       "      <td>11.44%</td>\n",
       "      <td>11.45%</td>\n",
       "      <td>49.95%</td>\n",
       "      <td>31.920274739734527</td>\n",
       "      <td>1</td>\n",
       "      <td>35</td>\n",
       "      <td>43</td>\n",
       "      <td>722</td>\n",
       "    </tr>\n",
       "  </tbody>\n",
       "</table>\n",
       "</div>"
      ],
      "text/plain": [
       "                               Train Time Train Accuracy Test Accuracy  \\\n",
       "DummyClassifier: most_frequent      0.07s         28.93%        28.93%   \n",
       "DummyClassifier: uniform            0.07s          2.21%         2.21%   \n",
       "DummyClassifier: stratified         0.09s         11.55%        11.44%   \n",
       "\n",
       "                               Precision  Recall      F1     AUC  \\\n",
       "DummyClassifier: most_frequent     8.37%  28.93%  12.98%  50.00%   \n",
       "DummyClassifier: uniform          11.62%   2.21%   3.12%  50.00%   \n",
       "DummyClassifier: stratified       11.46%  11.44%  11.45%  49.95%   \n",
       "\n",
       "                                          Log_loss  TN  FP   FN   TP  \n",
       "DummyClassifier: most_frequent  25.617535643729592   0   0    0    0  \n",
       "DummyClassifier: uniform        3.8066624897703183  16  19  240  242  \n",
       "DummyClassifier: stratified     31.920274739734527   1  35   43  722  "
      ]
     },
     "execution_count": 62,
     "metadata": {},
     "output_type": "execute_result"
    }
   ],
   "source": [
    "# results_defaults_df = pd.DataFrame(results_defaults).T.sort_values(by='Test Accuracy', ascending=False)\n",
    "results_defaults_df = pd.DataFrame(results_defaults).T.sort_values(by='Test Accuracy', ascending=False)\n",
    "\n",
    "results_defaults_df[report_cols]"
   ]
  },
  {
   "cell_type": "code",
   "execution_count": 63,
   "id": "03e57bc9-2c8c-49c4-8caa-e4cbd783b137",
   "metadata": {},
   "outputs": [],
   "source": [
    "# if not Config.SUPPRESS_OUTPUT_FILES:\n",
    "#     dfi.export(results_defaults_df[report_cols], data_utils.Config.IMAGE_DIR / 'table_models_defaults.png')"
   ]
  },
  {
   "cell_type": "code",
   "execution_count": 64,
   "id": "168f2538-b45a-4ff7-8c20-93edf3598e41",
   "metadata": {},
   "outputs": [
    {
     "data": {
      "text/plain": [
       "{'DummyClassifier: uniform': {'Train Time': '0.07s',\n",
       "  'Train Accuracy': '2.21%',\n",
       "  'Test Accuracy': '2.21%',\n",
       "  'Precision': '11.62%',\n",
       "  'Recall': '2.21%',\n",
       "  'F1': '3.12%',\n",
       "  'AUC': '50.00%',\n",
       "  'Log_loss': '3.8066624897703183',\n",
       "  'preds': array([38, 28, 14, ..., 42, 14, 11]),\n",
       "  'probs': array([0.02222222, 0.02222222, 0.02222222, ..., 0.02222222, 0.02222222,\n",
       "         0.02222222]),\n",
       "  'cm': array([[ 16,  19,  11, ...,  13,   9,   9],\n",
       "         [240, 242, 237, ..., 252, 230, 253],\n",
       "         [217, 219, 216, ..., 223, 227, 204],\n",
       "         ...,\n",
       "         [122, 121, 127, ...,  96, 146, 118],\n",
       "         [ 19,  22,  14, ...,  16,  27,  29],\n",
       "         [ 30,  30,  40, ...,  33,  22,  30]]),\n",
       "  'TN': '16',\n",
       "  'FP': '19',\n",
       "  'FN': '240',\n",
       "  'TP': '242',\n",
       "  'params': {'constant': None, 'random_state': 42, 'strategy': 'uniform'},\n",
       "  'best_params': None,\n",
       "  'best_model': DummyClassifier(random_state=42, strategy='uniform')},\n",
       " 'DummyClassifier: most_frequent': {'Train Time': '0.07s',\n",
       "  'Train Accuracy': '28.93%',\n",
       "  'Test Accuracy': '28.93%',\n",
       "  'Precision': '8.37%',\n",
       "  'Recall': '28.93%',\n",
       "  'F1': '12.98%',\n",
       "  'AUC': '50.00%',\n",
       "  'Log_loss': '25.617535643729592',\n",
       "  'preds': array([16, 16, 16, ..., 16, 16, 16]),\n",
       "  'probs': array([0., 0., 0., ..., 0., 0., 0.]),\n",
       "  'cm': array([[0, 0, 0, ..., 0, 0, 0],\n",
       "         [0, 0, 0, ..., 0, 0, 0],\n",
       "         [0, 0, 0, ..., 0, 0, 0],\n",
       "         ...,\n",
       "         [0, 0, 0, ..., 0, 0, 0],\n",
       "         [0, 0, 0, ..., 0, 0, 0],\n",
       "         [0, 0, 0, ..., 0, 0, 0]]),\n",
       "  'TN': '0',\n",
       "  'FP': '0',\n",
       "  'FN': '0',\n",
       "  'TP': '0',\n",
       "  'params': {'constant': None,\n",
       "   'random_state': 42,\n",
       "   'strategy': 'most_frequent'},\n",
       "  'best_params': None,\n",
       "  'best_model': DummyClassifier(random_state=42, strategy='most_frequent')},\n",
       " 'DummyClassifier: stratified': {'Train Time': '0.09s',\n",
       "  'Train Accuracy': '11.55%',\n",
       "  'Test Accuracy': '11.44%',\n",
       "  'Precision': '11.46%',\n",
       "  'Recall': '11.44%',\n",
       "  'F1': '11.45%',\n",
       "  'AUC': '49.95%',\n",
       "  'Log_loss': '31.920274739734527',\n",
       "  'preds': array([ 1, 31, 16, ..., 16, 30, 19]),\n",
       "  'probs': array([1., 0., 0., ..., 0., 0., 0.]),\n",
       "  'cm': array([[  1,  35,  37, ...,  21,   3,   5],\n",
       "         [ 43, 722, 656, ..., 331,  59,  86],\n",
       "         [ 28, 693, 594, ..., 301,  53,  70],\n",
       "         ...,\n",
       "         [ 15, 357, 282, ..., 186,  32,  37],\n",
       "         [  2,  63,  59, ...,  31,   4,   9],\n",
       "         [  5,  84,  74, ...,  37,   5,   8]]),\n",
       "  'TN': '1',\n",
       "  'FP': '35',\n",
       "  'FN': '43',\n",
       "  'TP': '722',\n",
       "  'params': {'constant': None, 'random_state': 42, 'strategy': 'stratified'},\n",
       "  'best_params': None,\n",
       "  'best_model': DummyClassifier(random_state=42, strategy='stratified')}}"
      ]
     },
     "execution_count": 64,
     "metadata": {},
     "output_type": "execute_result"
    }
   ],
   "source": [
    "results_defaults"
   ]
  },
  {
   "cell_type": "markdown",
   "id": "35f136c8-f464-4df2-97cd-44f49c51c34c",
   "metadata": {},
   "source": [
    "### LogisticRegresson (L1)"
   ]
  },
  {
   "cell_type": "code",
   "execution_count": 66,
   "id": "1686cc28-bbd4-4401-a951-7e13fa39bf4f",
   "metadata": {},
   "outputs": [
    {
     "name": "stdout",
     "output_type": "stream",
     "text": [
      "LogisticRegression: Starting\n"
     ]
    },
    {
     "name": "stderr",
     "output_type": "stream",
     "text": [
      "[Parallel(n_jobs=3)]: Using backend ThreadingBackend with 3 concurrent workers.\n"
     ]
    },
    {
     "name": "stdout",
     "output_type": "stream",
     "text": [
      "convergence after 30 epochs took 104 seconds\n",
      "LogisticRegression (L1): accuracy: 0.29198268481786505, log_loss: 2.6362135489065714\n",
      "LogisticRegression: Done: 1m 45.78s\n"
     ]
    }
   ],
   "source": [
    "name='LogisticRegression'\n",
    "print(f'{name}: Starting', flush=True)\n",
    "start_time = time.time()\n",
    "\n",
    "lr = LogisticRegression(penalty='l1', solver='saga',\n",
    "                        max_iter=1000, verbose=1, n_jobs=3, random_state=Config.RANDOM_STATE)\n",
    "\n",
    "lr.fit(X_train_scaled, y_train)\n",
    "y_preds = lr.predict(X_test_scaled)\n",
    "pred_probs = lr.predict_proba(X_test_scaled)\n",
    "lr_acc = accuracy_score(y_test, y_preds)\n",
    "lr_loss = log_loss(y_test, pred_probs)\n",
    "\n",
    "label='LogisticRegression (L1)'\n",
    "results.append([label, lr_acc, lr_loss, time_secs_to_msg(time.time()-start_time), lr.get_params()])\n",
    "print(f'{label}: accuracy: {lr_acc}, log_loss: {lr_loss}')\n",
    "\n",
    "print(f'{name}: Done: {time_secs_to_msg(time.time()-start_time)}')"
   ]
  },
  {
   "cell_type": "code",
   "execution_count": 67,
   "id": "57d70bbd-e721-4294-b149-3e838cdfc76b",
   "metadata": {},
   "outputs": [],
   "source": [
    "# Define the default models\n",
    "models_lr = {\n",
    "    'LogisticRegression: Default': LogisticRegression(random_state=Config.RANDOM_STATE),\n",
    "    'LogisticRegression: L1 / saga': LogisticRegression(penalty='l1', solver='saga', max_iter=1000, \n",
    "                                                        verbose=1, n_jobs=3, random_state=Config.RANDOM_STATE),\n",
    "}"
   ]
  },
  {
   "cell_type": "code",
   "execution_count": 68,
   "id": "a1e78695-cd8f-4317-944f-8d62cbb4e98f",
   "metadata": {},
   "outputs": [
    {
     "name": "stdout",
     "output_type": "stream",
     "text": [
      "LogisticRegression: Default: Starting\n",
      ">>> (165866,) (165866,) (165866, 45)\n",
      ">>> [ 0  1  2  3  4  5  6  7  8  9 10 11 12 13 14 15 16 17 18 19 20 21 22 23\n",
      " 24 25 26 27 28 29 30 31 32 33 34 35 36 37 38 39 40 41 42 43 44]\n",
      ">>> [ 1  7 12 16 22 26 30]\n",
      ">>> [1.75641513e-08 1.85709154e-08 1.87343785e-08 ... 6.57328892e-01\n",
      " 6.72390699e-01 6.76321225e-01]\n"
     ]
    },
    {
     "name": "stderr",
     "output_type": "stream",
     "text": [
      "/opt/anaconda3/lib/python3.11/site-packages/sklearn/metrics/_classification.py:1531: UndefinedMetricWarning: Precision is ill-defined and being set to 0.0 in labels with no predicted samples. Use `zero_division` parameter to control this behavior.\n",
      "  _warn_prf(average, modifier, f\"{metric.capitalize()} is\", len(result))\n"
     ]
    },
    {
     "name": "stdout",
     "output_type": "stream",
     "text": [
      "LogisticRegression: Default: Done: 2m 3.55s\n",
      "LogisticRegression: L1 / saga: Starting\n"
     ]
    },
    {
     "name": "stderr",
     "output_type": "stream",
     "text": [
      "[Parallel(n_jobs=3)]: Using backend ThreadingBackend with 3 concurrent workers.\n"
     ]
    },
    {
     "name": "stdout",
     "output_type": "stream",
     "text": [
      "convergence after 30 epochs took 89 seconds\n",
      ">>> (165866,) (165866,) (165866, 45)\n",
      ">>> [ 0  1  2  3  4  5  6  7  8  9 10 11 12 13 14 15 16 17 18 19 20 21 22 23\n",
      " 24 25 26 27 28 29 30 31 32 33 34 35 36 37 38 39 40 41 42 43 44]\n",
      ">>> [ 1  7 12 16 22 26 30]\n",
      ">>> [5.43353199e-09 5.75068710e-09 5.84737997e-09 ... 6.57009082e-01\n",
      " 6.72288703e-01 6.76193414e-01]\n"
     ]
    },
    {
     "name": "stderr",
     "output_type": "stream",
     "text": [
      "/opt/anaconda3/lib/python3.11/site-packages/sklearn/metrics/_classification.py:1531: UndefinedMetricWarning: Precision is ill-defined and being set to 0.0 in labels with no predicted samples. Use `zero_division` parameter to control this behavior.\n",
      "  _warn_prf(average, modifier, f\"{metric.capitalize()} is\", len(result))\n"
     ]
    },
    {
     "name": "stdout",
     "output_type": "stream",
     "text": [
      "LogisticRegression: L1 / saga: Done: 1m 34.24s\n"
     ]
    }
   ],
   "source": [
    "for name, model in models_lr.items():\n",
    "    # Get metrics row for the report - will fit() and predict() to generate metrics\n",
    "    results_defaults[name] = build_results_row(name, model, X_train_scaled, X_test_scaled, y_train, y_test)"
   ]
  },
  {
   "cell_type": "code",
   "execution_count": 69,
   "id": "48cf6689-b0c3-4f7e-bf06-4d82431936fb",
   "metadata": {
    "scrolled": true
   },
   "outputs": [
    {
     "data": {
      "text/html": [
       "<div>\n",
       "<style scoped>\n",
       "    .dataframe tbody tr th:only-of-type {\n",
       "        vertical-align: middle;\n",
       "    }\n",
       "\n",
       "    .dataframe tbody tr th {\n",
       "        vertical-align: top;\n",
       "    }\n",
       "\n",
       "    .dataframe thead th {\n",
       "        text-align: right;\n",
       "    }\n",
       "</style>\n",
       "<table border=\"1\" class=\"dataframe\">\n",
       "  <thead>\n",
       "    <tr style=\"text-align: right;\">\n",
       "      <th></th>\n",
       "      <th>Train Time</th>\n",
       "      <th>Train Accuracy</th>\n",
       "      <th>Test Accuracy</th>\n",
       "      <th>Precision</th>\n",
       "      <th>Recall</th>\n",
       "      <th>F1</th>\n",
       "      <th>AUC</th>\n",
       "      <th>Log_loss</th>\n",
       "      <th>TN</th>\n",
       "      <th>FP</th>\n",
       "      <th>FN</th>\n",
       "      <th>TP</th>\n",
       "    </tr>\n",
       "  </thead>\n",
       "  <tbody>\n",
       "    <tr>\n",
       "      <th>LogisticRegression: L1 / saga</th>\n",
       "      <td>1m 29.27s</td>\n",
       "      <td>29.19%</td>\n",
       "      <td>29.20%</td>\n",
       "      <td>14.15%</td>\n",
       "      <td>29.20%</td>\n",
       "      <td>14.66%</td>\n",
       "      <td>63.23%</td>\n",
       "      <td>2.6362135489065714</td>\n",
       "      <td>0</td>\n",
       "      <td>4</td>\n",
       "      <td>0</td>\n",
       "      <td>89</td>\n",
       "    </tr>\n",
       "    <tr>\n",
       "      <th>LogisticRegression: Default</th>\n",
       "      <td>1m 58.27s</td>\n",
       "      <td>29.19%</td>\n",
       "      <td>29.19%</td>\n",
       "      <td>13.94%</td>\n",
       "      <td>29.19%</td>\n",
       "      <td>14.65%</td>\n",
       "      <td>63.22%</td>\n",
       "      <td>2.6363059389563923</td>\n",
       "      <td>0</td>\n",
       "      <td>4</td>\n",
       "      <td>0</td>\n",
       "      <td>87</td>\n",
       "    </tr>\n",
       "    <tr>\n",
       "      <th>DummyClassifier: most_frequent</th>\n",
       "      <td>0.07s</td>\n",
       "      <td>28.93%</td>\n",
       "      <td>28.93%</td>\n",
       "      <td>8.37%</td>\n",
       "      <td>28.93%</td>\n",
       "      <td>12.98%</td>\n",
       "      <td>50.00%</td>\n",
       "      <td>25.617535643729592</td>\n",
       "      <td>0</td>\n",
       "      <td>0</td>\n",
       "      <td>0</td>\n",
       "      <td>0</td>\n",
       "    </tr>\n",
       "    <tr>\n",
       "      <th>DummyClassifier: uniform</th>\n",
       "      <td>0.07s</td>\n",
       "      <td>2.21%</td>\n",
       "      <td>2.21%</td>\n",
       "      <td>11.62%</td>\n",
       "      <td>2.21%</td>\n",
       "      <td>3.12%</td>\n",
       "      <td>50.00%</td>\n",
       "      <td>3.8066624897703183</td>\n",
       "      <td>16</td>\n",
       "      <td>19</td>\n",
       "      <td>240</td>\n",
       "      <td>242</td>\n",
       "    </tr>\n",
       "    <tr>\n",
       "      <th>DummyClassifier: stratified</th>\n",
       "      <td>0.09s</td>\n",
       "      <td>11.55%</td>\n",
       "      <td>11.44%</td>\n",
       "      <td>11.46%</td>\n",
       "      <td>11.44%</td>\n",
       "      <td>11.45%</td>\n",
       "      <td>49.95%</td>\n",
       "      <td>31.920274739734527</td>\n",
       "      <td>1</td>\n",
       "      <td>35</td>\n",
       "      <td>43</td>\n",
       "      <td>722</td>\n",
       "    </tr>\n",
       "  </tbody>\n",
       "</table>\n",
       "</div>"
      ],
      "text/plain": [
       "                               Train Time Train Accuracy Test Accuracy  \\\n",
       "LogisticRegression: L1 / saga   1m 29.27s         29.19%        29.20%   \n",
       "LogisticRegression: Default     1m 58.27s         29.19%        29.19%   \n",
       "DummyClassifier: most_frequent      0.07s         28.93%        28.93%   \n",
       "DummyClassifier: uniform            0.07s          2.21%         2.21%   \n",
       "DummyClassifier: stratified         0.09s         11.55%        11.44%   \n",
       "\n",
       "                               Precision  Recall      F1     AUC  \\\n",
       "LogisticRegression: L1 / saga     14.15%  29.20%  14.66%  63.23%   \n",
       "LogisticRegression: Default       13.94%  29.19%  14.65%  63.22%   \n",
       "DummyClassifier: most_frequent     8.37%  28.93%  12.98%  50.00%   \n",
       "DummyClassifier: uniform          11.62%   2.21%   3.12%  50.00%   \n",
       "DummyClassifier: stratified       11.46%  11.44%  11.45%  49.95%   \n",
       "\n",
       "                                          Log_loss  TN  FP   FN   TP  \n",
       "LogisticRegression: L1 / saga   2.6362135489065714   0   4    0   89  \n",
       "LogisticRegression: Default     2.6363059389563923   0   4    0   87  \n",
       "DummyClassifier: most_frequent  25.617535643729592   0   0    0    0  \n",
       "DummyClassifier: uniform        3.8066624897703183  16  19  240  242  \n",
       "DummyClassifier: stratified     31.920274739734527   1  35   43  722  "
      ]
     },
     "execution_count": 69,
     "metadata": {},
     "output_type": "execute_result"
    }
   ],
   "source": [
    "label=f'Model ({sample_file})'\n",
    "# results_defaults_df = pd.DataFrame(results_defaults).T.sort_values(by='Test Accuracy', ascending=False)\n",
    "results_defaults_df = pd.DataFrame(results_defaults).T.sort_values(by='Test Accuracy', ascending=False)\n",
    "\n",
    "results_defaults_df[report_cols]"
   ]
  },
  {
   "cell_type": "markdown",
   "id": "047fbe4a-cb4d-4451-8ae2-ebc715e1920c",
   "metadata": {},
   "source": [
    "### K-Nearest Neighbors"
   ]
  },
  {
   "cell_type": "code",
   "execution_count": 71,
   "id": "6c9c252f-7d9a-4d0b-80c5-61c78965b606",
   "metadata": {},
   "outputs": [
    {
     "name": "stdout",
     "output_type": "stream",
     "text": [
      "KNeighborsClassifier: Starting\n",
      "K-Nearest Neighbors: accuracy: 0.24825461517128283, log_loss: 18.790414742791288\n",
      "KNeighborsClassifier: Done: 2m 35.89s\n"
     ]
    }
   ],
   "source": [
    "name='KNeighborsClassifier'\n",
    "print(f'{name}: Starting', flush=True)\n",
    "start_time = time.time()\n",
    "\n",
    "knn = KNeighborsClassifier()\n",
    "knn.fit(X_train_scaled, y_train)\n",
    "y_preds = knn.predict(X_test_scaled)\n",
    "pred_probs = knn.predict_proba(X_test_scaled)\n",
    "knn_acc = accuracy_score(y_test, y_preds)\n",
    "knn_loss = log_loss(y_test, pred_probs)\n",
    "\n",
    "label='K-Nearest Neighbors'\n",
    "results.append([label, knn_acc, knn_loss, time_secs_to_msg(time.time()-start_time), knn.get_params()])\n",
    "print(f'{label}: accuracy: {knn_acc}, log_loss: {knn_loss}')\n",
    "\n",
    "print(f'{name}: Done: {time_secs_to_msg(time.time()-start_time)}')"
   ]
  },
  {
   "cell_type": "code",
   "execution_count": 72,
   "id": "7f4ed694-94ae-4a39-bc32-4fe09ead8c70",
   "metadata": {},
   "outputs": [],
   "source": [
    "# Define the default models\n",
    "models_knn = {\n",
    "    'KNeighborsClassifier: Default': KNeighborsClassifier(),\n",
    "}"
   ]
  },
  {
   "cell_type": "code",
   "execution_count": 73,
   "id": "48bea112-c440-4f52-92e5-dd6e1bd831b8",
   "metadata": {},
   "outputs": [
    {
     "name": "stdout",
     "output_type": "stream",
     "text": [
      "KNeighborsClassifier: Default: Starting\n",
      ">>> (165866,) (165866,) (165866, 45)\n",
      ">>> [ 0  1  2  3  4  5  6  7  8  9 10 11 12 13 14 15 16 17 18 19 20 21 22 23\n",
      " 24 25 26 27 28 29 30 31 32 33 34 35 36 37 38 39 40 41 42 43 44]\n",
      ">>> [ 0  1  2  3  4  5  6  7  8  9 10 11 12 13 14 15 16 17 18 19 20 21 22 23\n",
      " 24 25 26 27 28 29 30 31 32 33 34 35 36 37 38 39 40 42 43 44]\n",
      ">>> [0.  0.2 0.4 0.6 0.8 1. ]\n"
     ]
    },
    {
     "name": "stderr",
     "output_type": "stream",
     "text": [
      "/opt/anaconda3/lib/python3.11/site-packages/sklearn/metrics/_classification.py:1531: UndefinedMetricWarning: Precision is ill-defined and being set to 0.0 in labels with no predicted samples. Use `zero_division` parameter to control this behavior.\n",
      "  _warn_prf(average, modifier, f\"{metric.capitalize()} is\", len(result))\n"
     ]
    },
    {
     "name": "stdout",
     "output_type": "stream",
     "text": [
      "KNeighborsClassifier: Default: Done: 8m 5.54s\n"
     ]
    }
   ],
   "source": [
    "for name, model in models_knn.items():\n",
    "    # Get metrics row for the report - will fit() and predict() to generate metrics\n",
    "    results_defaults[name] = build_results_row(name, model, X_train_scaled, X_test_scaled, y_train, y_test)"
   ]
  },
  {
   "cell_type": "code",
   "execution_count": 74,
   "id": "74e43f76-f433-4b55-b888-610a135c0e12",
   "metadata": {
    "scrolled": true
   },
   "outputs": [
    {
     "data": {
      "text/html": [
       "<div>\n",
       "<style scoped>\n",
       "    .dataframe tbody tr th:only-of-type {\n",
       "        vertical-align: middle;\n",
       "    }\n",
       "\n",
       "    .dataframe tbody tr th {\n",
       "        vertical-align: top;\n",
       "    }\n",
       "\n",
       "    .dataframe thead th {\n",
       "        text-align: right;\n",
       "    }\n",
       "</style>\n",
       "<table border=\"1\" class=\"dataframe\">\n",
       "  <thead>\n",
       "    <tr style=\"text-align: right;\">\n",
       "      <th></th>\n",
       "      <th>Train Time</th>\n",
       "      <th>Train Accuracy</th>\n",
       "      <th>Test Accuracy</th>\n",
       "      <th>Precision</th>\n",
       "      <th>Recall</th>\n",
       "      <th>F1</th>\n",
       "      <th>AUC</th>\n",
       "      <th>Log_loss</th>\n",
       "      <th>TN</th>\n",
       "      <th>FP</th>\n",
       "      <th>FN</th>\n",
       "      <th>TP</th>\n",
       "    </tr>\n",
       "  </thead>\n",
       "  <tbody>\n",
       "    <tr>\n",
       "      <th>LogisticRegression: L1 / saga</th>\n",
       "      <td>1m 29.27s</td>\n",
       "      <td>29.19%</td>\n",
       "      <td>29.20%</td>\n",
       "      <td>14.15%</td>\n",
       "      <td>29.20%</td>\n",
       "      <td>14.66%</td>\n",
       "      <td>63.23%</td>\n",
       "      <td>2.6362135489065714</td>\n",
       "      <td>0</td>\n",
       "      <td>4</td>\n",
       "      <td>0</td>\n",
       "      <td>89</td>\n",
       "    </tr>\n",
       "    <tr>\n",
       "      <th>LogisticRegression: Default</th>\n",
       "      <td>1m 58.27s</td>\n",
       "      <td>29.19%</td>\n",
       "      <td>29.19%</td>\n",
       "      <td>13.94%</td>\n",
       "      <td>29.19%</td>\n",
       "      <td>14.65%</td>\n",
       "      <td>63.22%</td>\n",
       "      <td>2.6363059389563923</td>\n",
       "      <td>0</td>\n",
       "      <td>4</td>\n",
       "      <td>0</td>\n",
       "      <td>87</td>\n",
       "    </tr>\n",
       "    <tr>\n",
       "      <th>DummyClassifier: most_frequent</th>\n",
       "      <td>0.07s</td>\n",
       "      <td>28.93%</td>\n",
       "      <td>28.93%</td>\n",
       "      <td>8.37%</td>\n",
       "      <td>28.93%</td>\n",
       "      <td>12.98%</td>\n",
       "      <td>50.00%</td>\n",
       "      <td>25.617535643729592</td>\n",
       "      <td>0</td>\n",
       "      <td>0</td>\n",
       "      <td>0</td>\n",
       "      <td>0</td>\n",
       "    </tr>\n",
       "    <tr>\n",
       "      <th>KNeighborsClassifier: Default</th>\n",
       "      <td>1.72s</td>\n",
       "      <td>44.13%</td>\n",
       "      <td>24.83%</td>\n",
       "      <td>19.91%</td>\n",
       "      <td>24.83%</td>\n",
       "      <td>20.96%</td>\n",
       "      <td>61.19%</td>\n",
       "      <td>18.790414742791288</td>\n",
       "      <td>36</td>\n",
       "      <td>81</td>\n",
       "      <td>92</td>\n",
       "      <td>2,648</td>\n",
       "    </tr>\n",
       "    <tr>\n",
       "      <th>DummyClassifier: uniform</th>\n",
       "      <td>0.07s</td>\n",
       "      <td>2.21%</td>\n",
       "      <td>2.21%</td>\n",
       "      <td>11.62%</td>\n",
       "      <td>2.21%</td>\n",
       "      <td>3.12%</td>\n",
       "      <td>50.00%</td>\n",
       "      <td>3.8066624897703183</td>\n",
       "      <td>16</td>\n",
       "      <td>19</td>\n",
       "      <td>240</td>\n",
       "      <td>242</td>\n",
       "    </tr>\n",
       "    <tr>\n",
       "      <th>DummyClassifier: stratified</th>\n",
       "      <td>0.09s</td>\n",
       "      <td>11.55%</td>\n",
       "      <td>11.44%</td>\n",
       "      <td>11.46%</td>\n",
       "      <td>11.44%</td>\n",
       "      <td>11.45%</td>\n",
       "      <td>49.95%</td>\n",
       "      <td>31.920274739734527</td>\n",
       "      <td>1</td>\n",
       "      <td>35</td>\n",
       "      <td>43</td>\n",
       "      <td>722</td>\n",
       "    </tr>\n",
       "  </tbody>\n",
       "</table>\n",
       "</div>"
      ],
      "text/plain": [
       "                               Train Time Train Accuracy Test Accuracy  \\\n",
       "LogisticRegression: L1 / saga   1m 29.27s         29.19%        29.20%   \n",
       "LogisticRegression: Default     1m 58.27s         29.19%        29.19%   \n",
       "DummyClassifier: most_frequent      0.07s         28.93%        28.93%   \n",
       "KNeighborsClassifier: Default       1.72s         44.13%        24.83%   \n",
       "DummyClassifier: uniform            0.07s          2.21%         2.21%   \n",
       "DummyClassifier: stratified         0.09s         11.55%        11.44%   \n",
       "\n",
       "                               Precision  Recall      F1     AUC  \\\n",
       "LogisticRegression: L1 / saga     14.15%  29.20%  14.66%  63.23%   \n",
       "LogisticRegression: Default       13.94%  29.19%  14.65%  63.22%   \n",
       "DummyClassifier: most_frequent     8.37%  28.93%  12.98%  50.00%   \n",
       "KNeighborsClassifier: Default     19.91%  24.83%  20.96%  61.19%   \n",
       "DummyClassifier: uniform          11.62%   2.21%   3.12%  50.00%   \n",
       "DummyClassifier: stratified       11.46%  11.44%  11.45%  49.95%   \n",
       "\n",
       "                                          Log_loss  TN  FP   FN     TP  \n",
       "LogisticRegression: L1 / saga   2.6362135489065714   0   4    0     89  \n",
       "LogisticRegression: Default     2.6363059389563923   0   4    0     87  \n",
       "DummyClassifier: most_frequent  25.617535643729592   0   0    0      0  \n",
       "KNeighborsClassifier: Default   18.790414742791288  36  81   92  2,648  \n",
       "DummyClassifier: uniform        3.8066624897703183  16  19  240    242  \n",
       "DummyClassifier: stratified     31.920274739734527   1  35   43    722  "
      ]
     },
     "execution_count": 74,
     "metadata": {},
     "output_type": "execute_result"
    }
   ],
   "source": [
    "label=f'Model ({sample_file})'\n",
    "# results_defaults_df = pd.DataFrame(results_defaults).T.sort_values(by='Test Accuracy', ascending=False)\n",
    "results_defaults_df = pd.DataFrame(results_defaults).T.sort_values(by='Test Accuracy', ascending=False)\n",
    "\n",
    "results_defaults_df[report_cols]"
   ]
  },
  {
   "cell_type": "markdown",
   "id": "38734a75-2502-4ca4-894c-eca9deb5e283",
   "metadata": {},
   "source": [
    "### Random Forest Ensemble"
   ]
  },
  {
   "cell_type": "code",
   "execution_count": 76,
   "id": "2e54227e-275d-4948-966e-2341fffc861e",
   "metadata": {},
   "outputs": [
    {
     "name": "stdout",
     "output_type": "stream",
     "text": [
      "RandomForestClassifier: Starting\n"
     ]
    },
    {
     "name": "stderr",
     "output_type": "stream",
     "text": [
      "[Parallel(n_jobs=2)]: Using backend ThreadingBackend with 2 concurrent workers.\n",
      "[Parallel(n_jobs=2)]: Done  46 tasks      | elapsed:   46.3s\n",
      "[Parallel(n_jobs=2)]: Done 100 out of 100 | elapsed:  1.7min finished\n",
      "[Parallel(n_jobs=2)]: Using backend ThreadingBackend with 2 concurrent workers.\n",
      "[Parallel(n_jobs=2)]: Done  46 tasks      | elapsed:    1.6s\n",
      "[Parallel(n_jobs=2)]: Done 100 out of 100 | elapsed:    3.2s finished\n",
      "[Parallel(n_jobs=2)]: Using backend ThreadingBackend with 2 concurrent workers.\n",
      "[Parallel(n_jobs=2)]: Done  46 tasks      | elapsed:    2.0s\n"
     ]
    },
    {
     "name": "stdout",
     "output_type": "stream",
     "text": [
      "Random Forest: accuracy: 0.3304715854967263, log_loss: 2.4068490030416556\n",
      "RandomForestClassifier: Done: 1m 49.93s\n"
     ]
    },
    {
     "name": "stderr",
     "output_type": "stream",
     "text": [
      "[Parallel(n_jobs=2)]: Done 100 out of 100 | elapsed:    3.5s finished\n"
     ]
    }
   ],
   "source": [
    "name='RandomForestClassifier'\n",
    "print(f'{name}: Starting', flush=True)\n",
    "start_time = time.time()\n",
    "\n",
    "rf = RandomForestClassifier(n_estimators=n_estimators, max_depth=15,\n",
    "                            min_samples_leaf=5, min_samples_split=25, \n",
    "                            random_state=Config.RANDOM_STATE, verbose=1, n_jobs=2)\n",
    "rf.fit(X_train_scaled, y_train)\n",
    "y_preds = rf.predict(X_test_scaled)\n",
    "pred_probs = rf.predict_proba(X_test_scaled)\n",
    "rf_acc = accuracy_score(y_test, y_preds)\n",
    "rf_loss = log_loss(y_test, pred_probs)\n",
    "\n",
    "label='Random Forest'\n",
    "results.append([label, rf_acc, rf_loss, time_secs_to_msg(time.time()-start_time), rf.get_params()])\n",
    "print(f'{label}: accuracy: {rf_acc}, log_loss: {rf_loss}')\n",
    "\n",
    "print(f'{name}: Done: {time_secs_to_msg(time.time()-start_time)}')"
   ]
  },
  {
   "cell_type": "code",
   "execution_count": 77,
   "id": "d297d92c-6010-4688-9160-b4dc146cb605",
   "metadata": {},
   "outputs": [],
   "source": [
    "# Define the default models\n",
    "models_rf = {\n",
    "    'RandomForestClassifier: Default': RandomForestClassifier(random_state=Config.RANDOM_STATE),\n",
    "    f'RandomForestClassifier: n_e={n_estimators}, mx_d={15}': RandomForestClassifier(n_estimators=n_estimators, max_depth=15,\n",
    "                                                              min_samples_leaf=5, min_samples_split=25, \n",
    "                                                              random_state=Config.RANDOM_STATE, \n",
    "                                                              verbose=1, n_jobs=2),\n",
    "}"
   ]
  },
  {
   "cell_type": "code",
   "execution_count": 78,
   "id": "c320d53e-a796-4ef1-a9f4-efca77ef2750",
   "metadata": {},
   "outputs": [
    {
     "name": "stdout",
     "output_type": "stream",
     "text": [
      "RandomForestClassifier: Default: Starting\n",
      ">>> (165866,) (165866,) (165866, 45)\n",
      ">>> [ 0  1  2  3  4  5  6  7  8  9 10 11 12 13 14 15 16 17 18 19 20 21 22 23\n",
      " 24 25 26 27 28 29 30 31 32 33 34 35 36 37 38 39 40 41 42 43 44]\n",
      ">>> [ 0  1  2  3  4  5  6  7  8  9 10 11 12 13 14 15 16 17 18 19 20 21 22 23\n",
      " 24 25 26 27 28 29 30 31 32 33 34 35 36 37 38 39 40 41 42 43 44]\n",
      ">>> [0.00000000e+00 4.76190476e-04 5.00000000e-04 ... 9.96666667e-01\n",
      " 9.96666667e-01 1.00000000e+00]\n",
      "RandomForestClassifier: Default: Done: 9m 13.14s\n",
      "RandomForestClassifier: n_e=100, mx_d=15: Starting\n"
     ]
    },
    {
     "name": "stderr",
     "output_type": "stream",
     "text": [
      "[Parallel(n_jobs=2)]: Using backend ThreadingBackend with 2 concurrent workers.\n",
      "[Parallel(n_jobs=2)]: Done  46 tasks      | elapsed:   47.8s\n",
      "[Parallel(n_jobs=2)]: Done 100 out of 100 | elapsed:  1.5min finished\n",
      "[Parallel(n_jobs=2)]: Using backend ThreadingBackend with 2 concurrent workers.\n",
      "[Parallel(n_jobs=2)]: Done  46 tasks      | elapsed:    1.6s\n",
      "[Parallel(n_jobs=2)]: Done 100 out of 100 | elapsed:    3.0s finished\n",
      "[Parallel(n_jobs=2)]: Using backend ThreadingBackend with 2 concurrent workers.\n",
      "[Parallel(n_jobs=2)]: Done  46 tasks      | elapsed:    1.2s\n",
      "[Parallel(n_jobs=2)]: Done 100 out of 100 | elapsed:    2.7s finished\n"
     ]
    },
    {
     "name": "stdout",
     "output_type": "stream",
     "text": [
      ">>> (165866,) (165866,) (165866, 45)\n",
      ">>> [ 0  1  2  3  4  5  6  7  8  9 10 11 12 13 14 15 16 17 18 19 20 21 22 23\n",
      " 24 25 26 27 28 29 30 31 32 33 34 35 36 37 38 39 40 41 42 43 44]\n",
      ">>> [ 1  2  4  6  7 12 16 19 20 21 22 23 24 25 26 27 28 30 31 32 36 38 42 43\n",
      " 44]\n",
      ">>> [0.00000000e+00 5.14271021e-07 6.02083208e-07 ... 9.25122769e-01\n",
      " 9.32655323e-01 9.33339876e-01]\n"
     ]
    },
    {
     "name": "stderr",
     "output_type": "stream",
     "text": [
      "[Parallel(n_jobs=2)]: Using backend ThreadingBackend with 2 concurrent workers.\n",
      "[Parallel(n_jobs=2)]: Done  46 tasks      | elapsed:    9.9s\n",
      "[Parallel(n_jobs=2)]: Done 100 out of 100 | elapsed:   19.4s finished\n",
      "[Parallel(n_jobs=2)]: Using backend ThreadingBackend with 2 concurrent workers.\n",
      "[Parallel(n_jobs=2)]: Done  46 tasks      | elapsed:    1.2s\n",
      "[Parallel(n_jobs=2)]: Done 100 out of 100 | elapsed:    2.7s finished\n",
      "/opt/anaconda3/lib/python3.11/site-packages/sklearn/metrics/_classification.py:1531: UndefinedMetricWarning: Precision is ill-defined and being set to 0.0 in labels with no predicted samples. Use `zero_division` parameter to control this behavior.\n",
      "  _warn_prf(average, modifier, f\"{metric.capitalize()} is\", len(result))\n"
     ]
    },
    {
     "name": "stdout",
     "output_type": "stream",
     "text": [
      "RandomForestClassifier: n_e=100, mx_d=15: Done: 2m 3.05s\n"
     ]
    }
   ],
   "source": [
    "for name, model in models_rf.items():\n",
    "    # Get metrics row for the report - will fit() and predict() to generate metrics\n",
    "    results_defaults[name] = build_results_row(name, model, X_train_scaled, X_test_scaled, y_train, y_test)"
   ]
  },
  {
   "cell_type": "code",
   "execution_count": 79,
   "id": "65be6399-196f-4c11-abb0-e4c65d94333f",
   "metadata": {
    "scrolled": true
   },
   "outputs": [
    {
     "data": {
      "text/html": [
       "<div>\n",
       "<style scoped>\n",
       "    .dataframe tbody tr th:only-of-type {\n",
       "        vertical-align: middle;\n",
       "    }\n",
       "\n",
       "    .dataframe tbody tr th {\n",
       "        vertical-align: top;\n",
       "    }\n",
       "\n",
       "    .dataframe thead th {\n",
       "        text-align: right;\n",
       "    }\n",
       "</style>\n",
       "<table border=\"1\" class=\"dataframe\">\n",
       "  <thead>\n",
       "    <tr style=\"text-align: right;\">\n",
       "      <th></th>\n",
       "      <th>Train Time</th>\n",
       "      <th>Train Accuracy</th>\n",
       "      <th>Test Accuracy</th>\n",
       "      <th>Precision</th>\n",
       "      <th>Recall</th>\n",
       "      <th>F1</th>\n",
       "      <th>AUC</th>\n",
       "      <th>Log_loss</th>\n",
       "      <th>TN</th>\n",
       "      <th>FP</th>\n",
       "      <th>FN</th>\n",
       "      <th>TP</th>\n",
       "    </tr>\n",
       "  </thead>\n",
       "  <tbody>\n",
       "    <tr>\n",
       "      <th>RandomForestClassifier: Default</th>\n",
       "      <td>4m 50.12s</td>\n",
       "      <td>87.94%</td>\n",
       "      <td>33.97%</td>\n",
       "      <td>28.66%</td>\n",
       "      <td>33.97%</td>\n",
       "      <td>29.36%</td>\n",
       "      <td>72.13%</td>\n",
       "      <td>5.68160131627927</td>\n",
       "      <td>40</td>\n",
       "      <td>45</td>\n",
       "      <td>11</td>\n",
       "      <td>2,236</td>\n",
       "    </tr>\n",
       "    <tr>\n",
       "      <th>RandomForestClassifier: n_e=100, mx_d=15</th>\n",
       "      <td>1m 31.71s</td>\n",
       "      <td>35.67%</td>\n",
       "      <td>33.05%</td>\n",
       "      <td>28.66%</td>\n",
       "      <td>33.05%</td>\n",
       "      <td>21.77%</td>\n",
       "      <td>74.16%</td>\n",
       "      <td>2.4068490030416556</td>\n",
       "      <td>0</td>\n",
       "      <td>43</td>\n",
       "      <td>0</td>\n",
       "      <td>1,543</td>\n",
       "    </tr>\n",
       "    <tr>\n",
       "      <th>LogisticRegression: L1 / saga</th>\n",
       "      <td>1m 29.27s</td>\n",
       "      <td>29.19%</td>\n",
       "      <td>29.20%</td>\n",
       "      <td>14.15%</td>\n",
       "      <td>29.20%</td>\n",
       "      <td>14.66%</td>\n",
       "      <td>63.23%</td>\n",
       "      <td>2.6362135489065714</td>\n",
       "      <td>0</td>\n",
       "      <td>4</td>\n",
       "      <td>0</td>\n",
       "      <td>89</td>\n",
       "    </tr>\n",
       "    <tr>\n",
       "      <th>LogisticRegression: Default</th>\n",
       "      <td>1m 58.27s</td>\n",
       "      <td>29.19%</td>\n",
       "      <td>29.19%</td>\n",
       "      <td>13.94%</td>\n",
       "      <td>29.19%</td>\n",
       "      <td>14.65%</td>\n",
       "      <td>63.22%</td>\n",
       "      <td>2.6363059389563923</td>\n",
       "      <td>0</td>\n",
       "      <td>4</td>\n",
       "      <td>0</td>\n",
       "      <td>87</td>\n",
       "    </tr>\n",
       "    <tr>\n",
       "      <th>DummyClassifier: most_frequent</th>\n",
       "      <td>0.07s</td>\n",
       "      <td>28.93%</td>\n",
       "      <td>28.93%</td>\n",
       "      <td>8.37%</td>\n",
       "      <td>28.93%</td>\n",
       "      <td>12.98%</td>\n",
       "      <td>50.00%</td>\n",
       "      <td>25.617535643729592</td>\n",
       "      <td>0</td>\n",
       "      <td>0</td>\n",
       "      <td>0</td>\n",
       "      <td>0</td>\n",
       "    </tr>\n",
       "    <tr>\n",
       "      <th>KNeighborsClassifier: Default</th>\n",
       "      <td>1.72s</td>\n",
       "      <td>44.13%</td>\n",
       "      <td>24.83%</td>\n",
       "      <td>19.91%</td>\n",
       "      <td>24.83%</td>\n",
       "      <td>20.96%</td>\n",
       "      <td>61.19%</td>\n",
       "      <td>18.790414742791288</td>\n",
       "      <td>36</td>\n",
       "      <td>81</td>\n",
       "      <td>92</td>\n",
       "      <td>2,648</td>\n",
       "    </tr>\n",
       "    <tr>\n",
       "      <th>DummyClassifier: uniform</th>\n",
       "      <td>0.07s</td>\n",
       "      <td>2.21%</td>\n",
       "      <td>2.21%</td>\n",
       "      <td>11.62%</td>\n",
       "      <td>2.21%</td>\n",
       "      <td>3.12%</td>\n",
       "      <td>50.00%</td>\n",
       "      <td>3.8066624897703183</td>\n",
       "      <td>16</td>\n",
       "      <td>19</td>\n",
       "      <td>240</td>\n",
       "      <td>242</td>\n",
       "    </tr>\n",
       "    <tr>\n",
       "      <th>DummyClassifier: stratified</th>\n",
       "      <td>0.09s</td>\n",
       "      <td>11.55%</td>\n",
       "      <td>11.44%</td>\n",
       "      <td>11.46%</td>\n",
       "      <td>11.44%</td>\n",
       "      <td>11.45%</td>\n",
       "      <td>49.95%</td>\n",
       "      <td>31.920274739734527</td>\n",
       "      <td>1</td>\n",
       "      <td>35</td>\n",
       "      <td>43</td>\n",
       "      <td>722</td>\n",
       "    </tr>\n",
       "  </tbody>\n",
       "</table>\n",
       "</div>"
      ],
      "text/plain": [
       "                                         Train Time Train Accuracy  \\\n",
       "RandomForestClassifier: Default           4m 50.12s         87.94%   \n",
       "RandomForestClassifier: n_e=100, mx_d=15  1m 31.71s         35.67%   \n",
       "LogisticRegression: L1 / saga             1m 29.27s         29.19%   \n",
       "LogisticRegression: Default               1m 58.27s         29.19%   \n",
       "DummyClassifier: most_frequent                0.07s         28.93%   \n",
       "KNeighborsClassifier: Default                 1.72s         44.13%   \n",
       "DummyClassifier: uniform                      0.07s          2.21%   \n",
       "DummyClassifier: stratified                   0.09s         11.55%   \n",
       "\n",
       "                                         Test Accuracy Precision  Recall  \\\n",
       "RandomForestClassifier: Default                 33.97%    28.66%  33.97%   \n",
       "RandomForestClassifier: n_e=100, mx_d=15        33.05%    28.66%  33.05%   \n",
       "LogisticRegression: L1 / saga                   29.20%    14.15%  29.20%   \n",
       "LogisticRegression: Default                     29.19%    13.94%  29.19%   \n",
       "DummyClassifier: most_frequent                  28.93%     8.37%  28.93%   \n",
       "KNeighborsClassifier: Default                   24.83%    19.91%  24.83%   \n",
       "DummyClassifier: uniform                         2.21%    11.62%   2.21%   \n",
       "DummyClassifier: stratified                     11.44%    11.46%  11.44%   \n",
       "\n",
       "                                              F1     AUC            Log_loss  \\\n",
       "RandomForestClassifier: Default           29.36%  72.13%    5.68160131627927   \n",
       "RandomForestClassifier: n_e=100, mx_d=15  21.77%  74.16%  2.4068490030416556   \n",
       "LogisticRegression: L1 / saga             14.66%  63.23%  2.6362135489065714   \n",
       "LogisticRegression: Default               14.65%  63.22%  2.6363059389563923   \n",
       "DummyClassifier: most_frequent            12.98%  50.00%  25.617535643729592   \n",
       "KNeighborsClassifier: Default             20.96%  61.19%  18.790414742791288   \n",
       "DummyClassifier: uniform                   3.12%  50.00%  3.8066624897703183   \n",
       "DummyClassifier: stratified               11.45%  49.95%  31.920274739734527   \n",
       "\n",
       "                                          TN  FP   FN     TP  \n",
       "RandomForestClassifier: Default           40  45   11  2,236  \n",
       "RandomForestClassifier: n_e=100, mx_d=15   0  43    0  1,543  \n",
       "LogisticRegression: L1 / saga              0   4    0     89  \n",
       "LogisticRegression: Default                0   4    0     87  \n",
       "DummyClassifier: most_frequent             0   0    0      0  \n",
       "KNeighborsClassifier: Default             36  81   92  2,648  \n",
       "DummyClassifier: uniform                  16  19  240    242  \n",
       "DummyClassifier: stratified                1  35   43    722  "
      ]
     },
     "execution_count": 79,
     "metadata": {},
     "output_type": "execute_result"
    }
   ],
   "source": [
    "label=f'Model ({sample_file})'\n",
    "# results_defaults_df = pd.DataFrame(results_defaults).T.sort_values(by='Test Accuracy', ascending=False)\n",
    "results_defaults_df = pd.DataFrame(results_defaults).T.sort_values(by='Test Accuracy', ascending=False)\n",
    "\n",
    "results_defaults_df[report_cols]"
   ]
  },
  {
   "cell_type": "markdown",
   "id": "5b7edefd-3ce3-4f63-8676-b2c5836b4374",
   "metadata": {},
   "source": [
    "### XGBoost Ensemble"
   ]
  },
  {
   "cell_type": "code",
   "execution_count": 81,
   "id": "595797b0-489b-4c69-818b-122132d46500",
   "metadata": {},
   "outputs": [
    {
     "name": "stdout",
     "output_type": "stream",
     "text": [
      "XGBClassifier: Starting\n",
      "XGBoost: accuracy: 0.061634090169172706, log_loss: 3.560720231745073\n",
      "XGBClassifier: Done: 4m 4.79s\n"
     ]
    }
   ],
   "source": [
    "name='XGBClassifier'\n",
    "print(f'{name}: Starting', flush=True)\n",
    "start_time = time.time()\n",
    "\n",
    "xgb_clf = XGBClassifier(n_estimators=n_estimators, objective=\"multi:softprob\", \n",
    "                        n_jobs=2, random_state=Config.RANDOM_STATE)\n",
    "xgb_clf.fit(X_train, y_train)\n",
    "y_preds = xgb_clf.predict(X_test_scaled)\n",
    "pred_probs = xgb_clf.predict_proba(X_test_scaled)\n",
    "xgb_acc = accuracy_score(y_test, y_preds)\n",
    "xgb_loss = log_loss(y_test, pred_probs)\n",
    "\n",
    "label='XGBoost'\n",
    "results.append([label, xgb_acc, xgb_loss, time_secs_to_msg(time.time()-start_time), xgb_clf.get_params()])\n",
    "print(f'{label}: accuracy: {xgb_acc}, log_loss: {xgb_loss}')\n",
    "\n",
    "print(f'{name}: Done: {time_secs_to_msg(time.time()-start_time)}')"
   ]
  },
  {
   "cell_type": "code",
   "execution_count": 82,
   "id": "39d5486a-e5ee-4cbd-bace-bdba7e4e04e1",
   "metadata": {},
   "outputs": [],
   "source": [
    "# Define the default models\n",
    "models_xgb = {\n",
    "    'XGBClassifier: Default': XGBClassifier(random_state=Config.RANDOM_STATE),\n",
    "    f'XGBClassifier: n_e={n_estimators}, mx_d={15}': XGBClassifier(n_estimators=n_estimators, objective=\"multi:softprob\", \n",
    "                        n_jobs=2, random_state=Config.RANDOM_STATE),\n",
    "}"
   ]
  },
  {
   "cell_type": "code",
   "execution_count": 83,
   "id": "2a36de23-7927-4c72-8199-b2398a14f06f",
   "metadata": {},
   "outputs": [
    {
     "name": "stdout",
     "output_type": "stream",
     "text": [
      "XGBClassifier: Default: Starting\n",
      ">>> (165866,) (165866,) (165866, 45)\n",
      ">>> [ 0  1  2  3  4  5  6  7  8  9 10 11 12 13 14 15 16 17 18 19 20 21 22 23\n",
      " 24 25 26 27 28 29 30 31 32 33 34 35 36 37 38 39 40 41 42 43 44]\n",
      ">>> [ 0  1  2  3  4  5  6  7  8  9 10 11 12 13 14 15 16 17 18 19 20 21 22 23\n",
      " 24 25 26 27 28 29 30 31 32 33 34 35 36 37 38 39 40 42 43 44]\n",
      ">>> [1.3565548e-08 1.5720673e-08 1.9377072e-08 ... 9.5342827e-01 9.5907706e-01\n",
      " 9.6252662e-01]\n"
     ]
    },
    {
     "name": "stderr",
     "output_type": "stream",
     "text": [
      "/opt/anaconda3/lib/python3.11/site-packages/sklearn/metrics/_classification.py:1531: UndefinedMetricWarning: Precision is ill-defined and being set to 0.0 in labels with no predicted samples. Use `zero_division` parameter to control this behavior.\n",
      "  _warn_prf(average, modifier, f\"{metric.capitalize()} is\", len(result))\n"
     ]
    },
    {
     "name": "stdout",
     "output_type": "stream",
     "text": [
      "XGBClassifier: Default: Done: 4m 39.14s\n",
      "XGBClassifier: n_e=100, mx_d=15: Starting\n",
      ">>> (165866,) (165866,) (165866, 45)\n",
      ">>> [ 0  1  2  3  4  5  6  7  8  9 10 11 12 13 14 15 16 17 18 19 20 21 22 23\n",
      " 24 25 26 27 28 29 30 31 32 33 34 35 36 37 38 39 40 41 42 43 44]\n",
      ">>> [ 0  1  2  3  4  5  6  7  8  9 10 11 12 13 14 15 16 17 18 19 20 21 22 23\n",
      " 24 25 26 27 28 29 30 31 32 33 34 35 36 37 38 39 40 42 43 44]\n",
      ">>> [1.3565548e-08 1.5720673e-08 1.9377072e-08 ... 9.5342827e-01 9.5907706e-01\n",
      " 9.6252662e-01]\n"
     ]
    },
    {
     "name": "stderr",
     "output_type": "stream",
     "text": [
      "/opt/anaconda3/lib/python3.11/site-packages/sklearn/metrics/_classification.py:1531: UndefinedMetricWarning: Precision is ill-defined and being set to 0.0 in labels with no predicted samples. Use `zero_division` parameter to control this behavior.\n",
      "  _warn_prf(average, modifier, f\"{metric.capitalize()} is\", len(result))\n"
     ]
    },
    {
     "name": "stdout",
     "output_type": "stream",
     "text": [
      "XGBClassifier: n_e=100, mx_d=15: Done: 4m 46.58s\n"
     ]
    }
   ],
   "source": [
    "for name, model in models_xgb.items():\n",
    "    # Get metrics row for the report - will fit() and predict() to generate metrics\n",
    "    results_defaults[name] = build_results_row(name, model, X_train_scaled, X_test_scaled, y_train, y_test)"
   ]
  },
  {
   "cell_type": "code",
   "execution_count": 84,
   "id": "eae09f80-de51-40b2-86b4-6f5fc102eb8a",
   "metadata": {
    "scrolled": true
   },
   "outputs": [
    {
     "data": {
      "text/html": [
       "<div>\n",
       "<style scoped>\n",
       "    .dataframe tbody tr th:only-of-type {\n",
       "        vertical-align: middle;\n",
       "    }\n",
       "\n",
       "    .dataframe tbody tr th {\n",
       "        vertical-align: top;\n",
       "    }\n",
       "\n",
       "    .dataframe thead th {\n",
       "        text-align: right;\n",
       "    }\n",
       "</style>\n",
       "<table border=\"1\" class=\"dataframe\">\n",
       "  <thead>\n",
       "    <tr style=\"text-align: right;\">\n",
       "      <th></th>\n",
       "      <th>Train Time</th>\n",
       "      <th>Train Accuracy</th>\n",
       "      <th>Test Accuracy</th>\n",
       "      <th>Precision</th>\n",
       "      <th>Recall</th>\n",
       "      <th>F1</th>\n",
       "      <th>AUC</th>\n",
       "      <th>Log_loss</th>\n",
       "      <th>TN</th>\n",
       "      <th>FP</th>\n",
       "      <th>FN</th>\n",
       "      <th>TP</th>\n",
       "    </tr>\n",
       "  </thead>\n",
       "  <tbody>\n",
       "    <tr>\n",
       "      <th>RandomForestClassifier: Default</th>\n",
       "      <td>4m 50.12s</td>\n",
       "      <td>87.94%</td>\n",
       "      <td>33.97%</td>\n",
       "      <td>28.66%</td>\n",
       "      <td>33.97%</td>\n",
       "      <td>29.36%</td>\n",
       "      <td>72.13%</td>\n",
       "      <td>5.68160131627927</td>\n",
       "      <td>40</td>\n",
       "      <td>45</td>\n",
       "      <td>11</td>\n",
       "      <td>2,236</td>\n",
       "    </tr>\n",
       "    <tr>\n",
       "      <th>XGBClassifier: Default</th>\n",
       "      <td>3m 37.21s</td>\n",
       "      <td>35.92%</td>\n",
       "      <td>33.64%</td>\n",
       "      <td>27.36%</td>\n",
       "      <td>33.64%</td>\n",
       "      <td>24.63%</td>\n",
       "      <td>74.45%</td>\n",
       "      <td>2.3760751180898074</td>\n",
       "      <td>4</td>\n",
       "      <td>35</td>\n",
       "      <td>0</td>\n",
       "      <td>1,552</td>\n",
       "    </tr>\n",
       "    <tr>\n",
       "      <th>XGBClassifier: n_e=100, mx_d=15</th>\n",
       "      <td>3m 44.18s</td>\n",
       "      <td>35.92%</td>\n",
       "      <td>33.64%</td>\n",
       "      <td>27.36%</td>\n",
       "      <td>33.64%</td>\n",
       "      <td>24.63%</td>\n",
       "      <td>74.45%</td>\n",
       "      <td>2.3760751180898074</td>\n",
       "      <td>4</td>\n",
       "      <td>35</td>\n",
       "      <td>0</td>\n",
       "      <td>1,552</td>\n",
       "    </tr>\n",
       "    <tr>\n",
       "      <th>RandomForestClassifier: n_e=100, mx_d=15</th>\n",
       "      <td>1m 31.71s</td>\n",
       "      <td>35.67%</td>\n",
       "      <td>33.05%</td>\n",
       "      <td>28.66%</td>\n",
       "      <td>33.05%</td>\n",
       "      <td>21.77%</td>\n",
       "      <td>74.16%</td>\n",
       "      <td>2.4068490030416556</td>\n",
       "      <td>0</td>\n",
       "      <td>43</td>\n",
       "      <td>0</td>\n",
       "      <td>1,543</td>\n",
       "    </tr>\n",
       "    <tr>\n",
       "      <th>LogisticRegression: L1 / saga</th>\n",
       "      <td>1m 29.27s</td>\n",
       "      <td>29.19%</td>\n",
       "      <td>29.20%</td>\n",
       "      <td>14.15%</td>\n",
       "      <td>29.20%</td>\n",
       "      <td>14.66%</td>\n",
       "      <td>63.23%</td>\n",
       "      <td>2.6362135489065714</td>\n",
       "      <td>0</td>\n",
       "      <td>4</td>\n",
       "      <td>0</td>\n",
       "      <td>89</td>\n",
       "    </tr>\n",
       "    <tr>\n",
       "      <th>LogisticRegression: Default</th>\n",
       "      <td>1m 58.27s</td>\n",
       "      <td>29.19%</td>\n",
       "      <td>29.19%</td>\n",
       "      <td>13.94%</td>\n",
       "      <td>29.19%</td>\n",
       "      <td>14.65%</td>\n",
       "      <td>63.22%</td>\n",
       "      <td>2.6363059389563923</td>\n",
       "      <td>0</td>\n",
       "      <td>4</td>\n",
       "      <td>0</td>\n",
       "      <td>87</td>\n",
       "    </tr>\n",
       "    <tr>\n",
       "      <th>DummyClassifier: most_frequent</th>\n",
       "      <td>0.07s</td>\n",
       "      <td>28.93%</td>\n",
       "      <td>28.93%</td>\n",
       "      <td>8.37%</td>\n",
       "      <td>28.93%</td>\n",
       "      <td>12.98%</td>\n",
       "      <td>50.00%</td>\n",
       "      <td>25.617535643729592</td>\n",
       "      <td>0</td>\n",
       "      <td>0</td>\n",
       "      <td>0</td>\n",
       "      <td>0</td>\n",
       "    </tr>\n",
       "    <tr>\n",
       "      <th>KNeighborsClassifier: Default</th>\n",
       "      <td>1.72s</td>\n",
       "      <td>44.13%</td>\n",
       "      <td>24.83%</td>\n",
       "      <td>19.91%</td>\n",
       "      <td>24.83%</td>\n",
       "      <td>20.96%</td>\n",
       "      <td>61.19%</td>\n",
       "      <td>18.790414742791288</td>\n",
       "      <td>36</td>\n",
       "      <td>81</td>\n",
       "      <td>92</td>\n",
       "      <td>2,648</td>\n",
       "    </tr>\n",
       "    <tr>\n",
       "      <th>DummyClassifier: uniform</th>\n",
       "      <td>0.07s</td>\n",
       "      <td>2.21%</td>\n",
       "      <td>2.21%</td>\n",
       "      <td>11.62%</td>\n",
       "      <td>2.21%</td>\n",
       "      <td>3.12%</td>\n",
       "      <td>50.00%</td>\n",
       "      <td>3.8066624897703183</td>\n",
       "      <td>16</td>\n",
       "      <td>19</td>\n",
       "      <td>240</td>\n",
       "      <td>242</td>\n",
       "    </tr>\n",
       "    <tr>\n",
       "      <th>DummyClassifier: stratified</th>\n",
       "      <td>0.09s</td>\n",
       "      <td>11.55%</td>\n",
       "      <td>11.44%</td>\n",
       "      <td>11.46%</td>\n",
       "      <td>11.44%</td>\n",
       "      <td>11.45%</td>\n",
       "      <td>49.95%</td>\n",
       "      <td>31.920274739734527</td>\n",
       "      <td>1</td>\n",
       "      <td>35</td>\n",
       "      <td>43</td>\n",
       "      <td>722</td>\n",
       "    </tr>\n",
       "  </tbody>\n",
       "</table>\n",
       "</div>"
      ],
      "text/plain": [
       "                                         Train Time Train Accuracy  \\\n",
       "RandomForestClassifier: Default           4m 50.12s         87.94%   \n",
       "XGBClassifier: Default                    3m 37.21s         35.92%   \n",
       "XGBClassifier: n_e=100, mx_d=15           3m 44.18s         35.92%   \n",
       "RandomForestClassifier: n_e=100, mx_d=15  1m 31.71s         35.67%   \n",
       "LogisticRegression: L1 / saga             1m 29.27s         29.19%   \n",
       "LogisticRegression: Default               1m 58.27s         29.19%   \n",
       "DummyClassifier: most_frequent                0.07s         28.93%   \n",
       "KNeighborsClassifier: Default                 1.72s         44.13%   \n",
       "DummyClassifier: uniform                      0.07s          2.21%   \n",
       "DummyClassifier: stratified                   0.09s         11.55%   \n",
       "\n",
       "                                         Test Accuracy Precision  Recall  \\\n",
       "RandomForestClassifier: Default                 33.97%    28.66%  33.97%   \n",
       "XGBClassifier: Default                          33.64%    27.36%  33.64%   \n",
       "XGBClassifier: n_e=100, mx_d=15                 33.64%    27.36%  33.64%   \n",
       "RandomForestClassifier: n_e=100, mx_d=15        33.05%    28.66%  33.05%   \n",
       "LogisticRegression: L1 / saga                   29.20%    14.15%  29.20%   \n",
       "LogisticRegression: Default                     29.19%    13.94%  29.19%   \n",
       "DummyClassifier: most_frequent                  28.93%     8.37%  28.93%   \n",
       "KNeighborsClassifier: Default                   24.83%    19.91%  24.83%   \n",
       "DummyClassifier: uniform                         2.21%    11.62%   2.21%   \n",
       "DummyClassifier: stratified                     11.44%    11.46%  11.44%   \n",
       "\n",
       "                                              F1     AUC            Log_loss  \\\n",
       "RandomForestClassifier: Default           29.36%  72.13%    5.68160131627927   \n",
       "XGBClassifier: Default                    24.63%  74.45%  2.3760751180898074   \n",
       "XGBClassifier: n_e=100, mx_d=15           24.63%  74.45%  2.3760751180898074   \n",
       "RandomForestClassifier: n_e=100, mx_d=15  21.77%  74.16%  2.4068490030416556   \n",
       "LogisticRegression: L1 / saga             14.66%  63.23%  2.6362135489065714   \n",
       "LogisticRegression: Default               14.65%  63.22%  2.6363059389563923   \n",
       "DummyClassifier: most_frequent            12.98%  50.00%  25.617535643729592   \n",
       "KNeighborsClassifier: Default             20.96%  61.19%  18.790414742791288   \n",
       "DummyClassifier: uniform                   3.12%  50.00%  3.8066624897703183   \n",
       "DummyClassifier: stratified               11.45%  49.95%  31.920274739734527   \n",
       "\n",
       "                                          TN  FP   FN     TP  \n",
       "RandomForestClassifier: Default           40  45   11  2,236  \n",
       "XGBClassifier: Default                     4  35    0  1,552  \n",
       "XGBClassifier: n_e=100, mx_d=15            4  35    0  1,552  \n",
       "RandomForestClassifier: n_e=100, mx_d=15   0  43    0  1,543  \n",
       "LogisticRegression: L1 / saga              0   4    0     89  \n",
       "LogisticRegression: Default                0   4    0     87  \n",
       "DummyClassifier: most_frequent             0   0    0      0  \n",
       "KNeighborsClassifier: Default             36  81   92  2,648  \n",
       "DummyClassifier: uniform                  16  19  240    242  \n",
       "DummyClassifier: stratified                1  35   43    722  "
      ]
     },
     "execution_count": 84,
     "metadata": {},
     "output_type": "execute_result"
    }
   ],
   "source": [
    "# results_defaults_df = pd.DataFrame(results_defaults).T.sort_values(by='Test Accuracy', ascending=False)\n",
    "results_defaults_df = pd.DataFrame(results_defaults).T.sort_values(by='Test Accuracy', ascending=False)\n",
    "\n",
    "results_defaults_df[report_cols]"
   ]
  },
  {
   "cell_type": "markdown",
   "id": "3779f697-59ed-4587-b70c-1991fd927ed7",
   "metadata": {},
   "source": [
    "## Summarize Results"
   ]
  },
  {
   "cell_type": "code",
   "execution_count": 86,
   "id": "b468c1a3-9f9b-4701-ac9f-c4956e615720",
   "metadata": {},
   "outputs": [],
   "source": [
    "reports_cols = ['Fit Time', 'Accuracy', 'Log Loss', 'Params']"
   ]
  },
  {
   "cell_type": "code",
   "execution_count": 87,
   "id": "002869f5-ca94-4e78-bada-5da2f1aa6c36",
   "metadata": {},
   "outputs": [
    {
     "data": {
      "text/html": [
       "<style type=\"text/css\">\n",
       "#T_8069b td {\n",
       "  max-width: 350px;\n",
       "  white-space: normal;\n",
       "  word-wrap: break-word;\n",
       "}\n",
       "</style>\n",
       "<table id=\"T_8069b\">\n",
       "  <thead>\n",
       "    <tr>\n",
       "      <th class=\"blank level0\" >&nbsp;</th>\n",
       "      <th id=\"T_8069b_level0_col0\" class=\"col_heading level0 col0\" >Accuracy</th>\n",
       "      <th id=\"T_8069b_level0_col1\" class=\"col_heading level0 col1\" >Log Loss</th>\n",
       "      <th id=\"T_8069b_level0_col2\" class=\"col_heading level0 col2\" >Fit Time</th>\n",
       "      <th id=\"T_8069b_level0_col3\" class=\"col_heading level0 col3\" >Params</th>\n",
       "    </tr>\n",
       "    <tr>\n",
       "      <th class=\"index_name level0\" >Model (../data/incidents_clean.csv)</th>\n",
       "      <th class=\"blank col0\" >&nbsp;</th>\n",
       "      <th class=\"blank col1\" >&nbsp;</th>\n",
       "      <th class=\"blank col2\" >&nbsp;</th>\n",
       "      <th class=\"blank col3\" >&nbsp;</th>\n",
       "    </tr>\n",
       "  </thead>\n",
       "  <tbody>\n",
       "    <tr>\n",
       "      <th id=\"T_8069b_level0_row0\" class=\"row_heading level0 row0\" >Baseline: DummyClassifier - strategy=uniform</th>\n",
       "      <td id=\"T_8069b_row0_col0\" class=\"data row0 col0\" >0.022120</td>\n",
       "      <td id=\"T_8069b_row0_col1\" class=\"data row0 col1\" >3.806662</td>\n",
       "      <td id=\"T_8069b_row0_col2\" class=\"data row0 col2\" >0.39s</td>\n",
       "      <td id=\"T_8069b_row0_col3\" class=\"data row0 col3\" >{'constant': None, 'random_state': 42, 'strategy': 'uniform'}</td>\n",
       "    </tr>\n",
       "    <tr>\n",
       "      <th id=\"T_8069b_level0_row1\" class=\"row_heading level0 row1\" >LogisticRegression (L1)</th>\n",
       "      <td id=\"T_8069b_row1_col0\" class=\"data row1 col0\" >0.291983</td>\n",
       "      <td id=\"T_8069b_row1_col1\" class=\"data row1 col1\" >2.636214</td>\n",
       "      <td id=\"T_8069b_row1_col2\" class=\"data row1 col2\" >1m 45.78s</td>\n",
       "      <td id=\"T_8069b_row1_col3\" class=\"data row1 col3\" >{'C': 1.0, 'class_weight': None, 'dual': False, 'fit_intercept': True, 'intercept_scaling': 1, 'l1_ratio': None, 'max_iter': 1000, 'multi_class': 'deprecated', 'n_jobs': 3, 'penalty': 'l1', 'random_state': 42, 'solver': 'saga', 'tol': 0.0001, 'verbose': 1, 'warm_start': False}</td>\n",
       "    </tr>\n",
       "    <tr>\n",
       "      <th id=\"T_8069b_level0_row2\" class=\"row_heading level0 row2\" >K-Nearest Neighbors</th>\n",
       "      <td id=\"T_8069b_row2_col0\" class=\"data row2 col0\" >0.248255</td>\n",
       "      <td id=\"T_8069b_row2_col1\" class=\"data row2 col1\" >18.790415</td>\n",
       "      <td id=\"T_8069b_row2_col2\" class=\"data row2 col2\" >2m 35.89s</td>\n",
       "      <td id=\"T_8069b_row2_col3\" class=\"data row2 col3\" >{'algorithm': 'auto', 'leaf_size': 30, 'metric': 'minkowski', 'metric_params': None, 'n_jobs': None, 'n_neighbors': 5, 'p': 2, 'weights': 'uniform'}</td>\n",
       "    </tr>\n",
       "    <tr>\n",
       "      <th id=\"T_8069b_level0_row3\" class=\"row_heading level0 row3\" >Random Forest</th>\n",
       "      <td id=\"T_8069b_row3_col0\" class=\"data row3 col0\" >0.330472</td>\n",
       "      <td id=\"T_8069b_row3_col1\" class=\"data row3 col1\" >2.406849</td>\n",
       "      <td id=\"T_8069b_row3_col2\" class=\"data row3 col2\" >1m 49.93s</td>\n",
       "      <td id=\"T_8069b_row3_col3\" class=\"data row3 col3\" >{'bootstrap': True, 'ccp_alpha': 0.0, 'class_weight': None, 'criterion': 'gini', 'max_depth': 15, 'max_features': 'sqrt', 'max_leaf_nodes': None, 'max_samples': None, 'min_impurity_decrease': 0.0, 'min_samples_leaf': 5, 'min_samples_split': 25, 'min_weight_fraction_leaf': 0.0, 'monotonic_cst': None, 'n_estimators': 100, 'n_jobs': 2, 'oob_score': False, 'random_state': 42, 'verbose': 1, 'warm_start': False}</td>\n",
       "    </tr>\n",
       "    <tr>\n",
       "      <th id=\"T_8069b_level0_row4\" class=\"row_heading level0 row4\" >XGBoost</th>\n",
       "      <td id=\"T_8069b_row4_col0\" class=\"data row4 col0\" >0.061634</td>\n",
       "      <td id=\"T_8069b_row4_col1\" class=\"data row4 col1\" >3.560720</td>\n",
       "      <td id=\"T_8069b_row4_col2\" class=\"data row4 col2\" >4m 4.79s</td>\n",
       "      <td id=\"T_8069b_row4_col3\" class=\"data row4 col3\" >{'objective': 'multi:softprob', 'base_score': None, 'booster': None, 'callbacks': None, 'colsample_bylevel': None, 'colsample_bynode': None, 'colsample_bytree': None, 'device': None, 'early_stopping_rounds': None, 'enable_categorical': False, 'eval_metric': None, 'feature_types': None, 'gamma': None, 'grow_policy': None, 'importance_type': None, 'interaction_constraints': None, 'learning_rate': None, 'max_bin': None, 'max_cat_threshold': None, 'max_cat_to_onehot': None, 'max_delta_step': None, 'max_depth': None, 'max_leaves': None, 'min_child_weight': None, 'missing': nan, 'monotone_constraints': None, 'multi_strategy': None, 'n_estimators': 100, 'n_jobs': 2, 'num_parallel_tree': None, 'random_state': 42, 'reg_alpha': None, 'reg_lambda': None, 'sampling_method': None, 'scale_pos_weight': None, 'subsample': None, 'tree_method': None, 'validate_parameters': None, 'verbosity': None}</td>\n",
       "    </tr>\n",
       "  </tbody>\n",
       "</table>\n"
      ],
      "text/plain": [
       "<pandas.io.formats.style.Styler at 0x13dbc9f10>"
      ]
     },
     "execution_count": 87,
     "metadata": {},
     "output_type": "execute_result"
    }
   ],
   "source": [
    "label=f'Model ({sample_file})'\n",
    "results_df = pd.DataFrame(results,\n",
    "                          columns=[label, 'Accuracy', 'Log Loss', 'Fit Time', 'Params']\n",
    "                         ).set_index(label)\n",
    "\n",
    "results_styled = results_df.style.set_table_styles(\n",
    "    [{'selector': 'td', 'props': [('max-width', '350px'), \n",
    "                                  ('white-space', 'normal'), \n",
    "                                  ('word-wrap', 'break-word')]}]\n",
    ")\n",
    "results_styled"
   ]
  },
  {
   "cell_type": "code",
   "execution_count": 88,
   "id": "80e6de32-4444-4e55-ae80-6a87ced49be0",
   "metadata": {},
   "outputs": [],
   "source": [
    "if not Config.SUPPRESS_OUTPUT_FILES:\n",
    "    dfi.export(results_styled, data_utils.Config.IMAGE_DIR / 'results_model_exploration.png')"
   ]
  },
  {
   "cell_type": "code",
   "execution_count": 89,
   "id": "ec75288c-653c-44a3-b465-cac3f869b7cb",
   "metadata": {},
   "outputs": [],
   "source": [
    "if not Config.SUPPRESS_OUTPUT_FILES:\n",
    "    dfi.export(results_defaults_df[report_cols], data_utils.Config.IMAGE_DIR / 'table_models_defaults.png')"
   ]
  },
  {
   "cell_type": "code",
   "execution_count": null,
   "id": "40e3d8e0-ef36-4eff-b863-e72fc2e143a3",
   "metadata": {},
   "outputs": [],
   "source": []
  }
 ],
 "metadata": {
  "kernelspec": {
   "display_name": "Python 3 (ipykernel)",
   "language": "python",
   "name": "python3"
  },
  "language_info": {
   "codemirror_mode": {
    "name": "ipython",
    "version": 3
   },
   "file_extension": ".py",
   "mimetype": "text/x-python",
   "name": "python",
   "nbconvert_exporter": "python",
   "pygments_lexer": "ipython3",
   "version": "3.11.9"
  },
  "widgets": {
   "application/vnd.jupyter.widget-state+json": {
    "state": {},
    "version_major": 2,
    "version_minor": 0
   }
  }
 },
 "nbformat": 4,
 "nbformat_minor": 5
}
