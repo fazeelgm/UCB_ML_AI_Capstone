{
 "cells": [
  {
   "cell_type": "markdown",
   "id": "800f300e-1c9d-4f8e-9bce-aa31778a3bbc",
   "metadata": {},
   "source": [
    "# Capstone: Exploratory Prediction Modeling"
   ]
  },
  {
   "cell_type": "code",
   "execution_count": 2,
   "id": "2b05fd2b-87c4-4db0-9bb5-1ae0748656bc",
   "metadata": {},
   "outputs": [],
   "source": [
    "import matplotlib.pyplot as plt\n",
    "import pandas as pd\n",
    "import numpy as np\n",
    "import seaborn as sns\n",
    "\n",
    "import time\n",
    "\n",
    "# Export dataFrame's as images\n",
    "import dataframe_image as dfi\n",
    "\n",
    "# import project utils\n",
    "import sys\n",
    "sys.path.append('../src')\n",
    "\n",
    "import data_utils\n",
    "from data_utils import Config\n",
    "\n",
    "import graph_utils\n",
    "\n",
    "from sklearn.preprocessing import LabelEncoder\n",
    "from sklearn.model_selection import train_test_split\n",
    "from sklearn.preprocessing import StandardScaler\n",
    "from sklearn.neighbors import KNeighborsClassifier\n",
    "from sklearn.ensemble import RandomForestClassifier\n",
    "from sklearn.linear_model import LogisticRegression\n",
    "from sklearn.dummy import DummyClassifier\n",
    "from sklearn.metrics import accuracy_score, log_loss\n",
    "\n",
    "from xgboost import XGBClassifier\n",
    "import xgboost as xgb"
   ]
  },
  {
   "cell_type": "code",
   "execution_count": 3,
   "id": "4214fe9c-8a7e-46d6-a79e-48fe4150289d",
   "metadata": {},
   "outputs": [],
   "source": [
    "# Configure logging\n",
    "import logging\n",
    "logging.basicConfig(level=logging.INFO, format='%(levelname)s: %(message)s')\n",
    "\n",
    "# logging.getLogger().setLevel(logging.DEBUG)\n",
    "# logging.getLogger().setLevel(logging.INFO)"
   ]
  },
  {
   "cell_type": "code",
   "execution_count": 4,
   "id": "74c6b335-5290-483d-8aa6-5b7f9b7b5799",
   "metadata": {},
   "outputs": [],
   "source": [
    "def time_secs_to_msg(lapse_time_secs, mins_label='m', secs_label='s'):\n",
    "    if lapse_time_secs <= 60:\n",
    "        return f'{lapse_time_secs%60:.2f}{secs_label}'\n",
    "    else:\n",
    "        return f'{lapse_time_secs//60:,.0f}{mins_label} {lapse_time_secs%60:.2f}{secs_label}'"
   ]
  },
  {
   "cell_type": "markdown",
   "id": "5814d6a5-3ae8-43f1-b00f-5b22986f3267",
   "metadata": {},
   "source": [
    "## The Data: San Francisco Police Department Incident Reports"
   ]
  },
  {
   "cell_type": "markdown",
   "id": "2bd64605-3a3b-480b-be39-711b70beb7cc",
   "metadata": {},
   "source": [
    "### Read the Data"
   ]
  },
  {
   "cell_type": "code",
   "execution_count": 7,
   "id": "3250ab5b-8240-4f47-9438-aecea04d69b0",
   "metadata": {},
   "outputs": [
    {
     "name": "stdout",
     "output_type": "stream",
     "text": [
      "Selected sample file: ../data/incidents_clean_10_pct.csv\n"
     ]
    }
   ],
   "source": [
    "# Which dataset to work from?\n",
    "\n",
    "sample_file = data_utils.select_sample_csv_file(pct=10)\n",
    "print(f'Selected sample file: {sample_file}')"
   ]
  },
  {
   "cell_type": "code",
   "execution_count": 8,
   "id": "71f7eb17-698f-4eba-aebc-c2893f443e39",
   "metadata": {},
   "outputs": [
    {
     "name": "stdout",
     "output_type": "stream",
     "text": [
      "Reading file: ../data/incidents_clean_10_pct.csv ... Done: 89,458 rows, 37 columns\n",
      "... Converting datetime to timeseries ... Done\n",
      "... Setting index to datetime ... Done\n",
      "Done\n"
     ]
    }
   ],
   "source": [
    "current_raw_df, current_clean_df = data_utils.get_clean_data_from_csv(sample_file)"
   ]
  },
  {
   "cell_type": "code",
   "execution_count": 9,
   "id": "49438aea-557f-49a0-9caf-2a230ea378f1",
   "metadata": {},
   "outputs": [
    {
     "name": "stdout",
     "output_type": "stream",
     "text": [
      "Pre-processing ... \n",
      "... Dropping unwanted columns ... \n",
      "... preprocess_drop_cols: Column Unnamed: 0 dropped\n",
      "... preprocess_drop_cols: Column esncag_-_boundary_file dropped\n",
      "... preprocess_drop_cols: Column central_market/tenderloin_boundary_polygon_-_updated dropped\n",
      "... preprocess_drop_cols: Column civic_center_harm_reduction_project_boundary dropped\n",
      "... preprocess_drop_cols: Column hsoc_zones_as_of_2018-06-05 dropped\n",
      "... preprocess_drop_cols: Column invest_in_neighborhoods_(iin)_areas dropped\n",
      "... preprocess_drop_cols: Column report_type_code dropped\n",
      "... preprocess_drop_cols: Column report_type_description dropped\n",
      "... preprocess_drop_cols: Column filed_online dropped\n",
      "... preprocess_drop_cols: Column intersection dropped\n",
      "... preprocess_drop_cols: Column cnn dropped\n",
      "... preprocess_drop_cols: Column point dropped\n",
      "... preprocess_drop_cols: Column supervisor_district dropped\n",
      "... preprocess_drop_cols: Column supervisor_district_2012 dropped\n",
      "... preprocess_drop_cols: Column current_supervisor_districts dropped\n",
      "... preprocess_drop_cols: Column incident_datetime dropped\n",
      "... preprocess_drop_cols: Column report_datetime dropped\n",
      "... preprocess_drop_cols: Column incident_id dropped\n",
      "... preprocess_drop_cols: Column incident_code dropped\n",
      "... preprocess_drop_cols: Column row_id dropped\n",
      "... preprocess_drop_cols: Column incident_number dropped\n",
      "... preprocess_drop_cols: Column cad_number dropped\n",
      "... preprocess_drop_cols: Column incident_subcategory dropped\n",
      "... preprocess_drop_cols: Column incident_description dropped\n",
      "... preprocess_drop_cols: Column current_police_districts dropped\n",
      "... preprocess_drop_cols: Column neighborhoods dropped\n",
      "... Done\n",
      "... Removing resolution types: \"Unfounded\", \"Exceptional Adult\" ... \n",
      "... Removing police_district types: \"Out of SF\" ... \n",
      "... Renaming column: \"analysis_neighborhood\" -> \"neighborhood\" ... \n",
      "... Renaming columns: Dropping \"incident_*\" from column names ... \n",
      "... Removing rows with nulls (dropna) ... \n",
      "... Done\n",
      "Done: Start: (89458, 36), End: (82888, 10) -> Rows removed: 6,570 rows (7.34%)\n"
     ]
    }
   ],
   "source": [
    "data = data_utils.preprocess_data(current_raw_df.copy())"
   ]
  },
  {
   "cell_type": "code",
   "execution_count": 10,
   "id": "796600d8-4dc4-4367-8bdd-48602641b3bf",
   "metadata": {},
   "outputs": [
    {
     "name": "stdout",
     "output_type": "stream",
     "text": [
      "Fixing data artifacts (in-place) ... \n",
      "... Category column:\n",
      "    ...\"Human Trafficking*\"\n",
      "    ...\"Motor Vehicle Theft\"\n",
      "    ...\"Weapons Offence\"\n",
      "Done\n"
     ]
    }
   ],
   "source": [
    "# Fix data value artifacts that were discovered during EDA\n",
    "data = data_utils.fix_data_artifacts(data)"
   ]
  },
  {
   "cell_type": "code",
   "execution_count": 11,
   "id": "0593a1a6-d608-4168-ab60-698d8e3a854a",
   "metadata": {},
   "outputs": [
    {
     "name": "stdout",
     "output_type": "stream",
     "text": [
      "<class 'pandas.core.frame.DataFrame'>\n",
      "DatetimeIndex: 82888 entries, 2024-08-01 08:01:00 to 2018-10-02 16:53:00\n",
      "Data columns (total 10 columns):\n",
      " #   Column           Non-Null Count  Dtype  \n",
      "---  ------           --------------  -----  \n",
      " 0   date             82888 non-null  object \n",
      " 1   time             82888 non-null  object \n",
      " 2   year             82888 non-null  int64  \n",
      " 3   day_of_week      82888 non-null  object \n",
      " 4   category         82888 non-null  object \n",
      " 5   resolution       82888 non-null  object \n",
      " 6   police_district  82888 non-null  object \n",
      " 7   neighborhood     82888 non-null  object \n",
      " 8   latitude         82888 non-null  float64\n",
      " 9   longitude        82888 non-null  float64\n",
      "dtypes: float64(2), int64(1), object(7)\n",
      "memory usage: 7.0+ MB\n"
     ]
    }
   ],
   "source": [
    "data.info()"
   ]
  },
  {
   "cell_type": "markdown",
   "id": "cee8b6f7-2f63-409e-8a77-d95a82a599b2",
   "metadata": {},
   "source": [
    "## Summary of EDA"
   ]
  },
  {
   "cell_type": "markdown",
   "id": "def62469-b0fa-405b-ae5e-9cf32c9994a4",
   "metadata": {},
   "source": [
    "After cleaning the data and performing basic EDA, we have established the following:\n",
    "\n",
    "1. Target variable `category`\n",
    "   * Evenly spread across time\n",
    "   * Incidence of crimes is extremely skewed/unbalanced by category. Larceny (29.02%) by far outweighing the other top-10 categories with each being in the single digits\n",
    "3. Features impacting `category`\n",
    "   * Affected by incident time and date components: date, time, day of week, month, year, etc\n",
    "   * Affected by police disctrict\n",
    "   * Affect by latitude and logitude (TODO: need visualization)\n",
    "4. We artificially removed nulls (TODO: will come back to impute data later)"
   ]
  },
  {
   "cell_type": "markdown",
   "id": "d4580fda-167c-419e-94a4-466d884169d8",
   "metadata": {},
   "source": [
    "## Feature Engineering"
   ]
  },
  {
   "cell_type": "code",
   "execution_count": 15,
   "id": "e3693b1c-6a4c-4480-99c3-1afb183a1352",
   "metadata": {},
   "outputs": [
    {
     "data": {
      "text/html": [
       "<div>\n",
       "<style scoped>\n",
       "    .dataframe tbody tr th:only-of-type {\n",
       "        vertical-align: middle;\n",
       "    }\n",
       "\n",
       "    .dataframe tbody tr th {\n",
       "        vertical-align: top;\n",
       "    }\n",
       "\n",
       "    .dataframe thead th {\n",
       "        text-align: right;\n",
       "    }\n",
       "</style>\n",
       "<table border=\"1\" class=\"dataframe\">\n",
       "  <thead>\n",
       "    <tr style=\"text-align: right;\">\n",
       "      <th></th>\n",
       "      <th>date</th>\n",
       "      <th>time</th>\n",
       "      <th>year</th>\n",
       "      <th>day_of_week</th>\n",
       "      <th>category</th>\n",
       "      <th>resolution</th>\n",
       "      <th>police_district</th>\n",
       "      <th>neighborhood</th>\n",
       "      <th>latitude</th>\n",
       "      <th>longitude</th>\n",
       "    </tr>\n",
       "    <tr>\n",
       "      <th>datetime</th>\n",
       "      <th></th>\n",
       "      <th></th>\n",
       "      <th></th>\n",
       "      <th></th>\n",
       "      <th></th>\n",
       "      <th></th>\n",
       "      <th></th>\n",
       "      <th></th>\n",
       "      <th></th>\n",
       "      <th></th>\n",
       "    </tr>\n",
       "  </thead>\n",
       "  <tbody>\n",
       "    <tr>\n",
       "      <th>2024-08-01 08:01:00</th>\n",
       "      <td>2024/08/01</td>\n",
       "      <td>08:01</td>\n",
       "      <td>2024</td>\n",
       "      <td>Thursday</td>\n",
       "      <td>Other Miscellaneous</td>\n",
       "      <td>Open or Active</td>\n",
       "      <td>Mission</td>\n",
       "      <td>Mission</td>\n",
       "      <td>37.768272</td>\n",
       "      <td>-122.419983</td>\n",
       "    </tr>\n",
       "    <tr>\n",
       "      <th>2021-11-25 23:30:00</th>\n",
       "      <td>2021/11/25</td>\n",
       "      <td>23:30</td>\n",
       "      <td>2021</td>\n",
       "      <td>Thursday</td>\n",
       "      <td>Burglary</td>\n",
       "      <td>Open or Active</td>\n",
       "      <td>Northern</td>\n",
       "      <td>Haight Ashbury</td>\n",
       "      <td>37.773757</td>\n",
       "      <td>-122.432467</td>\n",
       "    </tr>\n",
       "  </tbody>\n",
       "</table>\n",
       "</div>"
      ],
      "text/plain": [
       "                           date   time  year day_of_week             category  \\\n",
       "datetime                                                                        \n",
       "2024-08-01 08:01:00  2024/08/01  08:01  2024    Thursday  Other Miscellaneous   \n",
       "2021-11-25 23:30:00  2021/11/25  23:30  2021    Thursday             Burglary   \n",
       "\n",
       "                         resolution police_district    neighborhood  \\\n",
       "datetime                                                              \n",
       "2024-08-01 08:01:00  Open or Active         Mission         Mission   \n",
       "2021-11-25 23:30:00  Open or Active        Northern  Haight Ashbury   \n",
       "\n",
       "                      latitude   longitude  \n",
       "datetime                                    \n",
       "2024-08-01 08:01:00  37.768272 -122.419983  \n",
       "2021-11-25 23:30:00  37.773757 -122.432467  "
      ]
     },
     "execution_count": 15,
     "metadata": {},
     "output_type": "execute_result"
    }
   ],
   "source": [
    "data.head(2)"
   ]
  },
  {
   "cell_type": "code",
   "execution_count": 16,
   "id": "42c52ff3-baa7-47e8-95e7-6b65ffd9424a",
   "metadata": {},
   "outputs": [
    {
     "name": "stdout",
     "output_type": "stream",
     "text": [
      "<class 'pandas.core.frame.DataFrame'>\n",
      "DatetimeIndex: 82888 entries, 2024-08-01 08:01:00 to 2018-10-02 16:53:00\n",
      "Data columns (total 10 columns):\n",
      " #   Column           Non-Null Count  Dtype  \n",
      "---  ------           --------------  -----  \n",
      " 0   date             82888 non-null  object \n",
      " 1   time             82888 non-null  object \n",
      " 2   year             82888 non-null  int64  \n",
      " 3   day_of_week      82888 non-null  object \n",
      " 4   category         82888 non-null  object \n",
      " 5   resolution       82888 non-null  object \n",
      " 6   police_district  82888 non-null  object \n",
      " 7   neighborhood     82888 non-null  object \n",
      " 8   latitude         82888 non-null  float64\n",
      " 9   longitude        82888 non-null  float64\n",
      "dtypes: float64(2), int64(1), object(7)\n",
      "memory usage: 7.0+ MB\n"
     ]
    }
   ],
   "source": [
    "data.info()"
   ]
  },
  {
   "cell_type": "markdown",
   "id": "2d93db1b-4718-4bac-8a22-8aff944c3c64",
   "metadata": {},
   "source": [
    "### Encoding: Time-based columns"
   ]
  },
  {
   "cell_type": "markdown",
   "id": "c6939cb5-85c3-4f3e-92f8-23347859bded",
   "metadata": {},
   "source": [
    "Let's unpack the date and time into their components that are still missing so there is less to encode:"
   ]
  },
  {
   "cell_type": "code",
   "execution_count": 19,
   "id": "e80e1ca0-445e-4251-8672-a70c5ef40597",
   "metadata": {},
   "outputs": [],
   "source": [
    "data['hour'] = data.index.map(lambda x: x.hour)\n",
    "data['minute'] = data.index.map(lambda x: x.minute)\n",
    "data['day'] = data.index.map(lambda x: x.day)\n",
    "data['month'] = data.index.map(lambda x: x.month)"
   ]
  },
  {
   "cell_type": "markdown",
   "id": "9834113f-4129-4c28-9ca6-f2f5051b7b1e",
   "metadata": {},
   "source": [
    "Now let's encode day_of_week to numeric values:"
   ]
  },
  {
   "cell_type": "code",
   "execution_count": 21,
   "id": "eba3c50f-bc77-4491-b663-4ea286c5774b",
   "metadata": {},
   "outputs": [],
   "source": [
    "enc_dow = LabelEncoder()\n",
    "enc_dow.fit(data.day_of_week.unique())\n",
    "data['dow'] = enc_dow.transform(data.day_of_week)"
   ]
  },
  {
   "cell_type": "markdown",
   "id": "2cb03a71-9c9e-4bca-af32-b35f05db2e1e",
   "metadata": {},
   "source": [
    "Let's mark the redundant columns to be dropped after feature engineering:"
   ]
  },
  {
   "cell_type": "code",
   "execution_count": 23,
   "id": "3ce4c19a-dbf1-49c6-8fc5-c91a4e72aaff",
   "metadata": {},
   "outputs": [],
   "source": [
    "drop_encoded_cols = ['date', 'time', 'day_of_week']"
   ]
  },
  {
   "cell_type": "markdown",
   "id": "6b474b64-0486-4de0-9fe3-85dd1df87559",
   "metadata": {},
   "source": [
    "### Encoding: Resolution"
   ]
  },
  {
   "cell_type": "markdown",
   "id": "079fb531-2e4c-4f36-bf09-00bc9ca6c0e3",
   "metadata": {},
   "source": [
    "We will also drop the resolution column since it doesn't impact crime prediction:"
   ]
  },
  {
   "cell_type": "code",
   "execution_count": 26,
   "id": "d130971c-9f96-40c2-a973-bb5ada873544",
   "metadata": {},
   "outputs": [
    {
     "data": {
      "text/plain": [
       "resolution\n",
       "Open or Active          66265\n",
       "Cite or Arrest Adult    16623\n",
       "Name: count, dtype: int64"
      ]
     },
     "execution_count": 26,
     "metadata": {},
     "output_type": "execute_result"
    }
   ],
   "source": [
    "data.resolution.value_counts()"
   ]
  },
  {
   "cell_type": "code",
   "execution_count": 27,
   "id": "12b60a7a-4290-42c5-bdcc-12436361160d",
   "metadata": {},
   "outputs": [],
   "source": [
    "drop_encoded_cols.append('resolution')"
   ]
  },
  {
   "cell_type": "markdown",
   "id": "54a27a2a-a4e1-46e6-aaaa-6462a88ef904",
   "metadata": {},
   "source": [
    "### Encoding: Category"
   ]
  },
  {
   "cell_type": "code",
   "execution_count": 29,
   "id": "1887058d-290d-4de7-be1a-ad4790edc9fb",
   "metadata": {},
   "outputs": [],
   "source": [
    "enc_cat = LabelEncoder()\n",
    "enc_cat.fit(data.category.unique())\n",
    "data.category = enc_cat.transform(data.category)"
   ]
  },
  {
   "cell_type": "markdown",
   "id": "e4357e80-34aa-426c-8360-15da700f3136",
   "metadata": {},
   "source": [
    "### Encoding: Police District"
   ]
  },
  {
   "cell_type": "code",
   "execution_count": 31,
   "id": "8b918e7f-285b-4cd6-9960-7fe80b848c59",
   "metadata": {},
   "outputs": [],
   "source": [
    "enc_pd = LabelEncoder()\n",
    "enc_pd.fit(data.police_district.unique())\n",
    "data['pd'] = enc_pd.transform(data.police_district)"
   ]
  },
  {
   "cell_type": "markdown",
   "id": "d06b758e-6f91-45af-b590-f526a8d84033",
   "metadata": {},
   "source": [
    "### Encoding: Neighborhood"
   ]
  },
  {
   "cell_type": "code",
   "execution_count": 33,
   "id": "82fb1300-2f74-4930-94ab-a5b161e4b4f4",
   "metadata": {},
   "outputs": [],
   "source": [
    "enc_hood = LabelEncoder()\n",
    "enc_hood.fit(data.neighborhood.unique())\n",
    "data.neighborhood = enc_hood.transform(data.neighborhood)"
   ]
  },
  {
   "cell_type": "markdown",
   "id": "9844c0b5-1967-46f3-b316-5f8e2a1e4e74",
   "metadata": {},
   "source": [
    "### Dropping Redundant Columns"
   ]
  },
  {
   "cell_type": "markdown",
   "id": "40759752-bd7b-40ee-9503-2778c2594c9f",
   "metadata": {},
   "source": [
    "We can now drop the redundant encoded columns:"
   ]
  },
  {
   "cell_type": "code",
   "execution_count": 36,
   "id": "db644549-7780-4117-be95-207dde3eb418",
   "metadata": {},
   "outputs": [
    {
     "name": "stdout",
     "output_type": "stream",
     "text": [
      "Dropping encoded columns: ['date', 'time', 'day_of_week', 'resolution', 'police_district']\n"
     ]
    }
   ],
   "source": [
    "drop_encoded_cols.append('police_district')\n",
    "\n",
    "print(f'Dropping encoded columns: {drop_encoded_cols}')\n",
    "data.drop(columns=drop_encoded_cols, inplace=True)"
   ]
  },
  {
   "cell_type": "code",
   "execution_count": 37,
   "id": "de363da7-290a-4a98-bee6-2760db2cb526",
   "metadata": {},
   "outputs": [
    {
     "data": {
      "text/html": [
       "<div>\n",
       "<style scoped>\n",
       "    .dataframe tbody tr th:only-of-type {\n",
       "        vertical-align: middle;\n",
       "    }\n",
       "\n",
       "    .dataframe tbody tr th {\n",
       "        vertical-align: top;\n",
       "    }\n",
       "\n",
       "    .dataframe thead th {\n",
       "        text-align: right;\n",
       "    }\n",
       "</style>\n",
       "<table border=\"1\" class=\"dataframe\">\n",
       "  <thead>\n",
       "    <tr style=\"text-align: right;\">\n",
       "      <th></th>\n",
       "      <th>year</th>\n",
       "      <th>category</th>\n",
       "      <th>neighborhood</th>\n",
       "      <th>latitude</th>\n",
       "      <th>longitude</th>\n",
       "      <th>hour</th>\n",
       "      <th>minute</th>\n",
       "      <th>day</th>\n",
       "      <th>month</th>\n",
       "      <th>dow</th>\n",
       "      <th>pd</th>\n",
       "    </tr>\n",
       "    <tr>\n",
       "      <th>datetime</th>\n",
       "      <th></th>\n",
       "      <th></th>\n",
       "      <th></th>\n",
       "      <th></th>\n",
       "      <th></th>\n",
       "      <th></th>\n",
       "      <th></th>\n",
       "      <th></th>\n",
       "      <th></th>\n",
       "      <th></th>\n",
       "      <th></th>\n",
       "    </tr>\n",
       "  </thead>\n",
       "  <tbody>\n",
       "    <tr>\n",
       "      <th>2024-08-01 08:01:00</th>\n",
       "      <td>2024</td>\n",
       "      <td>26</td>\n",
       "      <td>18</td>\n",
       "      <td>37.768272</td>\n",
       "      <td>-122.419983</td>\n",
       "      <td>8</td>\n",
       "      <td>1</td>\n",
       "      <td>1</td>\n",
       "      <td>8</td>\n",
       "      <td>4</td>\n",
       "      <td>3</td>\n",
       "    </tr>\n",
       "    <tr>\n",
       "      <th>2021-11-25 23:30:00</th>\n",
       "      <td>2021</td>\n",
       "      <td>2</td>\n",
       "      <td>8</td>\n",
       "      <td>37.773757</td>\n",
       "      <td>-122.432467</td>\n",
       "      <td>23</td>\n",
       "      <td>30</td>\n",
       "      <td>25</td>\n",
       "      <td>11</td>\n",
       "      <td>4</td>\n",
       "      <td>4</td>\n",
       "    </tr>\n",
       "  </tbody>\n",
       "</table>\n",
       "</div>"
      ],
      "text/plain": [
       "                     year  category  neighborhood   latitude   longitude  \\\n",
       "datetime                                                                   \n",
       "2024-08-01 08:01:00  2024        26            18  37.768272 -122.419983   \n",
       "2021-11-25 23:30:00  2021         2             8  37.773757 -122.432467   \n",
       "\n",
       "                     hour  minute  day  month  dow  pd  \n",
       "datetime                                                \n",
       "2024-08-01 08:01:00     8       1    1      8    4   3  \n",
       "2021-11-25 23:30:00    23      30   25     11    4   4  "
      ]
     },
     "execution_count": 37,
     "metadata": {},
     "output_type": "execute_result"
    }
   ],
   "source": [
    "data.head(2)"
   ]
  },
  {
   "cell_type": "code",
   "execution_count": 38,
   "id": "9a45dd9e-7aa0-43c1-9d94-40d6287cb845",
   "metadata": {},
   "outputs": [
    {
     "name": "stdout",
     "output_type": "stream",
     "text": [
      "<class 'pandas.core.frame.DataFrame'>\n",
      "DatetimeIndex: 82888 entries, 2024-08-01 08:01:00 to 2018-10-02 16:53:00\n",
      "Data columns (total 11 columns):\n",
      " #   Column        Non-Null Count  Dtype  \n",
      "---  ------        --------------  -----  \n",
      " 0   year          82888 non-null  int64  \n",
      " 1   category      82888 non-null  int64  \n",
      " 2   neighborhood  82888 non-null  int64  \n",
      " 3   latitude      82888 non-null  float64\n",
      " 4   longitude     82888 non-null  float64\n",
      " 5   hour          82888 non-null  int64  \n",
      " 6   minute        82888 non-null  int64  \n",
      " 7   day           82888 non-null  int64  \n",
      " 8   month         82888 non-null  int64  \n",
      " 9   dow           82888 non-null  int64  \n",
      " 10  pd            82888 non-null  int64  \n",
      "dtypes: float64(2), int64(9)\n",
      "memory usage: 7.6 MB\n"
     ]
    }
   ],
   "source": [
    "data.info()"
   ]
  },
  {
   "cell_type": "markdown",
   "id": "03c7ab2c-d5a3-4d2a-b158-87ea45debe21",
   "metadata": {},
   "source": [
    "## Data Preparation"
   ]
  },
  {
   "cell_type": "markdown",
   "id": "7d496dcd-171a-4d49-8807-11ffafa4b233",
   "metadata": {},
   "source": [
    "### Create Train/Test Splits"
   ]
  },
  {
   "cell_type": "code",
   "execution_count": 41,
   "id": "ac470dae-d362-45d4-911f-5906ce1e271b",
   "metadata": {},
   "outputs": [],
   "source": [
    "X = data.drop('category', axis='columns')\n",
    "y = data['category']"
   ]
  },
  {
   "cell_type": "code",
   "execution_count": 42,
   "id": "9df7a80e-6033-412d-a282-ffa985f48904",
   "metadata": {},
   "outputs": [],
   "source": [
    "# OneHot Encode the features and drop the first value to reduce multicollinearity\n",
    "X = pd.get_dummies(X, drop_first=True)"
   ]
  },
  {
   "cell_type": "code",
   "execution_count": 43,
   "id": "140d725c-be87-47fd-b60d-6bee9e666ada",
   "metadata": {},
   "outputs": [
    {
     "name": "stdout",
     "output_type": "stream",
     "text": [
      "Project-wide random_state: 42\n"
     ]
    }
   ],
   "source": [
    "# Consistent random_state for the project\n",
    "print(f'Project-wide random_state: {Config.RANDOM_STATE}')"
   ]
  },
  {
   "cell_type": "code",
   "execution_count": 44,
   "id": "3f71f3ab-33fa-4ea3-bade-efc053e13870",
   "metadata": {},
   "outputs": [],
   "source": [
    "X_train, X_test, y_train, y_test = train_test_split(X, y, test_size=0.2, \n",
    "                                                    stratify=y, random_state=Config.RANDOM_STATE)"
   ]
  },
  {
   "cell_type": "code",
   "execution_count": 45,
   "id": "a01d3fc6-d194-43b3-89eb-aa639586aa7a",
   "metadata": {},
   "outputs": [
    {
     "data": {
      "text/html": [
       "<div>\n",
       "<style scoped>\n",
       "    .dataframe tbody tr th:only-of-type {\n",
       "        vertical-align: middle;\n",
       "    }\n",
       "\n",
       "    .dataframe tbody tr th {\n",
       "        vertical-align: top;\n",
       "    }\n",
       "\n",
       "    .dataframe thead th {\n",
       "        text-align: right;\n",
       "    }\n",
       "</style>\n",
       "<table border=\"1\" class=\"dataframe\">\n",
       "  <thead>\n",
       "    <tr style=\"text-align: right;\">\n",
       "      <th>datetime</th>\n",
       "      <th>2024-08-01 08:01:00</th>\n",
       "      <th>2021-11-25 23:30:00</th>\n",
       "      <th>2018-06-20 21:00:00</th>\n",
       "      <th>2022-07-06 12:41:00</th>\n",
       "      <th>2021-02-27 23:02:00</th>\n",
       "    </tr>\n",
       "  </thead>\n",
       "  <tbody>\n",
       "    <tr>\n",
       "      <th>year</th>\n",
       "      <td>2024.000000</td>\n",
       "      <td>2021.000000</td>\n",
       "      <td>2018.000000</td>\n",
       "      <td>2022.000000</td>\n",
       "      <td>2021.000000</td>\n",
       "    </tr>\n",
       "    <tr>\n",
       "      <th>neighborhood</th>\n",
       "      <td>18.000000</td>\n",
       "      <td>8.000000</td>\n",
       "      <td>23.000000</td>\n",
       "      <td>33.000000</td>\n",
       "      <td>19.000000</td>\n",
       "    </tr>\n",
       "    <tr>\n",
       "      <th>latitude</th>\n",
       "      <td>37.768272</td>\n",
       "      <td>37.773757</td>\n",
       "      <td>37.723642</td>\n",
       "      <td>37.777457</td>\n",
       "      <td>37.770063</td>\n",
       "    </tr>\n",
       "    <tr>\n",
       "      <th>longitude</th>\n",
       "      <td>-122.419983</td>\n",
       "      <td>-122.432467</td>\n",
       "      <td>-122.461251</td>\n",
       "      <td>-122.413158</td>\n",
       "      <td>-122.403878</td>\n",
       "    </tr>\n",
       "    <tr>\n",
       "      <th>hour</th>\n",
       "      <td>8.000000</td>\n",
       "      <td>23.000000</td>\n",
       "      <td>21.000000</td>\n",
       "      <td>12.000000</td>\n",
       "      <td>23.000000</td>\n",
       "    </tr>\n",
       "    <tr>\n",
       "      <th>minute</th>\n",
       "      <td>1.000000</td>\n",
       "      <td>30.000000</td>\n",
       "      <td>0.000000</td>\n",
       "      <td>41.000000</td>\n",
       "      <td>2.000000</td>\n",
       "    </tr>\n",
       "    <tr>\n",
       "      <th>day</th>\n",
       "      <td>1.000000</td>\n",
       "      <td>25.000000</td>\n",
       "      <td>20.000000</td>\n",
       "      <td>6.000000</td>\n",
       "      <td>27.000000</td>\n",
       "    </tr>\n",
       "    <tr>\n",
       "      <th>month</th>\n",
       "      <td>8.000000</td>\n",
       "      <td>11.000000</td>\n",
       "      <td>6.000000</td>\n",
       "      <td>7.000000</td>\n",
       "      <td>2.000000</td>\n",
       "    </tr>\n",
       "    <tr>\n",
       "      <th>dow</th>\n",
       "      <td>4.000000</td>\n",
       "      <td>4.000000</td>\n",
       "      <td>6.000000</td>\n",
       "      <td>6.000000</td>\n",
       "      <td>2.000000</td>\n",
       "    </tr>\n",
       "    <tr>\n",
       "      <th>pd</th>\n",
       "      <td>3.000000</td>\n",
       "      <td>4.000000</td>\n",
       "      <td>8.000000</td>\n",
       "      <td>9.000000</td>\n",
       "      <td>7.000000</td>\n",
       "    </tr>\n",
       "  </tbody>\n",
       "</table>\n",
       "</div>"
      ],
      "text/plain": [
       "datetime      2024-08-01 08:01:00  2021-11-25 23:30:00  2018-06-20 21:00:00  \\\n",
       "year                  2024.000000          2021.000000          2018.000000   \n",
       "neighborhood            18.000000             8.000000            23.000000   \n",
       "latitude                37.768272            37.773757            37.723642   \n",
       "longitude             -122.419983          -122.432467          -122.461251   \n",
       "hour                     8.000000            23.000000            21.000000   \n",
       "minute                   1.000000            30.000000             0.000000   \n",
       "day                      1.000000            25.000000            20.000000   \n",
       "month                    8.000000            11.000000             6.000000   \n",
       "dow                      4.000000             4.000000             6.000000   \n",
       "pd                       3.000000             4.000000             8.000000   \n",
       "\n",
       "datetime      2022-07-06 12:41:00  2021-02-27 23:02:00  \n",
       "year                  2022.000000          2021.000000  \n",
       "neighborhood            33.000000            19.000000  \n",
       "latitude                37.777457            37.770063  \n",
       "longitude             -122.413158          -122.403878  \n",
       "hour                    12.000000            23.000000  \n",
       "minute                  41.000000             2.000000  \n",
       "day                      6.000000            27.000000  \n",
       "month                    7.000000             2.000000  \n",
       "dow                      6.000000             2.000000  \n",
       "pd                       9.000000             7.000000  "
      ]
     },
     "execution_count": 45,
     "metadata": {},
     "output_type": "execute_result"
    }
   ],
   "source": [
    "# spot-check feature encoding\n",
    "X.T.iloc[:, 0:5]"
   ]
  },
  {
   "cell_type": "markdown",
   "id": "be0ffce7-ac24-4443-a5df-81a0449852c6",
   "metadata": {},
   "source": [
    "### Feature Scaling"
   ]
  },
  {
   "cell_type": "code",
   "execution_count": 47,
   "id": "e6ed9a74-008a-4c0f-b2af-76e5f0e54793",
   "metadata": {},
   "outputs": [],
   "source": [
    "# Scale the data - we'll use StandardScaler for the baseline model\n",
    "logging.debug('Scaling data')\n",
    "scaler = StandardScaler()\n",
    "\n",
    "X_train_scaled = scaler.fit_transform(X_train)"
   ]
  },
  {
   "cell_type": "markdown",
   "id": "a2df8b27-6969-4b14-b3e0-f4e351df67d0",
   "metadata": {},
   "source": [
    "## Model Exploration"
   ]
  },
  {
   "cell_type": "markdown",
   "id": "519e74d3-390d-4b30-acc2-d685aa461d76",
   "metadata": {},
   "source": [
    "We will now evaluate different models for predicting the Crime Category from our features:"
   ]
  },
  {
   "cell_type": "code",
   "execution_count": 50,
   "id": "9fb217f2-ba53-4f9a-9fdf-c79a3deefe1c",
   "metadata": {},
   "outputs": [
    {
     "data": {
      "text/plain": [
       "Index(['year', 'neighborhood', 'latitude', 'longitude', 'hour', 'minute',\n",
       "       'day', 'month', 'dow', 'pd'],\n",
       "      dtype='object')"
      ]
     },
     "execution_count": 50,
     "metadata": {},
     "output_type": "execute_result"
    }
   ],
   "source": [
    "X_train.columns"
   ]
  },
  {
   "cell_type": "markdown",
   "id": "d75a3fbc-b034-4ced-a667-57713c0453a4",
   "metadata": {},
   "source": [
    "We will evaluate the following models:\n",
    "\n",
    "* Logistic Regression with L1 Regularization\n",
    "* K Nearest Neighbors\n",
    "* Stochastic Gradient Descent"
   ]
  },
  {
   "cell_type": "markdown",
   "id": "f7d149f8-5cf7-4455-9d03-e4018d377dd3",
   "metadata": {},
   "source": [
    "### Evaluation Metrics"
   ]
  },
  {
   "cell_type": "markdown",
   "id": "637a03c6-4a3c-4c83-8905-19777ce99473",
   "metadata": {},
   "source": [
    "In this project, we are predicting or classifyig across 49 crime categories. We will use two evaluation metrics to compare our models:\n",
    "\n",
    "1. **Accuracy**: Measures the proportion of correct predictions over all predictions made. The accuracy benchmark is 1/49 or 2.04% given our crime categories\n",
    "2. **Log_Loss**: Measures the accuracy of a classifier by penalizing false classifications. It does this by taking the negative logarithm of the predicted probability for the true class. The goal is to minimize this loss, meaning that higher probabilities are assigned to the correct classes\n",
    "   * TODO: Benchmark???\n",
    "\n",
    "While accuracy provides a simple measure of correctness, log-loss offers a more nuanced view by considering how confident those predictions are. We'll use them together for a comprehensive evaluation and to learn more about them"
   ]
  },
  {
   "cell_type": "markdown",
   "id": "584e5a53-2bbd-4283-bf5e-34fdf4b15ec4",
   "metadata": {},
   "source": [
    "### Baseline DummyClassifier"
   ]
  },
  {
   "cell_type": "code",
   "execution_count": 55,
   "id": "39f421c5-bc59-47db-8b30-f534a18f18d4",
   "metadata": {},
   "outputs": [],
   "source": [
    "results = []"
   ]
  },
  {
   "cell_type": "code",
   "execution_count": 56,
   "id": "30a0c574-91cb-49b6-8cec-7b5fd0207924",
   "metadata": {},
   "outputs": [
    {
     "name": "stdout",
     "output_type": "stream",
     "text": [
      "DummyClassifier: Starting\n",
      "Baseline: DummyClassifier - strategy=uniform: accuracy: 0.022740982024369645, log_loss: 3.8066624897703183\n",
      "DummyClassifier: Done: 0.31s\n"
     ]
    }
   ],
   "source": [
    "name='DummyClassifier'\n",
    "print(f'{name}: Starting', flush=True)\n",
    "start_time = time.time()\n",
    "\n",
    "all_classes = np.unique(y)\n",
    "\n",
    "base = DummyClassifier(strategy='uniform', random_state=Config.RANDOM_STATE)#, classes=all_classes)\n",
    "base.fit(X_train_scaled, y_train)\n",
    "y_preds = base.predict(X_test)\n",
    "pred_probs = base.predict_proba(X_test)\n",
    "base_acc = accuracy_score(y_test, y_preds)\n",
    "base_loss = log_loss(y_test, pred_probs)\n",
    "\n",
    "label='Baseline: DummyClassifier - strategy=uniform'\n",
    "results.append([label, base_acc, base_loss])\n",
    "print(f'{label}: accuracy: {base_acc}, log_loss: {base_loss}')\n",
    "\n",
    "print(f'{name}: Done: {time_secs_to_msg(time.time()-start_time)}')"
   ]
  },
  {
   "cell_type": "markdown",
   "id": "35f136c8-f464-4df2-97cd-44f49c51c34c",
   "metadata": {},
   "source": [
    "### LogisticRegresson (L1)"
   ]
  },
  {
   "cell_type": "code",
   "execution_count": 58,
   "id": "1686cc28-bbd4-4401-a951-7e13fa39bf4f",
   "metadata": {},
   "outputs": [
    {
     "name": "stdout",
     "output_type": "stream",
     "text": [
      "LogisticRegression: Starting\n"
     ]
    },
    {
     "name": "stderr",
     "output_type": "stream",
     "text": [
      "[Parallel(n_jobs=3)]: Using backend ThreadingBackend with 3 concurrent workers.\n"
     ]
    },
    {
     "name": "stdout",
     "output_type": "stream",
     "text": [
      "convergence after 60 epochs took 18 seconds\n",
      "LogisticRegression (L1): accuracy: 0.00030160453613222344, log_loss: 36.03278245975621\n",
      "LogisticRegression: Done: 17.87s\n"
     ]
    },
    {
     "name": "stderr",
     "output_type": "stream",
     "text": [
      "/opt/anaconda3/lib/python3.11/site-packages/sklearn/base.py:486: UserWarning: X has feature names, but LogisticRegression was fitted without feature names\n",
      "  warnings.warn(\n",
      "/opt/anaconda3/lib/python3.11/site-packages/sklearn/base.py:486: UserWarning: X has feature names, but LogisticRegression was fitted without feature names\n",
      "  warnings.warn(\n"
     ]
    }
   ],
   "source": [
    "name='LogisticRegression'\n",
    "print(f'{name}: Starting', flush=True)\n",
    "start_time = time.time()\n",
    "\n",
    "lr = LogisticRegression(penalty='l1', solver='saga',\n",
    "                        max_iter=1000, verbose=1, n_jobs=3, random_state=Config.RANDOM_STATE)\n",
    "\n",
    "lr.fit(X_train_scaled, y_train)\n",
    "y_preds = lr.predict(X_test)\n",
    "pred_probs = lr.predict_proba(X_test)\n",
    "lr_acc = accuracy_score(y_test, y_preds)\n",
    "lr_loss = log_loss(y_test, pred_probs)\n",
    "\n",
    "label='LogisticRegression (L1)'\n",
    "results.append([label, lr_acc, lr_loss])\n",
    "print(f'{label}: accuracy: {lr_acc}, log_loss: {lr_loss}')\n",
    "\n",
    "print(f'{name}: Done: {time_secs_to_msg(time.time()-start_time)}')"
   ]
  },
  {
   "cell_type": "markdown",
   "id": "047fbe4a-cb4d-4451-8ae2-ebc715e1920c",
   "metadata": {},
   "source": [
    "### K-Nearest Neighbors"
   ]
  },
  {
   "cell_type": "code",
   "execution_count": 60,
   "id": "6c9c252f-7d9a-4d0b-80c5-61c78965b606",
   "metadata": {},
   "outputs": [
    {
     "name": "stdout",
     "output_type": "stream",
     "text": [
      "KNeighborsClassifier: Starting\n"
     ]
    },
    {
     "name": "stderr",
     "output_type": "stream",
     "text": [
      "/opt/anaconda3/lib/python3.11/site-packages/sklearn/base.py:486: UserWarning: X has feature names, but KNeighborsClassifier was fitted without feature names\n",
      "  warnings.warn(\n",
      "/opt/anaconda3/lib/python3.11/site-packages/sklearn/base.py:486: UserWarning: X has feature names, but KNeighborsClassifier was fitted without feature names\n",
      "  warnings.warn(\n"
     ]
    },
    {
     "name": "stdout",
     "output_type": "stream",
     "text": [
      "K-Nearest Neighbors: accuracy: 0.2827844130775727, log_loss: 20.035105376974474\n",
      "KNeighborsClassifier: Done: 9.06s\n"
     ]
    }
   ],
   "source": [
    "name='KNeighborsClassifier'\n",
    "print(f'{name}: Starting', flush=True)\n",
    "start_time = time.time()\n",
    "\n",
    "knn = KNeighborsClassifier()\n",
    "knn.fit(X_train_scaled, y_train)\n",
    "y_preds = knn.predict(X_test)\n",
    "pred_probs = knn.predict_proba(X_test)\n",
    "knn_acc = accuracy_score(y_test, y_preds)\n",
    "knn_loss = log_loss(y_test, pred_probs)\n",
    "\n",
    "label='K-Nearest Neighbors'\n",
    "results.append([label, knn_acc, knn_loss])\n",
    "print(f'{label}: accuracy: {knn_acc}, log_loss: {knn_loss}')\n",
    "\n",
    "print(f'{name}: Done: {time_secs_to_msg(time.time()-start_time)}')"
   ]
  },
  {
   "cell_type": "markdown",
   "id": "38734a75-2502-4ca4-894c-eca9deb5e283",
   "metadata": {},
   "source": [
    "### Random Forest Ensemble"
   ]
  },
  {
   "cell_type": "code",
   "execution_count": 62,
   "id": "2e54227e-275d-4948-966e-2341fffc861e",
   "metadata": {},
   "outputs": [
    {
     "name": "stdout",
     "output_type": "stream",
     "text": [
      "RandomForestClassifier: Starting\n"
     ]
    },
    {
     "name": "stderr",
     "output_type": "stream",
     "text": [
      "[Parallel(n_jobs=2)]: Using backend ThreadingBackend with 2 concurrent workers.\n",
      "[Parallel(n_jobs=2)]: Done  46 tasks      | elapsed:    2.7s\n",
      "[Parallel(n_jobs=2)]: Done 196 tasks      | elapsed:   11.5s\n",
      "[Parallel(n_jobs=2)]: Done 446 tasks      | elapsed:   26.9s\n",
      "[Parallel(n_jobs=2)]: Done 500 out of 500 | elapsed:   32.7s finished\n",
      "/opt/anaconda3/lib/python3.11/site-packages/sklearn/base.py:486: UserWarning: X has feature names, but RandomForestClassifier was fitted without feature names\n",
      "  warnings.warn(\n",
      "[Parallel(n_jobs=2)]: Using backend ThreadingBackend with 2 concurrent workers.\n",
      "[Parallel(n_jobs=2)]: Done  46 tasks      | elapsed:    0.5s\n",
      "[Parallel(n_jobs=2)]: Done 196 tasks      | elapsed:    2.4s\n",
      "[Parallel(n_jobs=2)]: Done 446 tasks      | elapsed:    3.1s\n",
      "[Parallel(n_jobs=2)]: Done 500 out of 500 | elapsed:    3.2s finished\n",
      "/opt/anaconda3/lib/python3.11/site-packages/sklearn/base.py:486: UserWarning: X has feature names, but RandomForestClassifier was fitted without feature names\n",
      "  warnings.warn(\n",
      "[Parallel(n_jobs=2)]: Using backend ThreadingBackend with 2 concurrent workers.\n",
      "[Parallel(n_jobs=2)]: Done  46 tasks      | elapsed:    0.1s\n",
      "[Parallel(n_jobs=2)]: Done 196 tasks      | elapsed:    0.3s\n"
     ]
    },
    {
     "name": "stdout",
     "output_type": "stream",
     "text": [
      "Random Forest: accuracy: 0.2896609965013874, log_loss: 2.9338705945673396\n",
      "RandomForestClassifier: Done: 36.94s\n"
     ]
    },
    {
     "name": "stderr",
     "output_type": "stream",
     "text": [
      "[Parallel(n_jobs=2)]: Done 446 tasks      | elapsed:    0.7s\n",
      "[Parallel(n_jobs=2)]: Done 500 out of 500 | elapsed:    0.8s finished\n"
     ]
    }
   ],
   "source": [
    "name='RandomForestClassifier'\n",
    "print(f'{name}: Starting', flush=True)\n",
    "start_time = time.time()\n",
    "\n",
    "rf = RandomForestClassifier(n_estimators=500, max_depth=15,\n",
    "                            min_samples_leaf=5, min_samples_split=25, \n",
    "                            random_state=Config.RANDOM_STATE, verbose=1, n_jobs=2)\n",
    "rf.fit(X_train_scaled, y_train)\n",
    "y_preds = rf.predict(X_test)\n",
    "pred_probs = rf.predict_proba(X_test)\n",
    "rf_acc = accuracy_score(y_test, y_preds)\n",
    "rf_loss = log_loss(y_test, pred_probs)\n",
    "\n",
    "label='Random Forest'\n",
    "results.append([label, rf_acc, rf_loss])\n",
    "print(f'{label}: accuracy: {rf_acc}, log_loss: {rf_loss}')\n",
    "\n",
    "print(f'{name}: Done: {time_secs_to_msg(time.time()-start_time)}')"
   ]
  },
  {
   "cell_type": "markdown",
   "id": "5b7edefd-3ce3-4f63-8676-b2c5836b4374",
   "metadata": {},
   "source": [
    "### XGBoost Ensemble"
   ]
  },
  {
   "cell_type": "code",
   "execution_count": 64,
   "id": "595797b0-489b-4c69-818b-122132d46500",
   "metadata": {},
   "outputs": [
    {
     "name": "stdout",
     "output_type": "stream",
     "text": [
      "XGBClassifier: Starting\n"
     ]
    },
    {
     "name": "stderr",
     "output_type": "stream",
     "text": [
      "/opt/anaconda3/lib/python3.11/site-packages/xgboost/core.py:158: UserWarning: [22:55:40] WARNING: /Users/runner/work/xgboost/xgboost/src/learner.cc:740: \n",
      "Parameters: { \"verbose\" } are not used.\n",
      "\n",
      "  warnings.warn(smsg, UserWarning)\n"
     ]
    },
    {
     "name": "stdout",
     "output_type": "stream",
     "text": [
      "XGBoost: accuracy: 0.30190614066835564, log_loss: 2.9832450078660924\n",
      "XGBClassifier: Done: 3m 18.16s\n"
     ]
    }
   ],
   "source": [
    "name='XGBClassifier'\n",
    "print(f'{name}: Starting', flush=True)\n",
    "start_time = time.time()\n",
    "\n",
    "xgb_clf = XGBClassifier(n_estimators=500, objective=\"multi:softprob\", \n",
    "                        verbose=1, n_jobs=2, random_state=Config.RANDOM_STATE)\n",
    "xgb_clf.fit(X_train, y_train)\n",
    "y_preds = xgb_clf.predict(X_test)\n",
    "pred_probs = xgb_clf.predict_proba(X_test)\n",
    "xgb_acc = accuracy_score(y_test, y_preds)\n",
    "xgb_loss = log_loss(y_test, pred_probs)\n",
    "\n",
    "label='XGBoost'\n",
    "results.append([label, xgb_acc, xgb_loss])\n",
    "print(f'{label}: accuracy: {xgb_acc}, log_loss: {xgb_loss}')\n",
    "\n",
    "print(f'{name}: Done: {time_secs_to_msg(time.time()-start_time)}')"
   ]
  },
  {
   "cell_type": "code",
   "execution_count": 65,
   "id": "002869f5-ca94-4e78-bada-5da2f1aa6c36",
   "metadata": {},
   "outputs": [
    {
     "data": {
      "text/html": [
       "<div>\n",
       "<style scoped>\n",
       "    .dataframe tbody tr th:only-of-type {\n",
       "        vertical-align: middle;\n",
       "    }\n",
       "\n",
       "    .dataframe tbody tr th {\n",
       "        vertical-align: top;\n",
       "    }\n",
       "\n",
       "    .dataframe thead th {\n",
       "        text-align: right;\n",
       "    }\n",
       "</style>\n",
       "<table border=\"1\" class=\"dataframe\">\n",
       "  <thead>\n",
       "    <tr style=\"text-align: right;\">\n",
       "      <th></th>\n",
       "      <th>Accuracy</th>\n",
       "      <th>Log_Loss</th>\n",
       "    </tr>\n",
       "    <tr>\n",
       "      <th>Label</th>\n",
       "      <th></th>\n",
       "      <th></th>\n",
       "    </tr>\n",
       "  </thead>\n",
       "  <tbody>\n",
       "    <tr>\n",
       "      <th>Baseline: DummyClassifier - strategy=uniform</th>\n",
       "      <td>0.022741</td>\n",
       "      <td>3.806662</td>\n",
       "    </tr>\n",
       "    <tr>\n",
       "      <th>LogisticRegression (L1)</th>\n",
       "      <td>0.000302</td>\n",
       "      <td>36.032782</td>\n",
       "    </tr>\n",
       "    <tr>\n",
       "      <th>K-Nearest Neighbors</th>\n",
       "      <td>0.282784</td>\n",
       "      <td>20.035105</td>\n",
       "    </tr>\n",
       "    <tr>\n",
       "      <th>Random Forest</th>\n",
       "      <td>0.289661</td>\n",
       "      <td>2.933871</td>\n",
       "    </tr>\n",
       "    <tr>\n",
       "      <th>XGBoost</th>\n",
       "      <td>0.301906</td>\n",
       "      <td>2.983245</td>\n",
       "    </tr>\n",
       "  </tbody>\n",
       "</table>\n",
       "</div>"
      ],
      "text/plain": [
       "                                              Accuracy   Log_Loss\n",
       "Label                                                            \n",
       "Baseline: DummyClassifier - strategy=uniform  0.022741   3.806662\n",
       "LogisticRegression (L1)                       0.000302  36.032782\n",
       "K-Nearest Neighbors                           0.282784  20.035105\n",
       "Random Forest                                 0.289661   2.933871\n",
       "XGBoost                                       0.301906   2.983245"
      ]
     },
     "execution_count": 65,
     "metadata": {},
     "output_type": "execute_result"
    }
   ],
   "source": [
    "results_df = pd.DataFrame(results,\n",
    "                          columns=['Label', 'Accuracy', 'Log_Loss']\n",
    "                         ).set_index('Label')\n",
    "\n",
    "\n",
    "results_df"
   ]
  },
  {
   "cell_type": "code",
   "execution_count": 66,
   "id": "80e6de32-4444-4e55-ae80-6a87ced49be0",
   "metadata": {},
   "outputs": [],
   "source": [
    "if not Config.SUPPRESS_OUTPUT_FILES:\n",
    "    dfi.export(results_df, '../images/results.png')"
   ]
  },
  {
   "cell_type": "code",
   "execution_count": null,
   "id": "093a6aa0-0ab4-4c2b-b880-c1cd9277b776",
   "metadata": {},
   "outputs": [],
   "source": []
  }
 ],
 "metadata": {
  "kernelspec": {
   "display_name": "Python 3 (ipykernel)",
   "language": "python",
   "name": "python3"
  },
  "language_info": {
   "codemirror_mode": {
    "name": "ipython",
    "version": 3
   },
   "file_extension": ".py",
   "mimetype": "text/x-python",
   "name": "python",
   "nbconvert_exporter": "python",
   "pygments_lexer": "ipython3",
   "version": "3.11.9"
  },
  "widgets": {
   "application/vnd.jupyter.widget-state+json": {
    "state": {},
    "version_major": 2,
    "version_minor": 0
   }
  }
 },
 "nbformat": 4,
 "nbformat_minor": 5
}
