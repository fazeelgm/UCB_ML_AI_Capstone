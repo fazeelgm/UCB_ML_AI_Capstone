{
 "cells": [
  {
   "cell_type": "markdown",
   "id": "9077976a-3162-4997-8f96-1b02026b9400",
   "metadata": {},
   "source": [
    "# Capstone: Exploratory Data Analysis"
   ]
  },
  {
   "cell_type": "code",
   "execution_count": 2,
   "id": "a13fd16b-7c18-4e80-9754-81f3253e9e1a",
   "metadata": {},
   "outputs": [],
   "source": [
    "import matplotlib.pyplot as plt\n",
    "import pandas as pd\n",
    "import numpy as np\n",
    "import seaborn as sns\n",
    "\n",
    "# import project utils\n",
    "import sys\n",
    "sys.path.append('../src')\n",
    "\n",
    "import graph_utils"
   ]
  },
  {
   "cell_type": "markdown",
   "id": "9f1c6254-e944-4812-b625-e33ed2f87d9a",
   "metadata": {},
   "source": [
    "## The Data: San Francisco Police Department Incident Reports"
   ]
  },
  {
   "cell_type": "markdown",
   "id": "7ca9764e-af25-4061-b318-4a7ea2dd76b4",
   "metadata": {},
   "source": [
    "## Read the data"
   ]
  },
  {
   "cell_type": "markdown",
   "id": "8875e9d8-9eea-40f6-b1a7-ca95c2015769",
   "metadata": {},
   "source": [
    "The dataset is available as two CSV files with historical data from 2003-2018 and 2018-Present:\n",
    "\n",
    "* [San Franciso Police Department Incident Reports: Historical 2003 to May 2018](https://data.sfgov.org/Public-Safety/Police-Department-Incident-Reports-Historical-2003/tmnf-yvry/about_data)\n",
    "* [Police Department Incident Reports: 2018 to Present](https://data.sfgov.org/Public-Safety/Police-Department-Incident-Reports-2018-to-Present/wg3w-h783/about_data)\n",
    "\n",
    "The current data is updated nightly and it takes a few minutes to read and convert the data to a time-series format. So, I've created a set of utilities to optimize data ingestion in the `data_utils.py`."
   ]
  },
  {
   "cell_type": "code",
   "execution_count": 6,
   "id": "92283997-1411-4001-81d8-06906060f24d",
   "metadata": {},
   "outputs": [],
   "source": [
    "import data_utils"
   ]
  },
  {
   "cell_type": "markdown",
   "id": "3f91b471-3569-4dcb-bfdf-9e265f7bb217",
   "metadata": {},
   "source": [
    "I periodically refresh the dataset from the [excellent DataSF site](https://www.sf.gov/departments/city-administrator/datasf) to the project `data` directoty, and generate a _clean_ input file transformed as a time-series. I will typically do this a couple of times a week, and save the output as a static comment below so I know what happened.\n",
    "\n",
    "**Capstone Project 20.1: Initial Report and Exploratory Data Analysis (EDA)**: I'm limiting the report to only the current data for now:\n",
    "\n",
    "* [Police Department Incident Reports: 2018 to Present](https://data.sfgov.org/Public-Safety/Police-Department-Incident-Reports-2018-to-Present/wg3w-h783/about_data)\n"
   ]
  },
  {
   "cell_type": "code",
   "execution_count": 8,
   "id": "b9499b6c-776d-4ea4-ab13-fc49087386b9",
   "metadata": {},
   "outputs": [],
   "source": [
    "# Convert the raw SFPD data into a cleansed data file - only to be used when refreshing from new data\n",
    "\n",
    "current_raw_file = '../data/Police_Department_Incident_Reports__2018_to_Present_20240910.csv'\n",
    "current_clean_file = '../data/incidents_clean.csv'\n",
    "\n",
    "# Uncomment to regenerate the clean data file from raw data - normally just read the clean data as it's MUCH FASTER\n",
    "# data_utils.generate_clean_csv(current_raw_file, current_clean_file, debug=True)"
   ]
  },
  {
   "cell_type": "markdown",
   "id": "e4ec39e7-d9f4-4c1f-9c41-96d78984f80f",
   "metadata": {},
   "source": [
    "STATIC COMMENT: OUTPUT SAVED FROM LAST SUCCESSFULL RUN (see timestamp below):\n",
    "```\n",
    "Start Time: 09/13/24 16:24:59\n",
    "\n",
    "Reading file: ../data/Police_Department_Incident_Reports__2018_to_Present_20240910.csv ... Done: 887,173 rows, 35 columns\n",
    "... Formatting column names ... Done\n",
    "... Creating timeseries columns: datetime and date ... \n",
    "...... Number of rows where the datetime conversion failed: 0\n",
    "...... Number of rows where the date conversion failed: 0\n",
    "...... Timespan: 2018-01-01 00:00:00 - 2024-09-08 19:30:00\n",
    "... Done\n",
    "... Setting index to datetime ... Done\n",
    "\n",
    "Current Time: 09/13/24 16:26:17\n",
    "\n",
    "<class 'pandas.core.frame.DataFrame'>\n",
    "DatetimeIndex: 887173 entries, 2023-03-13 23:41:00 to 2023-03-21 17:42:00\n",
    "Data columns (total 36 columns):\n",
    " #   Column                                                Non-Null Count   Dtype         \n",
    "---  ------                                                --------------   -----         \n",
    " 0   incident_datetime                                     887173 non-null  object        \n",
    " 1   incident_date                                         887173 non-null  object        \n",
    " 2   incident_time                                         887173 non-null  object        \n",
    " 3   incident_year                                         887173 non-null  int64         \n",
    " 4   incident_day_of_week                                  887173 non-null  object        \n",
    " 5   report_datetime                                       887173 non-null  object        \n",
    " 6   row_id                                                887173 non-null  int64         \n",
    " 7   incident_id                                           887173 non-null  int64         \n",
    " 8   incident_number                                       887173 non-null  int64         \n",
    " 9   cad_number                                            689019 non-null  float64       \n",
    " 10  report_type_code                                      887173 non-null  object        \n",
    " 11  report_type_description                               887173 non-null  object        \n",
    " 12  filed_online                                          175483 non-null  object        \n",
    " 13  incident_code                                         887173 non-null  int64         \n",
    " 14  incident_category                                     886295 non-null  object        \n",
    " 15  incident_subcategory                                  886295 non-null  object        \n",
    " 16  incident_description                                  887173 non-null  object        \n",
    " 17  resolution                                            887173 non-null  object        \n",
    " 18  intersection                                          838341 non-null  object        \n",
    " 19  cnn                                                   838341 non-null  float64       \n",
    " 20  police_district                                       887173 non-null  object        \n",
    " 21  analysis_neighborhood                                 838173 non-null  object        \n",
    " 22  supervisor_district                                   837885 non-null  float64       \n",
    " 23  supervisor_district_2012                              838198 non-null  float64       \n",
    " 24  latitude                                              838341 non-null  float64       \n",
    " 25  longitude                                             838341 non-null  float64       \n",
    " 26  point                                                 838341 non-null  object        \n",
    " 27  neighborhoods                                         821671 non-null  float64       \n",
    " 28  esncag_-_boundary_file                                9413 non-null    float64       \n",
    " 29  central_market/tenderloin_boundary_polygon_-_updated  117048 non-null  float64       \n",
    " 30  civic_center_harm_reduction_project_boundary          114781 non-null  float64       \n",
    " 31  hsoc_zones_as_of_2018-06-05                           185157 non-null  float64       \n",
    " 32  invest_in_neighborhoods_(iin)_areas                   0 non-null       float64       \n",
    " 33  current_supervisor_districts                          838198 non-null  float64       \n",
    " 34  current_police_districts                              837437 non-null  float64       \n",
    " 35  date                                                  887173 non-null  datetime64[ns]\n",
    "dtypes: datetime64[ns](1), float64(14), int64(5), object(16)\n",
    "memory usage: 250.4+ MB\n",
    "... Writing file: ../data/incidents_clean.csv (887173, 36) ... Done\n",
    "Done\n",
    "\n",
    "End Time: 09/13/24 16:26:40\n",
    "```"
   ]
  },
  {
   "cell_type": "markdown",
   "id": "7c74fd6e-7192-46af-b568-9aea76ef864a",
   "metadata": {},
   "source": [
    "As you can see, there are almost a million samples since 2018!\n",
    "\n",
    "So, I then generate a few randomly sampled datasets of known percentages, to speed up the data exploration. Again only done when refreshing the dataset. Since we'll be working across multiple randomly selected datafiles, I set a global random_state value from hereon remove any randomization artifacts from one run to the next:"
   ]
  },
  {
   "cell_type": "code",
   "execution_count": 11,
   "id": "454585ec-3a70-46f2-ad98-f83cb9793e59",
   "metadata": {},
   "outputs": [],
   "source": [
    "# Global settings\n",
    "project_random_state = 42   # Consistent random_state"
   ]
  },
  {
   "cell_type": "code",
   "execution_count": 12,
   "id": "75794efb-42d0-4b9b-9d26-1444575b7a39",
   "metadata": {},
   "outputs": [],
   "source": [
    "# Uncomment to generate the sample files\n",
    "\n",
    "# data_utils.generate_sample_files(current_clean_file, random_state=project_random_state)"
   ]
  },
  {
   "cell_type": "markdown",
   "id": "44828fdf-0e65-4d51-9f2d-265269c93bc8",
   "metadata": {},
   "source": [
    "STATIC COMMENT: OUTPUT SAVED FROM LAST SUCCESSFULL RUN (see timestamp below):\n",
    "```\n",
    "Start Time: 09/13/24 16:26:40\n",
    "\n",
    "Reading file: ../data/incidents_clean.csv ... Done: 887,173 rows, 37 columns\n",
    "... Writing 10% sample file: ../data/incidents_clean_10_pct.csv (88717, 37) ... Done\n",
    "... Writing 25% sample file: ../data/incidents_clean_25_pct.csv (221793, 37) ... Done\n",
    "... Writing 50% sample file: ../data/incidents_clean_50_pct.csv (443586, 37) ... Done\n",
    "... Writing 75% sample file: ../data/incidents_clean_75_pct.csv (665380, 37) ... Done\n",
    "End Time: 09/13/24 16:28:05\n",
    "```"
   ]
  },
  {
   "cell_type": "code",
   "execution_count": 14,
   "id": "c04ff743-ddff-4f5c-a1ac-daa81f070753",
   "metadata": {},
   "outputs": [
    {
     "name": "stdout",
     "output_type": "stream",
     "text": [
      "Selected sample file: ../data/incidents_clean.csv\n"
     ]
    }
   ],
   "source": [
    "# Which dataset to work from?\n",
    "sample_file_size_pct = 100\n",
    "match(sample_file_size_pct):\n",
    "    case 100:\n",
    "        sample_file = current_clean_file\n",
    "    case 25 | 50 | 75:\n",
    "        file_prefix = current_clean_file.replace('.csv', '')\n",
    "        sample_file = f'{file_prefix}_{sample_file_size_pct}_pct.csv'\n",
    "    case _:\n",
    "        sample_file = '../data/incidents_clean_10_pct.csv'\n",
    "\n",
    "print(f'Selected sample file: {sample_file}')"
   ]
  },
  {
   "cell_type": "markdown",
   "id": "5a8dc240-9aaf-46bf-aee3-508a7c223a77",
   "metadata": {},
   "source": [
    "## Preprocessing"
   ]
  },
  {
   "cell_type": "markdown",
   "id": "2d4ceca4-001b-415f-be6e-76a50e0ae3e9",
   "metadata": {},
   "source": [
    "### Remove unwanted columns"
   ]
  },
  {
   "cell_type": "code",
   "execution_count": 17,
   "id": "e7bf758f-2307-46e0-80fe-bd1a788333e3",
   "metadata": {},
   "outputs": [
    {
     "name": "stdout",
     "output_type": "stream",
     "text": [
      "Reading file: ../data/incidents_clean.csv ... Done: 887,173 rows, 37 columns\n",
      "... Converting datetime and date to timeseries ... Done\n",
      "... Setting index to datetime ... Done\n",
      "... Dropping unwanted columns ... \n",
      "... preprocess_drop_cols: Column not found KeyError(\"['Unnamed: 0'] not found in axis\")\n",
      "... preprocess_drop_cols: Column report_datetime dropped\n",
      "... preprocess_drop_cols: Column row_id dropped\n",
      "... preprocess_drop_cols: Column incident_id dropped\n",
      "... preprocess_drop_cols: Column incident_number dropped\n",
      "... preprocess_drop_cols: Column cad_number dropped\n",
      "... preprocess_drop_cols: Column latitude dropped\n",
      "... preprocess_drop_cols: Column longitude dropped\n",
      "... preprocess_drop_cols: Column point dropped\n",
      "... preprocess_drop_cols: Column esncag_-_boundary_file dropped\n",
      "... preprocess_drop_cols: Column central_market/tenderloin_boundary_polygon_-_updated dropped\n",
      "... preprocess_drop_cols: Column civic_center_harm_reduction_project_boundary dropped\n",
      "... preprocess_drop_cols: Column hsoc_zones_as_of_2018-06-05 dropped\n",
      "... preprocess_drop_cols: Column invest_in_neighborhoods_(iin)_areas dropped\n",
      "... Done\n",
      "Done\n"
     ]
    }
   ],
   "source": [
    "current_raw_data, current_clean_data = data_utils.get_clean_data_from_csv(sample_file)"
   ]
  },
  {
   "cell_type": "code",
   "execution_count": 18,
   "id": "00b108d4-3cd2-4bfc-808d-b2dd46e19c52",
   "metadata": {},
   "outputs": [
    {
     "data": {
      "text/plain": [
       "Index(['incident_datetime', 'incident_date', 'incident_time', 'incident_year',\n",
       "       'incident_day_of_week', 'report_datetime', 'row_id', 'incident_id',\n",
       "       'incident_number', 'cad_number', 'report_type_code',\n",
       "       'report_type_description', 'filed_online', 'incident_code',\n",
       "       'incident_category', 'incident_subcategory', 'incident_description',\n",
       "       'resolution', 'intersection', 'cnn', 'police_district',\n",
       "       'analysis_neighborhood', 'supervisor_district',\n",
       "       'supervisor_district_2012', 'latitude', 'longitude', 'point',\n",
       "       'neighborhoods', 'esncag_-_boundary_file',\n",
       "       'central_market/tenderloin_boundary_polygon_-_updated',\n",
       "       'civic_center_harm_reduction_project_boundary',\n",
       "       'hsoc_zones_as_of_2018-06-05', 'invest_in_neighborhoods_(iin)_areas',\n",
       "       'current_supervisor_districts', 'current_police_districts', 'date'],\n",
       "      dtype='object')"
      ]
     },
     "execution_count": 18,
     "metadata": {},
     "output_type": "execute_result"
    }
   ],
   "source": [
    "current_raw_data.columns"
   ]
  },
  {
   "cell_type": "code",
   "execution_count": 19,
   "id": "24b043fb-384f-408c-850f-35d8e9abba30",
   "metadata": {},
   "outputs": [
    {
     "data": {
      "text/plain": [
       "Index(['incident_datetime', 'incident_date', 'incident_time', 'incident_year',\n",
       "       'incident_day_of_week', 'report_type_code', 'report_type_description',\n",
       "       'filed_online', 'incident_code', 'incident_category',\n",
       "       'incident_subcategory', 'incident_description', 'resolution',\n",
       "       'intersection', 'cnn', 'police_district', 'analysis_neighborhood',\n",
       "       'supervisor_district', 'supervisor_district_2012', 'neighborhoods',\n",
       "       'current_supervisor_districts', 'current_police_districts', 'date'],\n",
       "      dtype='object')"
      ]
     },
     "execution_count": 19,
     "metadata": {},
     "output_type": "execute_result"
    }
   ],
   "source": [
    "current_clean_data.columns"
   ]
  },
  {
   "cell_type": "code",
   "execution_count": 20,
   "id": "20ea6777-de2c-4f1c-82f5-b38e744e8ef6",
   "metadata": {},
   "outputs": [],
   "source": [
    "data = current_clean_data"
   ]
  },
  {
   "cell_type": "code",
   "execution_count": 21,
   "id": "8259a11e-a78d-496b-8b77-e2809dd9b117",
   "metadata": {},
   "outputs": [
    {
     "data": {
      "text/html": [
       "<div>\n",
       "<style scoped>\n",
       "    .dataframe tbody tr th:only-of-type {\n",
       "        vertical-align: middle;\n",
       "    }\n",
       "\n",
       "    .dataframe tbody tr th {\n",
       "        vertical-align: top;\n",
       "    }\n",
       "\n",
       "    .dataframe thead th {\n",
       "        text-align: right;\n",
       "    }\n",
       "</style>\n",
       "<table border=\"1\" class=\"dataframe\">\n",
       "  <thead>\n",
       "    <tr style=\"text-align: right;\">\n",
       "      <th></th>\n",
       "      <th>incident_datetime</th>\n",
       "      <th>incident_date</th>\n",
       "      <th>incident_time</th>\n",
       "      <th>incident_year</th>\n",
       "      <th>incident_day_of_week</th>\n",
       "      <th>report_type_code</th>\n",
       "      <th>report_type_description</th>\n",
       "      <th>filed_online</th>\n",
       "      <th>incident_code</th>\n",
       "      <th>incident_category</th>\n",
       "      <th>...</th>\n",
       "      <th>intersection</th>\n",
       "      <th>cnn</th>\n",
       "      <th>police_district</th>\n",
       "      <th>analysis_neighborhood</th>\n",
       "      <th>supervisor_district</th>\n",
       "      <th>supervisor_district_2012</th>\n",
       "      <th>neighborhoods</th>\n",
       "      <th>current_supervisor_districts</th>\n",
       "      <th>current_police_districts</th>\n",
       "      <th>date</th>\n",
       "    </tr>\n",
       "    <tr>\n",
       "      <th>datetime</th>\n",
       "      <th></th>\n",
       "      <th></th>\n",
       "      <th></th>\n",
       "      <th></th>\n",
       "      <th></th>\n",
       "      <th></th>\n",
       "      <th></th>\n",
       "      <th></th>\n",
       "      <th></th>\n",
       "      <th></th>\n",
       "      <th></th>\n",
       "      <th></th>\n",
       "      <th></th>\n",
       "      <th></th>\n",
       "      <th></th>\n",
       "      <th></th>\n",
       "      <th></th>\n",
       "      <th></th>\n",
       "      <th></th>\n",
       "      <th></th>\n",
       "      <th></th>\n",
       "    </tr>\n",
       "  </thead>\n",
       "  <tbody>\n",
       "    <tr>\n",
       "      <th>2023-03-13 23:41:00</th>\n",
       "      <td>2023/03/13 11:41:00 PM</td>\n",
       "      <td>2023/03/13</td>\n",
       "      <td>23:41</td>\n",
       "      <td>2023</td>\n",
       "      <td>Monday</td>\n",
       "      <td>VS</td>\n",
       "      <td>Vehicle Supplement</td>\n",
       "      <td>NaN</td>\n",
       "      <td>7041</td>\n",
       "      <td>Recovered Vehicle</td>\n",
       "      <td>...</td>\n",
       "      <td>NaN</td>\n",
       "      <td>NaN</td>\n",
       "      <td>Out of SF</td>\n",
       "      <td>NaN</td>\n",
       "      <td>NaN</td>\n",
       "      <td>NaN</td>\n",
       "      <td>NaN</td>\n",
       "      <td>NaN</td>\n",
       "      <td>NaN</td>\n",
       "      <td>2023-03-13</td>\n",
       "    </tr>\n",
       "    <tr>\n",
       "      <th>2023-03-01 05:02:00</th>\n",
       "      <td>2023/03/01 05:02:00 AM</td>\n",
       "      <td>2023/03/01</td>\n",
       "      <td>05:02</td>\n",
       "      <td>2023</td>\n",
       "      <td>Wednesday</td>\n",
       "      <td>II</td>\n",
       "      <td>Coplogic Initial</td>\n",
       "      <td>True</td>\n",
       "      <td>6374</td>\n",
       "      <td>Larceny Theft</td>\n",
       "      <td>...</td>\n",
       "      <td>NaN</td>\n",
       "      <td>NaN</td>\n",
       "      <td>Mission</td>\n",
       "      <td>NaN</td>\n",
       "      <td>NaN</td>\n",
       "      <td>NaN</td>\n",
       "      <td>NaN</td>\n",
       "      <td>NaN</td>\n",
       "      <td>NaN</td>\n",
       "      <td>2023-03-01</td>\n",
       "    </tr>\n",
       "  </tbody>\n",
       "</table>\n",
       "<p>2 rows × 23 columns</p>\n",
       "</div>"
      ],
      "text/plain": [
       "                          incident_datetime incident_date incident_time  \\\n",
       "datetime                                                                  \n",
       "2023-03-13 23:41:00  2023/03/13 11:41:00 PM    2023/03/13         23:41   \n",
       "2023-03-01 05:02:00  2023/03/01 05:02:00 AM    2023/03/01         05:02   \n",
       "\n",
       "                     incident_year incident_day_of_week report_type_code  \\\n",
       "datetime                                                                   \n",
       "2023-03-13 23:41:00           2023               Monday               VS   \n",
       "2023-03-01 05:02:00           2023            Wednesday               II   \n",
       "\n",
       "                    report_type_description filed_online  incident_code  \\\n",
       "datetime                                                                  \n",
       "2023-03-13 23:41:00      Vehicle Supplement          NaN           7041   \n",
       "2023-03-01 05:02:00        Coplogic Initial         True           6374   \n",
       "\n",
       "                     incident_category  ... intersection cnn police_district  \\\n",
       "datetime                                ...                                    \n",
       "2023-03-13 23:41:00  Recovered Vehicle  ...          NaN NaN       Out of SF   \n",
       "2023-03-01 05:02:00      Larceny Theft  ...          NaN NaN         Mission   \n",
       "\n",
       "                    analysis_neighborhood  supervisor_district  \\\n",
       "datetime                                                         \n",
       "2023-03-13 23:41:00                   NaN                  NaN   \n",
       "2023-03-01 05:02:00                   NaN                  NaN   \n",
       "\n",
       "                    supervisor_district_2012 neighborhoods  \\\n",
       "datetime                                                     \n",
       "2023-03-13 23:41:00                      NaN           NaN   \n",
       "2023-03-01 05:02:00                      NaN           NaN   \n",
       "\n",
       "                     current_supervisor_districts  current_police_districts  \\\n",
       "datetime                                                                      \n",
       "2023-03-13 23:41:00                           NaN                       NaN   \n",
       "2023-03-01 05:02:00                           NaN                       NaN   \n",
       "\n",
       "                          date  \n",
       "datetime                        \n",
       "2023-03-13 23:41:00 2023-03-13  \n",
       "2023-03-01 05:02:00 2023-03-01  \n",
       "\n",
       "[2 rows x 23 columns]"
      ]
     },
     "execution_count": 21,
     "metadata": {},
     "output_type": "execute_result"
    }
   ],
   "source": [
    "data.head(2)"
   ]
  },
  {
   "cell_type": "code",
   "execution_count": 22,
   "id": "b040230f-1629-4eae-b2e1-e93831b7d954",
   "metadata": {},
   "outputs": [
    {
     "data": {
      "image/png": "[encoded data removed]",
      "text/plain": [
       "<Figure size 640x480 with 1 Axes>"
      ]
     },
     "metadata": {},
     "output_type": "display_data"
    }
   ],
   "source": [
    "sns.histplot(data=data, x='date', discrete=True)\n",
    "plt.gcf().autofmt_xdate()\n",
    "plt.xlabel('Date')\n",
    "plt.ylabel('Count of Incidents')\n",
    "plt.title('Histogram of Incidents per Day')\n",
    "plt.show()"
   ]
  },
  {
   "cell_type": "code",
   "execution_count": 23,
   "id": "f76153ed-5fd7-4c47-bb27-1e94baa2f8aa",
   "metadata": {},
   "outputs": [
    {
     "data": {
      "text/plain": [
       "resolution\n",
       "Open or Active          0.802504\n",
       "Cite or Arrest Adult    0.189738\n",
       "Unfounded               0.005007\n",
       "Exceptional Adult       0.002751\n",
       "Name: proportion, dtype: float64"
      ]
     },
     "execution_count": 23,
     "metadata": {},
     "output_type": "execute_result"
    }
   ],
   "source": [
    "data.resolution.value_counts(normalize=True)"
   ]
  },
  {
   "cell_type": "code",
   "execution_count": 24,
   "id": "a4182090-0468-46bd-ba86-8d5213ddf48a",
   "metadata": {},
   "outputs": [
    {
     "data": {
      "text/plain": [
       "Index(['incident_datetime', 'incident_date', 'incident_time', 'incident_year',\n",
       "       'incident_day_of_week', 'report_type_code', 'report_type_description',\n",
       "       'filed_online', 'incident_code', 'incident_category',\n",
       "       'incident_subcategory', 'incident_description', 'resolution',\n",
       "       'intersection', 'cnn', 'police_district', 'analysis_neighborhood',\n",
       "       'supervisor_district', 'supervisor_district_2012', 'neighborhoods',\n",
       "       'current_supervisor_districts', 'current_police_districts', 'date'],\n",
       "      dtype='object')"
      ]
     },
     "execution_count": 24,
     "metadata": {},
     "output_type": "execute_result"
    }
   ],
   "source": [
    "temp_copy = data.copy()\n",
    "\n",
    "temp_copy.columns"
   ]
  },
  {
   "cell_type": "code",
   "execution_count": 25,
   "id": "e0129962-8625-486c-b3f2-912bdab732dc",
   "metadata": {},
   "outputs": [
    {
     "data": {
      "text/plain": [
       "Index(['incident_datetime', 'incident_date', 'incident_time', 'incident_year',\n",
       "       'incident_day_of_week', 'report_type_code', 'report_type_description',\n",
       "       'filed_online', 'incident_code', 'incident_category',\n",
       "       'incident_subcategory', 'incident_description', 'resolution',\n",
       "       'intersection', 'cnn', 'police_district', 'analysis_neighborhood',\n",
       "       'supervisor_district', 'supervisor_district_2012', 'neighborhoods',\n",
       "       'current_supervisor_districts', 'current_police_districts', 'date'],\n",
       "      dtype='object')"
      ]
     },
     "execution_count": 25,
     "metadata": {},
     "output_type": "execute_result"
    }
   ],
   "source": [
    "temp_copy.columns"
   ]
  },
  {
   "cell_type": "code",
   "execution_count": 26,
   "id": "63535c4a-9baa-4d6d-ab5a-9dc84ff43f13",
   "metadata": {},
   "outputs": [],
   "source": [
    "temp = temp_copy.head(1000)"
   ]
  },
  {
   "cell_type": "code",
   "execution_count": 27,
   "id": "c0c29e2c-049c-43f5-b2e2-74b01c706621",
   "metadata": {},
   "outputs": [
    {
     "data": {
      "text/plain": [
       "Index(['incident_datetime', 'incident_date', 'incident_time', 'incident_year',\n",
       "       'incident_day_of_week', 'report_type_code', 'report_type_description',\n",
       "       'filed_online', 'incident_code', 'incident_category',\n",
       "       'incident_subcategory', 'incident_description', 'resolution',\n",
       "       'intersection', 'cnn', 'police_district', 'analysis_neighborhood',\n",
       "       'supervisor_district', 'supervisor_district_2012', 'neighborhoods',\n",
       "       'current_supervisor_districts', 'current_police_districts', 'date'],\n",
       "      dtype='object')"
      ]
     },
     "execution_count": 27,
     "metadata": {},
     "output_type": "execute_result"
    }
   ],
   "source": [
    "temp.columns"
   ]
  },
  {
   "cell_type": "code",
   "execution_count": 28,
   "id": "80fa0ffe-f9b4-45aa-9a31-f0bd985d234e",
   "metadata": {},
   "outputs": [],
   "source": [
    "# graph_utils.graph_features(temp, 13, 2, figsize=(10, 15))"
   ]
  },
  {
   "cell_type": "code",
   "execution_count": 29,
   "id": "022b80d2-8ca9-4096-b162-788cd7188ae8",
   "metadata": {},
   "outputs": [],
   "source": [
    "# feature_df = temp[['incident_datetime', 'incident_date', 'incident_time', 'incident_year', 'incident_day_of_week']]\n",
    "# graph_features(feature_df, 3, 2)"
   ]
  },
  {
   "cell_type": "code",
   "execution_count": 30,
   "id": "d680dba6-177b-482f-a380-72ef496a955f",
   "metadata": {},
   "outputs": [
    {
     "data": {
      "text/plain": [
       "Index(['incident_datetime', 'incident_date', 'incident_time', 'incident_year',\n",
       "       'incident_day_of_week', 'report_type_code', 'report_type_description',\n",
       "       'filed_online', 'incident_code', 'incident_category',\n",
       "       'incident_subcategory', 'incident_description', 'resolution',\n",
       "       'intersection', 'cnn', 'police_district', 'analysis_neighborhood',\n",
       "       'supervisor_district', 'supervisor_district_2012', 'neighborhoods',\n",
       "       'current_supervisor_districts', 'current_police_districts', 'date'],\n",
       "      dtype='object')"
      ]
     },
     "execution_count": 30,
     "metadata": {},
     "output_type": "execute_result"
    }
   ],
   "source": [
    "temp_copy.columns"
   ]
  },
  {
   "cell_type": "code",
   "execution_count": 31,
   "id": "2dca3bb1-a8dd-4e2b-8f0a-faead9e9f4dc",
   "metadata": {},
   "outputs": [
    {
     "data": {
      "text/plain": [
       "datetime\n",
       "2023-03-13 23:41:00        Vehicle, Recovered, Auto\n",
       "2023-03-01 05:02:00    Theft, Other Property, >$950\n",
       "2023-03-13 13:16:00        Vehicle, Recovered, Auto\n",
       "2023-03-13 10:59:00        Vehicle, Recovered, Auto\n",
       "2023-03-14 18:44:00        Vehicle, Recovered, Auto\n",
       "Name: incident_description, dtype: object"
      ]
     },
     "execution_count": 31,
     "metadata": {},
     "output_type": "execute_result"
    }
   ],
   "source": [
    "temp_copy.incident_description.head(5)"
   ]
  },
  {
   "cell_type": "code",
   "execution_count": 32,
   "id": "2821fd34-7c3e-480d-8c4e-a115cab6c5cc",
   "metadata": {},
   "outputs": [
    {
     "data": {
      "text/plain": [
       "(887173, 23)"
      ]
     },
     "execution_count": 32,
     "metadata": {},
     "output_type": "execute_result"
    }
   ],
   "source": [
    "temp_copy.shape"
   ]
  },
  {
   "cell_type": "code",
   "execution_count": 33,
   "id": "33cd0694-0347-4fc1-a55c-70241489e18e",
   "metadata": {},
   "outputs": [
    {
     "data": {
      "text/plain": [
       "incident_description\n",
       "Theft, From Locked Vehicle, >$950                    105701\n",
       "Malicious Mischief, Vandalism to Property             29110\n",
       "Battery                                               27086\n",
       "Vehicle, Recovered, Auto                              26681\n",
       "Vehicle, Stolen, Auto                                 25981\n",
       "                                                      ...  \n",
       "Hazardous Materials, Spill Load                           1\n",
       "Scalping Tickets                                          1\n",
       "Embezzlement, Grand Theft Public/Private Official         1\n",
       "Gaming & Horse Racing (general)                           1\n",
       "Accidental Burns                                          1\n",
       "Name: count, Length: 852, dtype: int64"
      ]
     },
     "execution_count": 33,
     "metadata": {},
     "output_type": "execute_result"
    }
   ],
   "source": [
    "temp_copy.incident_description.value_counts()"
   ]
  },
  {
   "cell_type": "code",
   "execution_count": 34,
   "id": "a164c2df-7389-4079-8ee5-cf8d90c3efac",
   "metadata": {},
   "outputs": [
    {
     "data": {
      "text/plain": [
       "incident_category\n",
       "Larceny Theft                                   264308\n",
       "Other Miscellaneous                              60400\n",
       "Malicious Mischief                               59929\n",
       "Assault                                          54925\n",
       "Non-Criminal                                     51628\n",
       "Burglary                                         49318\n",
       "Motor Vehicle Theft                              48631\n",
       "Recovered Vehicle                                36026\n",
       "Fraud                                            28696\n",
       "Warrant                                          26085\n",
       "Lost Property                                    25882\n",
       "Drug Offense                                     22801\n",
       "Robbery                                          19929\n",
       "Missing Person                                   19195\n",
       "Suspicious Occ                                   18297\n",
       "Disorderly Conduct                               15396\n",
       "Offences Against The Family And Children         11764\n",
       "Miscellaneous Investigation                      10221\n",
       "Traffic Violation Arrest                          8234\n",
       "Other Offenses                                    7619\n",
       "Other                                             7471\n",
       "Weapons Offense                                   6238\n",
       "Weapons Carrying Etc                              5023\n",
       "Stolen Property                                   4302\n",
       "Case Closure                                      3464\n",
       "Forgery And Counterfeiting                        3066\n",
       "Courtesy Report                                   2704\n",
       "Arson                                             2562\n",
       "Traffic Collision                                 2180\n",
       "Vandalism                                         2061\n",
       "Fire Report                                       1326\n",
       "Embezzlement                                      1111\n",
       "Sex Offense                                       1030\n",
       "Prostitution                                       893\n",
       "Civil Sidewalks                                    889\n",
       "Vehicle Impounded                                  675\n",
       "Suicide                                            395\n",
       "Vehicle Misplaced                                  383\n",
       "Drug Violation                                     299\n",
       "Rape                                               214\n",
       "Homicide                                           173\n",
       "Liquor Laws                                        138\n",
       "Suspicious                                         119\n",
       "Human Trafficking (A), Commercial Sex Acts         115\n",
       "Motor Vehicle Theft?                                88\n",
       "Gambling                                            41\n",
       "Weapons Offence                                     25\n",
       "Human Trafficking, Commercial Sex Acts              23\n",
       "Human Trafficking (B), Involuntary Servitude         3\n",
       "Name: count, dtype: int64"
      ]
     },
     "execution_count": 34,
     "metadata": {},
     "output_type": "execute_result"
    }
   ],
   "source": [
    "temp_copy.incident_category.value_counts()"
   ]
  },
  {
   "cell_type": "code",
   "execution_count": null,
   "id": "e448a2b3-5ed2-4dd3-9f9e-acbc9267369a",
   "metadata": {},
   "outputs": [],
   "source": []
  }
 ],
 "metadata": {
  "kernelspec": {
   "display_name": "Python 3 (ipykernel)",
   "language": "python",
   "name": "python3"
  },
  "language_info": {
   "codemirror_mode": {
    "name": "ipython",
    "version": 3
   },
   "file_extension": ".py",
   "mimetype": "text/x-python",
   "name": "python",
   "nbconvert_exporter": "python",
   "pygments_lexer": "ipython3",
   "version": "3.11.9"
  },
  "widgets": {
   "application/vnd.jupyter.widget-state+json": {
    "state": {},
    "version_major": 2,
    "version_minor": 0
   }
  }
 },
 "nbformat": 4,
 "nbformat_minor": 5
}
