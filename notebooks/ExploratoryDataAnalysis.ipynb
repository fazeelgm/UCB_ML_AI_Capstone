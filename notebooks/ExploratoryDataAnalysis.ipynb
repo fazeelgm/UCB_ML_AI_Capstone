{
 "cells": [
  {
   "cell_type": "markdown",
   "id": "9077976a-3162-4997-8f96-1b02026b9400",
   "metadata": {},
   "source": [
    "# Capstone: Exploratory Data Analysis"
   ]
  },
  {
   "cell_type": "code",
   "execution_count": 2,
   "id": "a13fd16b-7c18-4e80-9754-81f3253e9e1a",
   "metadata": {},
   "outputs": [],
   "source": [
    "import matplotlib.pyplot as plt\n",
    "import pandas as pd\n",
    "import numpy as np\n",
    "import seaborn as sns\n",
    "\n",
    "# import project utils\n",
    "import sys\n",
    "sys.path.append('../src')\n",
    "\n",
    "import data_utils\n",
    "import graph_utils"
   ]
  },
  {
   "cell_type": "markdown",
   "id": "9f1c6254-e944-4812-b625-e33ed2f87d9a",
   "metadata": {},
   "source": [
    "## The Data"
   ]
  },
  {
   "cell_type": "code",
   "execution_count": 4,
   "id": "454585ec-3a70-46f2-ad98-f83cb9793e59",
   "metadata": {},
   "outputs": [],
   "source": [
    "# Global settings\n",
    "random_state = 42   # Consistent random_state"
   ]
  },
  {
   "cell_type": "code",
   "execution_count": 5,
   "id": "b9499b6c-776d-4ea4-ab13-fc49087386b9",
   "metadata": {
    "scrolled": true
   },
   "outputs": [],
   "source": [
    "# Convert the raw SFPD data into a cleansed data file - only to be used when refreshing from new data\n",
    "\n",
    "file_raw_data = '../data/Police_Department_Incident_Reports__2018_to_Present_20240910.csv'\n",
    "file_clean_data = '../data/incidents_clean.csv'\n",
    "\n",
    "# Uncomment to regenerate the clean data file from raw data - normally just read the clean data as it's MUCH FASTER\n",
    "# data_utils.generate_clean_csv(file_raw_data, file_clean_data, debug=True)"
   ]
  },
  {
   "cell_type": "markdown",
   "id": "e4ec39e7-d9f4-4c1f-9c41-96d78984f80f",
   "metadata": {},
   "source": [
    "OUTPUT SAVED FROM LAST RUN:\n",
    "```\n",
    "Start Time: 09/12/24 08:19:24\n",
    "\n",
    "Reading file: ../data/Police_Department_Incident_Reports__2018_to_Present_20240910.csv ... Done: 887,173 rows, 35 columns\n",
    "... Formatting column names ... Done\n",
    "... Creating timeseries columns: datetime and date ... \n",
    "...... Number of rows where the datetime conversion failed: 0\n",
    "...... Number of rows where the date conversion failed: 0\n",
    "...... Timespan: 2018-01-01 00:00:00 - 2024-09-08 19:30:00\n",
    "... Done\n",
    "... Setting index to datetime ... Done\n",
    "\n",
    "Current Time: 09/12/24 08:21:24\n",
    "\n",
    "<class 'pandas.core.frame.DataFrame'>\n",
    "DatetimeIndex: 887173 entries, 2023-03-13 23:41:00 to 2023-03-21 17:42:00\n",
    "Data columns (total 36 columns):\n",
    " #   Column                                                Non-Null Count   Dtype         \n",
    "---  ------                                                --------------   -----         \n",
    " 0   incident_datetime                                     887173 non-null  object        \n",
    " 1   incident_date                                         887173 non-null  object        \n",
    " 2   incident_time                                         887173 non-null  object        \n",
    " 3   incident_year                                         887173 non-null  int64         \n",
    " 4   incident_day_of_week                                  887173 non-null  object        \n",
    " 5   report_datetime                                       887173 non-null  object        \n",
    " 6   row_id                                                887173 non-null  int64         \n",
    " 7   incident_id                                           887173 non-null  int64         \n",
    " 8   incident_number                                       887173 non-null  int64         \n",
    " 9   cad_number                                            689019 non-null  float64       \n",
    " 10  report_type_code                                      887173 non-null  object        \n",
    " 11  report_type_description                               887173 non-null  object        \n",
    " 12  filed_online                                          175483 non-null  object        \n",
    " 13  incident_code                                         887173 non-null  int64         \n",
    " 14  incident_category                                     886295 non-null  object        \n",
    " 15  incident_subcategory                                  886295 non-null  object        \n",
    " 16  incident_description                                  887173 non-null  object        \n",
    " 17  resolution                                            887173 non-null  object        \n",
    " 18  intersection                                          838341 non-null  object        \n",
    " 19  cnn                                                   838341 non-null  float64       \n",
    " 20  police_district                                       887173 non-null  object        \n",
    " 21  analysis_neighborhood                                 838173 non-null  object        \n",
    " 22  supervisor_district                                   837885 non-null  float64       \n",
    " 23  supervisor_district_2012                              838198 non-null  float64       \n",
    " 24  latitude                                              838341 non-null  float64       \n",
    " 25  longitude                                             838341 non-null  float64       \n",
    " 26  point                                                 838341 non-null  object        \n",
    " 27  neighborhoods                                         821671 non-null  float64       \n",
    " 28  esncag_-_boundary_file                                9413 non-null    float64       \n",
    " 29  central_market/tenderloin_boundary_polygon_-_updated  117048 non-null  float64       \n",
    " 30  civic_center_harm_reduction_project_boundary          114781 non-null  float64       \n",
    " 31  hsoc_zones_as_of_2018-06-05                           185157 non-null  float64       \n",
    " 32  invest_in_neighborhoods_(iin)_areas                   0 non-null       float64       \n",
    " 33  current_supervisor_districts                          838198 non-null  float64       \n",
    " 34  current_police_districts                              837437 non-null  float64       \n",
    " 35  date                                                  887173 non-null  datetime64[ns]\n",
    "dtypes: datetime64[ns](1), float64(14), int64(5), object(16)\n",
    "memory usage: 250.4+ MB\n",
    "... Writing file: ../data/incidents_clean.csv (887173, 36) ... Done\n",
    "Done\n",
    "\n",
    "End Time: 09/12/24 08:22:04\n",
    "```"
   ]
  },
  {
   "cell_type": "code",
   "execution_count": 7,
   "id": "75794efb-42d0-4b9b-9d26-1444575b7a39",
   "metadata": {},
   "outputs": [],
   "source": [
    "# Uncomment to generate the sample files\n",
    "\n",
    "# data_utils.generate_sample_files(file_clean_data, random_state=random_state)"
   ]
  },
  {
   "cell_type": "markdown",
   "id": "44828fdf-0e65-4d51-9f2d-265269c93bc8",
   "metadata": {},
   "source": [
    "OUTPUT SAVED FROM LAST RUN:\n",
    "```\n",
    "Start Time: 09/12/24 08:22:04\n",
    "\n",
    "Reading file: ../data/incidents_clean.csv ... Done: 887,173 rows, 37 columns\n",
    "... Writing 10% sample file: ../data/incidents_clean_10_pct.csv (88717, 37) ... Done\n",
    "... Writing 25% sample file: ../data/incidents_clean_25_pct.csv (221793, 37) ... Done\n",
    "... Writing 50% sample file: ../data/incidents_clean_50_pct.csv (443586, 37) ... Done\n",
    "... Writing 75% sample file: ../data/incidents_clean_75_pct.csv (665380, 37) ... Done\n",
    "End Time: 09/12/24 08:23:32\n",
    "```"
   ]
  },
  {
   "cell_type": "code",
   "execution_count": 9,
   "id": "c04ff743-ddff-4f5c-a1ac-daa81f070753",
   "metadata": {},
   "outputs": [
    {
     "name": "stdout",
     "output_type": "stream",
     "text": [
      "Selected sample file: ../data/incidents_clean_10_pct.csv\n"
     ]
    }
   ],
   "source": [
    "# Which dataset to work from?\n",
    "sample_file_size_pct = 10\n",
    "match(sample_file_size_pct):\n",
    "    case 100:\n",
    "        sample_file = file_clean_data\n",
    "    case 25 | 50 | 75:\n",
    "        file_prefix = file_clean_data.replace('.csv', '')\n",
    "        sample_file = f'{file_prefix}_{sample_file_size_pct}_pct.csv'\n",
    "    case _:\n",
    "        sample_file = '../data/incidents_clean_10_pct.csv'\n",
    "\n",
    "print(f'Selected sample file: {sample_file}')"
   ]
  },
  {
   "cell_type": "code",
   "execution_count": 10,
   "id": "e7bf758f-2307-46e0-80fe-bd1a788333e3",
   "metadata": {},
   "outputs": [
    {
     "name": "stdout",
     "output_type": "stream",
     "text": [
      "Reading file: ../data/incidents_clean_10_pct.csv ... Done: 88,717 rows, 38 columns\n",
      "... Converting datetime and date to timeseries ... Done\n",
      "... Setting index to datetime ... Done\n",
      "... Dropping unwanted columns ... \n",
      "... Done\n",
      "Done\n"
     ]
    }
   ],
   "source": [
    "raw_data, clean_data = data_utils.get_clean_data_from_csv(sample_file)"
   ]
  },
  {
   "cell_type": "code",
   "execution_count": 11,
   "id": "00b108d4-3cd2-4bfc-808d-b2dd46e19c52",
   "metadata": {},
   "outputs": [
    {
     "data": {
      "text/plain": [
       "Index(['Unnamed: 0', 'incident_datetime', 'incident_date', 'incident_time',\n",
       "       'incident_year', 'incident_day_of_week', 'report_datetime', 'row_id',\n",
       "       'incident_id', 'incident_number', 'cad_number', 'report_type_code',\n",
       "       'report_type_description', 'filed_online', 'incident_code',\n",
       "       'incident_category', 'incident_subcategory', 'incident_description',\n",
       "       'resolution', 'intersection', 'cnn', 'police_district',\n",
       "       'analysis_neighborhood', 'supervisor_district',\n",
       "       'supervisor_district_2012', 'latitude', 'longitude', 'point',\n",
       "       'neighborhoods', 'esncag_-_boundary_file',\n",
       "       'central_market/tenderloin_boundary_polygon_-_updated',\n",
       "       'civic_center_harm_reduction_project_boundary',\n",
       "       'hsoc_zones_as_of_2018-06-05', 'invest_in_neighborhoods_(iin)_areas',\n",
       "       'current_supervisor_districts', 'current_police_districts', 'date'],\n",
       "      dtype='object')"
      ]
     },
     "execution_count": 11,
     "metadata": {},
     "output_type": "execute_result"
    }
   ],
   "source": [
    "raw_data.columns"
   ]
  },
  {
   "cell_type": "code",
   "execution_count": 12,
   "id": "24b043fb-384f-408c-850f-35d8e9abba30",
   "metadata": {},
   "outputs": [
    {
     "data": {
      "text/plain": [
       "Index(['incident_datetime', 'incident_date', 'incident_time', 'incident_year',\n",
       "       'incident_day_of_week', 'report_type_code', 'report_type_description',\n",
       "       'filed_online', 'incident_code', 'incident_category',\n",
       "       'incident_subcategory', 'incident_description', 'resolution',\n",
       "       'intersection', 'cnn', 'police_district', 'analysis_neighborhood',\n",
       "       'supervisor_district', 'supervisor_district_2012', 'neighborhoods',\n",
       "       'current_supervisor_districts', 'current_police_districts', 'date'],\n",
       "      dtype='object')"
      ]
     },
     "execution_count": 12,
     "metadata": {},
     "output_type": "execute_result"
    }
   ],
   "source": [
    "clean_data.columns"
   ]
  },
  {
   "cell_type": "code",
   "execution_count": 13,
   "id": "8259a11e-a78d-496b-8b77-e2809dd9b117",
   "metadata": {},
   "outputs": [
    {
     "data": {
      "text/html": [
       "<div>\n",
       "<style scoped>\n",
       "    .dataframe tbody tr th:only-of-type {\n",
       "        vertical-align: middle;\n",
       "    }\n",
       "\n",
       "    .dataframe tbody tr th {\n",
       "        vertical-align: top;\n",
       "    }\n",
       "\n",
       "    .dataframe thead th {\n",
       "        text-align: right;\n",
       "    }\n",
       "</style>\n",
       "<table border=\"1\" class=\"dataframe\">\n",
       "  <thead>\n",
       "    <tr style=\"text-align: right;\">\n",
       "      <th></th>\n",
       "      <th>incident_datetime</th>\n",
       "      <th>incident_date</th>\n",
       "      <th>incident_time</th>\n",
       "      <th>incident_year</th>\n",
       "      <th>incident_day_of_week</th>\n",
       "      <th>report_type_code</th>\n",
       "      <th>report_type_description</th>\n",
       "      <th>filed_online</th>\n",
       "      <th>incident_code</th>\n",
       "      <th>incident_category</th>\n",
       "      <th>...</th>\n",
       "      <th>intersection</th>\n",
       "      <th>cnn</th>\n",
       "      <th>police_district</th>\n",
       "      <th>analysis_neighborhood</th>\n",
       "      <th>supervisor_district</th>\n",
       "      <th>supervisor_district_2012</th>\n",
       "      <th>neighborhoods</th>\n",
       "      <th>current_supervisor_districts</th>\n",
       "      <th>current_police_districts</th>\n",
       "      <th>date</th>\n",
       "    </tr>\n",
       "    <tr>\n",
       "      <th>datetime</th>\n",
       "      <th></th>\n",
       "      <th></th>\n",
       "      <th></th>\n",
       "      <th></th>\n",
       "      <th></th>\n",
       "      <th></th>\n",
       "      <th></th>\n",
       "      <th></th>\n",
       "      <th></th>\n",
       "      <th></th>\n",
       "      <th></th>\n",
       "      <th></th>\n",
       "      <th></th>\n",
       "      <th></th>\n",
       "      <th></th>\n",
       "      <th></th>\n",
       "      <th></th>\n",
       "      <th></th>\n",
       "      <th></th>\n",
       "      <th></th>\n",
       "      <th></th>\n",
       "    </tr>\n",
       "  </thead>\n",
       "  <tbody>\n",
       "    <tr>\n",
       "      <th>2022-02-10 07:59:00</th>\n",
       "      <td>2022/02/10 07:59:00 AM</td>\n",
       "      <td>2022/02/10</td>\n",
       "      <td>07:59</td>\n",
       "      <td>2022</td>\n",
       "      <td>Thursday</td>\n",
       "      <td>VS</td>\n",
       "      <td>Vehicle Supplement</td>\n",
       "      <td>NaN</td>\n",
       "      <td>7041</td>\n",
       "      <td>Recovered Vehicle</td>\n",
       "      <td>...</td>\n",
       "      <td>SAN BENITO WAY \\ OCEAN AVE</td>\n",
       "      <td>22771000.0</td>\n",
       "      <td>Ingleside</td>\n",
       "      <td>West of Twin Peaks</td>\n",
       "      <td>7.0</td>\n",
       "      <td>7.0</td>\n",
       "      <td>67.0</td>\n",
       "      <td>8.0</td>\n",
       "      <td>10.0</td>\n",
       "      <td>2022-02-10</td>\n",
       "    </tr>\n",
       "    <tr>\n",
       "      <th>2022-11-17 23:30:00</th>\n",
       "      <td>2022/11/17 11:30:00 PM</td>\n",
       "      <td>2022/11/17</td>\n",
       "      <td>23:30</td>\n",
       "      <td>2022</td>\n",
       "      <td>Thursday</td>\n",
       "      <td>II</td>\n",
       "      <td>Initial</td>\n",
       "      <td>NaN</td>\n",
       "      <td>75000</td>\n",
       "      <td>Missing Person</td>\n",
       "      <td>...</td>\n",
       "      <td>SYCAMORE ST \\ VALENCIA ST</td>\n",
       "      <td>24172000.0</td>\n",
       "      <td>Mission</td>\n",
       "      <td>Mission</td>\n",
       "      <td>9.0</td>\n",
       "      <td>8.0</td>\n",
       "      <td>53.0</td>\n",
       "      <td>5.0</td>\n",
       "      <td>3.0</td>\n",
       "      <td>2022-11-17</td>\n",
       "    </tr>\n",
       "  </tbody>\n",
       "</table>\n",
       "<p>2 rows × 23 columns</p>\n",
       "</div>"
      ],
      "text/plain": [
       "                          incident_datetime incident_date incident_time  \\\n",
       "datetime                                                                  \n",
       "2022-02-10 07:59:00  2022/02/10 07:59:00 AM    2022/02/10         07:59   \n",
       "2022-11-17 23:30:00  2022/11/17 11:30:00 PM    2022/11/17         23:30   \n",
       "\n",
       "                     incident_year incident_day_of_week report_type_code  \\\n",
       "datetime                                                                   \n",
       "2022-02-10 07:59:00           2022             Thursday               VS   \n",
       "2022-11-17 23:30:00           2022             Thursday               II   \n",
       "\n",
       "                    report_type_description filed_online  incident_code  \\\n",
       "datetime                                                                  \n",
       "2022-02-10 07:59:00      Vehicle Supplement          NaN           7041   \n",
       "2022-11-17 23:30:00                 Initial          NaN          75000   \n",
       "\n",
       "                     incident_category  ...                intersection  \\\n",
       "datetime                                ...                               \n",
       "2022-02-10 07:59:00  Recovered Vehicle  ...  SAN BENITO WAY \\ OCEAN AVE   \n",
       "2022-11-17 23:30:00     Missing Person  ...   SYCAMORE ST \\ VALENCIA ST   \n",
       "\n",
       "                            cnn police_district analysis_neighborhood  \\\n",
       "datetime                                                                \n",
       "2022-02-10 07:59:00  22771000.0       Ingleside    West of Twin Peaks   \n",
       "2022-11-17 23:30:00  24172000.0         Mission               Mission   \n",
       "\n",
       "                     supervisor_district supervisor_district_2012  \\\n",
       "datetime                                                            \n",
       "2022-02-10 07:59:00                  7.0                      7.0   \n",
       "2022-11-17 23:30:00                  9.0                      8.0   \n",
       "\n",
       "                    neighborhoods  current_supervisor_districts  \\\n",
       "datetime                                                          \n",
       "2022-02-10 07:59:00          67.0                           8.0   \n",
       "2022-11-17 23:30:00          53.0                           5.0   \n",
       "\n",
       "                     current_police_districts       date  \n",
       "datetime                                                  \n",
       "2022-02-10 07:59:00                      10.0 2022-02-10  \n",
       "2022-11-17 23:30:00                       3.0 2022-11-17  \n",
       "\n",
       "[2 rows x 23 columns]"
      ]
     },
     "execution_count": 13,
     "metadata": {},
     "output_type": "execute_result"
    }
   ],
   "source": [
    "clean_data.head(2)"
   ]
  },
  {
   "cell_type": "code",
   "execution_count": 14,
   "id": "b040230f-1629-4eae-b2e1-e93831b7d954",
   "metadata": {},
   "outputs": [
    {
     "data": {
      "image/png": "[encoded data removed]",
      "text/plain": [
       "<Figure size 640x480 with 1 Axes>"
      ]
     },
     "metadata": {},
     "output_type": "display_data"
    }
   ],
   "source": [
    "sns.histplot(data=clean_data, x='date', discrete=True)\n",
    "plt.gcf().autofmt_xdate()\n",
    "plt.xlabel('Date')\n",
    "plt.ylabel('Count of Incidents')\n",
    "plt.title('Histogram of Incidents per Day')\n",
    "plt.show()"
   ]
  },
  {
   "cell_type": "code",
   "execution_count": 15,
   "id": "f76153ed-5fd7-4c47-bb27-1e94baa2f8aa",
   "metadata": {},
   "outputs": [
    {
     "data": {
      "text/plain": [
       "resolution\n",
       "Open or Active          0.803645\n",
       "Cite or Arrest Adult    0.188656\n",
       "Unfounded               0.005005\n",
       "Exceptional Adult       0.002694\n",
       "Name: proportion, dtype: float64"
      ]
     },
     "execution_count": 15,
     "metadata": {},
     "output_type": "execute_result"
    }
   ],
   "source": [
    "clean_data.resolution.value_counts(normalize=True)"
   ]
  },
  {
   "cell_type": "code",
   "execution_count": 16,
   "id": "a4182090-0468-46bd-ba86-8d5213ddf48a",
   "metadata": {},
   "outputs": [
    {
     "data": {
      "text/plain": [
       "Index(['incident_datetime', 'incident_date', 'incident_time', 'incident_year',\n",
       "       'incident_day_of_week', 'report_type_code', 'report_type_description',\n",
       "       'filed_online', 'incident_code', 'incident_category',\n",
       "       'incident_subcategory', 'incident_description', 'resolution',\n",
       "       'intersection', 'cnn', 'police_district', 'analysis_neighborhood',\n",
       "       'supervisor_district', 'supervisor_district_2012', 'neighborhoods',\n",
       "       'current_supervisor_districts', 'current_police_districts', 'date'],\n",
       "      dtype='object')"
      ]
     },
     "execution_count": 16,
     "metadata": {},
     "output_type": "execute_result"
    }
   ],
   "source": [
    "temp_copy = clean_data.copy()\n",
    "\n",
    "temp_copy.columns"
   ]
  },
  {
   "cell_type": "code",
   "execution_count": 17,
   "id": "d84f6922-362a-4439-9199-875eb7bc887c",
   "metadata": {},
   "outputs": [],
   "source": [
    "# try:\n",
    "#     # Get rid of columns that were introduced as part of creating the sample files\n",
    "#     sampling_unwanted_cols = ['Unnamed: 0', 'junk']\n",
    "#     for col in sampling_unwanted_cols:\n",
    "#         temp_copy.drop(columns=col, inplace=True)\n",
    "\n",
    "# except:\n",
    "#     print(repr(sys.exception()))\n",
    "\n",
    "# finally:\n",
    "#     drop_cols = ['report_datetime', # redundant\n",
    "#                  'row_id',\n",
    "#                  'incident_id', 'incident_number',\n",
    "#                  'cad_number',\n",
    "#                  'latitude', 'longitude', 'point',  \n",
    "#                  'esncag_-_boundary_file',\n",
    "#                  'central_market/tenderloin_boundary_polygon_-_updated', \n",
    "#                  'civic_center_harm_reduction_project_boundary',\n",
    "#                  'hsoc_zones_as_of_2018-06-05',\n",
    "#                  'invest_in_neighborhoods_(iin)_areas'\n",
    "#                 ]\n",
    "#     temp_copy = temp_copy.drop(columns=drop_cols) "
   ]
  },
  {
   "cell_type": "code",
   "execution_count": 18,
   "id": "e0129962-8625-486c-b3f2-912bdab732dc",
   "metadata": {},
   "outputs": [
    {
     "data": {
      "text/plain": [
       "Index(['incident_datetime', 'incident_date', 'incident_time', 'incident_year',\n",
       "       'incident_day_of_week', 'report_type_code', 'report_type_description',\n",
       "       'filed_online', 'incident_code', 'incident_category',\n",
       "       'incident_subcategory', 'incident_description', 'resolution',\n",
       "       'intersection', 'cnn', 'police_district', 'analysis_neighborhood',\n",
       "       'supervisor_district', 'supervisor_district_2012', 'neighborhoods',\n",
       "       'current_supervisor_districts', 'current_police_districts', 'date'],\n",
       "      dtype='object')"
      ]
     },
     "execution_count": 18,
     "metadata": {},
     "output_type": "execute_result"
    }
   ],
   "source": [
    "temp_copy.columns"
   ]
  },
  {
   "cell_type": "code",
   "execution_count": 19,
   "id": "63535c4a-9baa-4d6d-ab5a-9dc84ff43f13",
   "metadata": {},
   "outputs": [],
   "source": [
    "temp = temp_copy.head(1000)"
   ]
  },
  {
   "cell_type": "code",
   "execution_count": 20,
   "id": "c0c29e2c-049c-43f5-b2e2-74b01c706621",
   "metadata": {},
   "outputs": [
    {
     "data": {
      "text/plain": [
       "Index(['incident_datetime', 'incident_date', 'incident_time', 'incident_year',\n",
       "       'incident_day_of_week', 'report_type_code', 'report_type_description',\n",
       "       'filed_online', 'incident_code', 'incident_category',\n",
       "       'incident_subcategory', 'incident_description', 'resolution',\n",
       "       'intersection', 'cnn', 'police_district', 'analysis_neighborhood',\n",
       "       'supervisor_district', 'supervisor_district_2012', 'neighborhoods',\n",
       "       'current_supervisor_districts', 'current_police_districts', 'date'],\n",
       "      dtype='object')"
      ]
     },
     "execution_count": 20,
     "metadata": {},
     "output_type": "execute_result"
    }
   ],
   "source": [
    "temp.columns"
   ]
  },
  {
   "cell_type": "code",
   "execution_count": 21,
   "id": "80fa0ffe-f9b4-45aa-9a31-f0bd985d234e",
   "metadata": {},
   "outputs": [],
   "source": [
    "# graph_utils.graph_features(temp, 13, 2, figsize=(10, 15))"
   ]
  },
  {
   "cell_type": "code",
   "execution_count": 22,
   "id": "022b80d2-8ca9-4096-b162-788cd7188ae8",
   "metadata": {},
   "outputs": [],
   "source": [
    "# feature_df = temp[['incident_datetime', 'incident_date', 'incident_time', 'incident_year', 'incident_day_of_week']]\n",
    "# graph_features(feature_df, 3, 2)"
   ]
  },
  {
   "cell_type": "code",
   "execution_count": 23,
   "id": "d680dba6-177b-482f-a380-72ef496a955f",
   "metadata": {},
   "outputs": [
    {
     "data": {
      "text/plain": [
       "Index(['incident_datetime', 'incident_date', 'incident_time', 'incident_year',\n",
       "       'incident_day_of_week', 'report_type_code', 'report_type_description',\n",
       "       'filed_online', 'incident_code', 'incident_category',\n",
       "       'incident_subcategory', 'incident_description', 'resolution',\n",
       "       'intersection', 'cnn', 'police_district', 'analysis_neighborhood',\n",
       "       'supervisor_district', 'supervisor_district_2012', 'neighborhoods',\n",
       "       'current_supervisor_districts', 'current_police_districts', 'date'],\n",
       "      dtype='object')"
      ]
     },
     "execution_count": 23,
     "metadata": {},
     "output_type": "execute_result"
    }
   ],
   "source": [
    "temp_copy.columns"
   ]
  },
  {
   "cell_type": "code",
   "execution_count": 24,
   "id": "2dca3bb1-a8dd-4e2b-8f0a-faead9e9f4dc",
   "metadata": {},
   "outputs": [
    {
     "data": {
      "text/plain": [
       "datetime\n",
       "2022-02-10 07:59:00                Vehicle, Recovered, Auto\n",
       "2022-11-17 23:30:00                            Found Person\n",
       "2023-12-23 22:50:00                         Found  Property\n",
       "2018-09-05 13:20:00    Methamphetamine, Possession For Sale\n",
       "2022-01-22 10:28:00                Vehicle, Recovered, Auto\n",
       "Name: incident_description, dtype: object"
      ]
     },
     "execution_count": 24,
     "metadata": {},
     "output_type": "execute_result"
    }
   ],
   "source": [
    "temp_copy.incident_description.head(5)"
   ]
  },
  {
   "cell_type": "code",
   "execution_count": 25,
   "id": "2821fd34-7c3e-480d-8c4e-a115cab6c5cc",
   "metadata": {},
   "outputs": [
    {
     "data": {
      "text/plain": [
       "(88717, 23)"
      ]
     },
     "execution_count": 25,
     "metadata": {},
     "output_type": "execute_result"
    }
   ],
   "source": [
    "temp_copy.shape"
   ]
  },
  {
   "cell_type": "code",
   "execution_count": 26,
   "id": "33cd0694-0347-4fc1-a55c-70241489e18e",
   "metadata": {},
   "outputs": [
    {
     "data": {
      "text/plain": [
       "incident_description\n",
       "Theft, From Locked Vehicle, >$950            10659\n",
       "Malicious Mischief, Vandalism to Property     2894\n",
       "Battery                                       2693\n",
       "Lost Property                                 2667\n",
       "Vehicle, Stolen, Auto                         2650\n",
       "                                             ...  \n",
       "Homicide, Drive-by                               1\n",
       "Assault, Mayhem, W/ Gun                          1\n",
       "Throwing Injurious Substance on Highway          1\n",
       "Loitering near ATM                               1\n",
       "Assault, Att. Mayhem, W/ Force                   1\n",
       "Name: count, Length: 657, dtype: int64"
      ]
     },
     "execution_count": 26,
     "metadata": {},
     "output_type": "execute_result"
    }
   ],
   "source": [
    "temp_copy.incident_description.value_counts()"
   ]
  },
  {
   "cell_type": "code",
   "execution_count": 27,
   "id": "a164c2df-7389-4079-8ee5-cf8d90c3efac",
   "metadata": {},
   "outputs": [
    {
     "data": {
      "text/plain": [
       "incident_category\n",
       "Larceny Theft                                   26472\n",
       "Other Miscellaneous                              6039\n",
       "Malicious Mischief                               5935\n",
       "Assault                                          5512\n",
       "Non-Criminal                                     5207\n",
       "Motor Vehicle Theft                              5009\n",
       "Burglary                                         4929\n",
       "Recovered Vehicle                                3534\n",
       "Fraud                                            2857\n",
       "Warrant                                          2700\n",
       "Lost Property                                    2667\n",
       "Drug Offense                                     2256\n",
       "Robbery                                          1945\n",
       "Missing Person                                   1887\n",
       "Suspicious Occ                                   1811\n",
       "Disorderly Conduct                               1523\n",
       "Offences Against The Family And Children         1201\n",
       "Miscellaneous Investigation                      1032\n",
       "Traffic Violation Arrest                          777\n",
       "Other Offenses                                    751\n",
       "Other                                             746\n",
       "Weapons Offense                                   592\n",
       "Weapons Carrying Etc                              513\n",
       "Stolen Property                                   437\n",
       "Case Closure                                      339\n",
       "Courtesy Report                                   298\n",
       "Forgery And Counterfeiting                        259\n",
       "Arson                                             254\n",
       "Traffic Collision                                 223\n",
       "Vandalism                                         173\n",
       "Fire Report                                       130\n",
       "Sex Offense                                       115\n",
       "Embezzlement                                      105\n",
       "Prostitution                                       84\n",
       "Civil Sidewalks                                    64\n",
       "Vehicle Impounded                                  60\n",
       "Vehicle Misplaced                                  47\n",
       "Suicide                                            35\n",
       "Homicide                                           21\n",
       "Drug Violation                                     18\n",
       "Rape                                               18\n",
       "Suspicious                                         17\n",
       "Liquor Laws                                        10\n",
       "Human Trafficking (A), Commercial Sex Acts          7\n",
       "Motor Vehicle Theft?                                5\n",
       "Gambling                                            4\n",
       "Human Trafficking, Commercial Sex Acts              4\n",
       "Weapons Offence                                     1\n",
       "Human Trafficking (B), Involuntary Servitude        1\n",
       "Name: count, dtype: int64"
      ]
     },
     "execution_count": 27,
     "metadata": {},
     "output_type": "execute_result"
    }
   ],
   "source": [
    "temp_copy.incident_category.value_counts()"
   ]
  },
  {
   "cell_type": "code",
   "execution_count": null,
   "id": "e448a2b3-5ed2-4dd3-9f9e-acbc9267369a",
   "metadata": {},
   "outputs": [],
   "source": []
  }
 ],
 "metadata": {
  "kernelspec": {
   "display_name": "Python 3 (ipykernel)",
   "language": "python",
   "name": "python3"
  },
  "language_info": {
   "codemirror_mode": {
    "name": "ipython",
    "version": 3
   },
   "file_extension": ".py",
   "mimetype": "text/x-python",
   "name": "python",
   "nbconvert_exporter": "python",
   "pygments_lexer": "ipython3",
   "version": "3.11.9"
  },
  "widgets": {
   "application/vnd.jupyter.widget-state+json": {
    "state": {},
    "version_major": 2,
    "version_minor": 0
   }
  }
 },
 "nbformat": 4,
 "nbformat_minor": 5
}
