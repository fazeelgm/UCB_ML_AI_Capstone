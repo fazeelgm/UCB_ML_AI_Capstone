{
 "cells": [
  {
   "cell_type": "markdown",
   "id": "9077976a-3162-4997-8f96-1b02026b9400",
   "metadata": {},
   "source": [
    "# Capstone: Exploratory Data Analysis"
   ]
  },
  {
   "cell_type": "code",
   "execution_count": 2,
   "id": "a13fd16b-7c18-4e80-9754-81f3253e9e1a",
   "metadata": {},
   "outputs": [],
   "source": [
    "import matplotlib.pyplot as plt\n",
    "import pandas as pd\n",
    "import numpy as np\n",
    "import seaborn as sns\n",
    "\n",
    "# import project utils\n",
    "import sys\n",
    "sys.path.append('../src')\n",
    "\n",
    "import graph_utils\n"
   ]
  },
  {
   "cell_type": "markdown",
   "id": "9f1c6254-e944-4812-b625-e33ed2f87d9a",
   "metadata": {},
   "source": [
    "## The Data: San Francisco Police Department Incident Reports"
   ]
  },
  {
   "cell_type": "markdown",
   "id": "7ca9764e-af25-4061-b318-4a7ea2dd76b4",
   "metadata": {},
   "source": [
    "## Read the data"
   ]
  },
  {
   "cell_type": "markdown",
   "id": "8875e9d8-9eea-40f6-b1a7-ca95c2015769",
   "metadata": {},
   "source": [
    "The dataset is available as two CSV files with historical data from 2003-2018 and 2018-Present:\n",
    "\n",
    "* [San Franciso Police Department Incident Reports: Historical 2003 to May 2018](https://data.sfgov.org/Public-Safety/Police-Department-Incident-Reports-Historical-2003/tmnf-yvry/about_data)\n",
    "* [Police Department Incident Reports: 2018 to Present](https://data.sfgov.org/Public-Safety/Police-Department-Incident-Reports-2018-to-Present/wg3w-h783/about_data)\n",
    "\n",
    "The current data is updated nightly and it takes a few minutes to read and convert the data to a time-series format. So, I've created a set of utilities to optimize data ingestion in the `data_utils.py`."
   ]
  },
  {
   "cell_type": "code",
   "execution_count": 6,
   "id": "92283997-1411-4001-81d8-06906060f24d",
   "metadata": {},
   "outputs": [],
   "source": [
    "import data_utils"
   ]
  },
  {
   "cell_type": "markdown",
   "id": "3f91b471-3569-4dcb-bfdf-9e265f7bb217",
   "metadata": {},
   "source": [
    "I periodically refresh the dataset from the [excellent DataSF site](https://www.sf.gov/departments/city-administrator/datasf) to the project `data` directoty, and generate a _clean_ input file transformed as a time-series. I will typically do this a couple of times a week, and save the output as a static comment below so I know what happened.\n",
    "\n",
    "**Capstone Project 20.1: Initial Report and Exploratory Data Analysis (EDA)**: I'm limiting the report to only the current data for now:\n",
    "\n",
    "* [Police Department Incident Reports: 2018 to Present](https://data.sfgov.org/Public-Safety/Police-Department-Incident-Reports-2018-to-Present/wg3w-h783/about_data)\n"
   ]
  },
  {
   "cell_type": "code",
   "execution_count": 8,
   "id": "b9499b6c-776d-4ea4-ab13-fc49087386b9",
   "metadata": {},
   "outputs": [],
   "source": [
    "# Convert the raw SFPD data into a cleansed data file - only to be used when refreshing from new data\n",
    "\n",
    "current_raw_file = '../data/Police_Department_Incident_Reports__2018_to_Present_20240910.csv'\n",
    "current_clean_file = '../data/incidents_clean.csv'\n",
    "\n",
    "# Uncomment to regenerate the clean data file from raw data - normally just read the clean data as it's MUCH FASTER\n",
    "# data_utils.generate_clean_csv(current_raw_file, current_clean_file, debug=True)"
   ]
  },
  {
   "cell_type": "markdown",
   "id": "e4ec39e7-d9f4-4c1f-9c41-96d78984f80f",
   "metadata": {},
   "source": [
    "STATIC COMMENT: OUTPUT SAVED FROM LAST SUCCESSFULL RUN (see timestamp below):\n",
    "```\n",
    "Start Time: 09/13/24 16:24:59\n",
    "\n",
    "Reading file: ../data/Police_Department_Incident_Reports__2018_to_Present_20240910.csv ... Done: 887,173 rows, 35 columns\n",
    "... Formatting column names ... Done\n",
    "... Creating timeseries columns: datetime and date ... \n",
    "...... Number of rows where the datetime conversion failed: 0\n",
    "...... Number of rows where the date conversion failed: 0\n",
    "...... Timespan: 2018-01-01 00:00:00 - 2024-09-08 19:30:00\n",
    "... Done\n",
    "... Setting index to datetime ... Done\n",
    "\n",
    "Current Time: 09/13/24 16:26:17\n",
    "\n",
    "<class 'pandas.core.frame.DataFrame'>\n",
    "DatetimeIndex: 887173 entries, 2023-03-13 23:41:00 to 2023-03-21 17:42:00\n",
    "Data columns (total 36 columns):\n",
    " #   Column                                                Non-Null Count   Dtype         \n",
    "---  ------                                                --------------   -----         \n",
    " 0   incident_datetime                                     887173 non-null  object        \n",
    " 1   incident_date                                         887173 non-null  object        \n",
    " 2   incident_time                                         887173 non-null  object        \n",
    " 3   incident_year                                         887173 non-null  int64         \n",
    " 4   incident_day_of_week                                  887173 non-null  object        \n",
    " 5   report_datetime                                       887173 non-null  object        \n",
    " 6   row_id                                                887173 non-null  int64         \n",
    " 7   incident_id                                           887173 non-null  int64         \n",
    " 8   incident_number                                       887173 non-null  int64         \n",
    " 9   cad_number                                            689019 non-null  float64       \n",
    " 10  report_type_code                                      887173 non-null  object        \n",
    " 11  report_type_description                               887173 non-null  object        \n",
    " 12  filed_online                                          175483 non-null  object        \n",
    " 13  incident_code                                         887173 non-null  int64         \n",
    " 14  incident_category                                     886295 non-null  object        \n",
    " 15  incident_subcategory                                  886295 non-null  object        \n",
    " 16  incident_description                                  887173 non-null  object        \n",
    " 17  resolution                                            887173 non-null  object        \n",
    " 18  intersection                                          838341 non-null  object        \n",
    " 19  cnn                                                   838341 non-null  float64       \n",
    " 20  police_district                                       887173 non-null  object        \n",
    " 21  analysis_neighborhood                                 838173 non-null  object        \n",
    " 22  supervisor_district                                   837885 non-null  float64       \n",
    " 23  supervisor_district_2012                              838198 non-null  float64       \n",
    " 24  latitude                                              838341 non-null  float64       \n",
    " 25  longitude                                             838341 non-null  float64       \n",
    " 26  point                                                 838341 non-null  object        \n",
    " 27  neighborhoods                                         821671 non-null  float64       \n",
    " 28  esncag_-_boundary_file                                9413 non-null    float64       \n",
    " 29  central_market/tenderloin_boundary_polygon_-_updated  117048 non-null  float64       \n",
    " 30  civic_center_harm_reduction_project_boundary          114781 non-null  float64       \n",
    " 31  hsoc_zones_as_of_2018-06-05                           185157 non-null  float64       \n",
    " 32  invest_in_neighborhoods_(iin)_areas                   0 non-null       float64       \n",
    " 33  current_supervisor_districts                          838198 non-null  float64       \n",
    " 34  current_police_districts                              837437 non-null  float64       \n",
    " 35  date                                                  887173 non-null  datetime64[ns]\n",
    "dtypes: datetime64[ns](1), float64(14), int64(5), object(16)\n",
    "memory usage: 250.4+ MB\n",
    "... Writing file: ../data/incidents_clean.csv (887173, 36) ... Done\n",
    "Done\n",
    "\n",
    "End Time: 09/13/24 16:26:40\n",
    "```"
   ]
  },
  {
   "cell_type": "markdown",
   "id": "7c74fd6e-7192-46af-b568-9aea76ef864a",
   "metadata": {},
   "source": [
    "As you can see, there are almost a million samples since 2018!\n",
    "\n",
    "So, I then generate a few randomly sampled datasets of known percentages, to speed up the data exploration. Again only done when refreshing the dataset. Since we'll be working across multiple randomly selected datafiles, I set a global random_state value from hereon remove any randomization artifacts from one run to the next:"
   ]
  },
  {
   "cell_type": "code",
   "execution_count": 11,
   "id": "454585ec-3a70-46f2-ad98-f83cb9793e59",
   "metadata": {},
   "outputs": [],
   "source": [
    "# Consistent random_state for the project\n",
    "project_random_state = 42"
   ]
  },
  {
   "cell_type": "code",
   "execution_count": 12,
   "id": "75794efb-42d0-4b9b-9d26-1444575b7a39",
   "metadata": {},
   "outputs": [],
   "source": [
    "# Uncomment to generate the sample files\n",
    "\n",
    "# data_utils.generate_sample_files(current_clean_file, random_state=project_random_state)"
   ]
  },
  {
   "cell_type": "markdown",
   "id": "44828fdf-0e65-4d51-9f2d-265269c93bc8",
   "metadata": {},
   "source": [
    "STATIC COMMENT: OUTPUT SAVED FROM LAST SUCCESSFULL RUN (see timestamp below):\n",
    "```\n",
    "Start Time: 09/13/24 16:26:40\n",
    "\n",
    "Reading file: ../data/incidents_clean.csv ... Done: 887,173 rows, 37 columns\n",
    "... Writing 10% sample file: ../data/incidents_clean_10_pct.csv (88717, 37) ... Done\n",
    "... Writing 25% sample file: ../data/incidents_clean_25_pct.csv (221793, 37) ... Done\n",
    "... Writing 50% sample file: ../data/incidents_clean_50_pct.csv (443586, 37) ... Done\n",
    "... Writing 75% sample file: ../data/incidents_clean_75_pct.csv (665380, 37) ... Done\n",
    "End Time: 09/13/24 16:28:05\n",
    "```"
   ]
  },
  {
   "cell_type": "code",
   "execution_count": 14,
   "id": "c04ff743-ddff-4f5c-a1ac-daa81f070753",
   "metadata": {},
   "outputs": [
    {
     "name": "stdout",
     "output_type": "stream",
     "text": [
      "Selected sample file: ../data/incidents_clean.csv\n"
     ]
    }
   ],
   "source": [
    "# Which dataset to work from?\n",
    "sample_file_size_pct = 10\n",
    "match(sample_file_size_pct):\n",
    "    case 100:\n",
    "        sample_file = current_clean_file\n",
    "    case 25 | 50 | 75:\n",
    "        file_prefix = current_clean_file.replace('.csv', '')\n",
    "        sample_file = f'{file_prefix}_{sample_file_size_pct}_pct.csv'\n",
    "    case _:\n",
    "        sample_file = '../data/incidents_clean_10_pct.csv'\n",
    "\n",
    "print(f'Selected sample file: {sample_file}')"
   ]
  },
  {
   "cell_type": "markdown",
   "id": "5a8dc240-9aaf-46bf-aee3-508a7c223a77",
   "metadata": {},
   "source": [
    "## Preprocessing"
   ]
  },
  {
   "cell_type": "markdown",
   "id": "8f2c5659-ab95-408f-89b6-adb3b6218b11",
   "metadata": {},
   "source": [
    "### Read in the current data"
   ]
  },
  {
   "cell_type": "markdown",
   "id": "81d0a154-1c8b-4a55-8220-650875e22e85",
   "metadata": {},
   "source": [
    "I use the `get_clean_data_from_csv` function to read the selected sample file:\n",
    "\n",
    "* Extracts the `datetime` column, converts it to datetime format and sets it as the index for the returned data\n",
    "* Also copies the `datetime` in a new column `date`"
   ]
  },
  {
   "cell_type": "code",
   "execution_count": 18,
   "id": "e7bf758f-2307-46e0-80fe-bd1a788333e3",
   "metadata": {},
   "outputs": [
    {
     "name": "stdout",
     "output_type": "stream",
     "text": [
      "Reading file: ../data/incidents_clean.csv ... Done: 887,173 rows, 37 columns\n",
      "... Converting datetime and date to timeseries ... Done\n",
      "... Setting index to datetime ... Done\n",
      "Done\n"
     ]
    }
   ],
   "source": [
    "current_raw_df, current_clean_df = data_utils.get_clean_data_from_csv(sample_file)"
   ]
  },
  {
   "cell_type": "code",
   "execution_count": 19,
   "id": "38320bdf-0ae6-4c8e-8ab9-607b17c9826d",
   "metadata": {},
   "outputs": [
    {
     "name": "stdout",
     "output_type": "stream",
     "text": [
      "Dataset Sizes: CurrentRaw: (887173, 36), Current_Clean: (887173, 36)\n"
     ]
    }
   ],
   "source": [
    "print(f'Dataset Sizes: CurrentRaw: {current_raw_df.shape}, Current_Clean: {current_clean_df.shape}')"
   ]
  },
  {
   "cell_type": "code",
   "execution_count": 20,
   "id": "53bb9d60-19b4-4b8d-ae23-fc808b6f0889",
   "metadata": {},
   "outputs": [
    {
     "name": "stdout",
     "output_type": "stream",
     "text": [
      "<class 'pandas.core.frame.DataFrame'>\n",
      "DatetimeIndex: 887173 entries, 2023-03-13 23:41:00 to 2023-03-21 17:42:00\n",
      "Data columns (total 36 columns):\n",
      " #   Column                                                Non-Null Count   Dtype         \n",
      "---  ------                                                --------------   -----         \n",
      " 0   incident_datetime                                     887173 non-null  object        \n",
      " 1   incident_date                                         887173 non-null  object        \n",
      " 2   incident_time                                         887173 non-null  object        \n",
      " 3   incident_year                                         887173 non-null  int64         \n",
      " 4   incident_day_of_week                                  887173 non-null  object        \n",
      " 5   report_datetime                                       887173 non-null  object        \n",
      " 6   row_id                                                887173 non-null  int64         \n",
      " 7   incident_id                                           887173 non-null  int64         \n",
      " 8   incident_number                                       887173 non-null  int64         \n",
      " 9   cad_number                                            689019 non-null  float64       \n",
      " 10  report_type_code                                      887173 non-null  object        \n",
      " 11  report_type_description                               887173 non-null  object        \n",
      " 12  filed_online                                          175483 non-null  object        \n",
      " 13  incident_code                                         887173 non-null  int64         \n",
      " 14  incident_category                                     886295 non-null  object        \n",
      " 15  incident_subcategory                                  886295 non-null  object        \n",
      " 16  incident_description                                  887173 non-null  object        \n",
      " 17  resolution                                            887173 non-null  object        \n",
      " 18  intersection                                          838341 non-null  object        \n",
      " 19  cnn                                                   838341 non-null  float64       \n",
      " 20  police_district                                       887173 non-null  object        \n",
      " 21  analysis_neighborhood                                 838173 non-null  object        \n",
      " 22  supervisor_district                                   837885 non-null  float64       \n",
      " 23  supervisor_district_2012                              838198 non-null  float64       \n",
      " 24  latitude                                              838341 non-null  float64       \n",
      " 25  longitude                                             838341 non-null  float64       \n",
      " 26  point                                                 838341 non-null  object        \n",
      " 27  neighborhoods                                         821671 non-null  float64       \n",
      " 28  esncag_-_boundary_file                                9413 non-null    float64       \n",
      " 29  central_market/tenderloin_boundary_polygon_-_updated  117048 non-null  float64       \n",
      " 30  civic_center_harm_reduction_project_boundary          114781 non-null  float64       \n",
      " 31  hsoc_zones_as_of_2018-06-05                           185157 non-null  float64       \n",
      " 32  invest_in_neighborhoods_(iin)_areas                   0 non-null       float64       \n",
      " 33  current_supervisor_districts                          838198 non-null  float64       \n",
      " 34  current_police_districts                              837437 non-null  float64       \n",
      " 35  date                                                  887173 non-null  datetime64[ns]\n",
      "dtypes: datetime64[ns](1), float64(14), int64(5), object(16)\n",
      "memory usage: 250.4+ MB\n"
     ]
    }
   ],
   "source": [
    "current_raw_df.info()"
   ]
  },
  {
   "cell_type": "markdown",
   "id": "50839588-c61b-44b0-8640-5a2be724e5ce",
   "metadata": {},
   "source": [
    "### Inspect: Nulls"
   ]
  },
  {
   "cell_type": "code",
   "execution_count": 22,
   "id": "e5f5cd1d-8cd3-47bf-a6d6-d070d1940b67",
   "metadata": {},
   "outputs": [
    {
     "name": "stdout",
     "output_type": "stream",
     "text": [
      "COMPLETENESS CHECK: Percent non-null values in each column\n"
     ]
    },
    {
     "data": {
      "text/plain": [
       "incident_datetime                                       100.00\n",
       "incident_date                                           100.00\n",
       "incident_time                                           100.00\n",
       "incident_year                                           100.00\n",
       "incident_day_of_week                                    100.00\n",
       "report_datetime                                         100.00\n",
       "row_id                                                  100.00\n",
       "incident_id                                             100.00\n",
       "incident_number                                         100.00\n",
       "cad_number                                               77.66\n",
       "report_type_code                                        100.00\n",
       "report_type_description                                 100.00\n",
       "filed_online                                             19.78\n",
       "incident_code                                           100.00\n",
       "incident_category                                        99.90\n",
       "incident_subcategory                                     99.90\n",
       "incident_description                                    100.00\n",
       "resolution                                              100.00\n",
       "intersection                                             94.50\n",
       "cnn                                                      94.50\n",
       "police_district                                         100.00\n",
       "analysis_neighborhood                                    94.48\n",
       "supervisor_district                                      94.44\n",
       "supervisor_district_2012                                 94.48\n",
       "latitude                                                 94.50\n",
       "longitude                                                94.50\n",
       "point                                                    94.50\n",
       "neighborhoods                                            92.62\n",
       "esncag_-_boundary_file                                    1.06\n",
       "central_market/tenderloin_boundary_polygon_-_updated     13.19\n",
       "civic_center_harm_reduction_project_boundary             12.94\n",
       "hsoc_zones_as_of_2018-06-05                              20.87\n",
       "invest_in_neighborhoods_(iin)_areas                       0.00\n",
       "current_supervisor_districts                             94.48\n",
       "current_police_districts                                 94.39\n",
       "date                                                    100.00\n",
       "dtype: float64"
      ]
     },
     "execution_count": 22,
     "metadata": {},
     "output_type": "execute_result"
    }
   ],
   "source": [
    "print('COMPLETENESS CHECK: Percent non-null values in each column')\n",
    "current_raw_df.isnull().sum().transform(lambda x: (1 - (x / current_raw_df.shape[0])) * 100).round(2)"
   ]
  },
  {
   "cell_type": "markdown",
   "id": "2d4ceca4-001b-415f-be6e-76a50e0ae3e9",
   "metadata": {},
   "source": [
    "#### Remove unwanted columns"
   ]
  },
  {
   "attachments": {},
   "cell_type": "markdown",
   "id": "0690f56c-f1ac-41e7-8eb1-ccefc3645b7f",
   "metadata": {},
   "source": [
    "We now have the current data in two dataframes - _we will keep the `current_raw_df` data pristine and start pre-processing \n",
    "the `current_clean_df` as we analyze the content_.\n",
    "\n",
    "Let's take a first pass at removing unwanted columns.\n",
    "\n",
    "Detailed descriptions can be found in two main sources that explain the data fields in the dataset:\n",
    "\n",
    "* [DataSF Data Sheet](https://data.sfgov.org/Public-Safety/Police-Department-Incident-Reports-2018-to-Present/wg3w-h783/about_data)\n",
    "* [DataSF | Dataset Explainers: SFPD Incident Report: 2018 to Present](https://sfdigitalservices.gitbook.io/dataset-explainers/sfpd-incident-report-2018-to-present)"
   ]
  },
  {
   "cell_type": "code",
   "execution_count": 25,
   "id": "7eab190b-16ab-4d85-a3bf-10c6ed80e48b",
   "metadata": {},
   "outputs": [
    {
     "data": {
      "text/plain": [
       "Index(['incident_datetime', 'incident_date', 'incident_time', 'incident_year',\n",
       "       'incident_day_of_week', 'report_datetime', 'row_id', 'incident_id',\n",
       "       'incident_number', 'cad_number', 'report_type_code',\n",
       "       'report_type_description', 'filed_online', 'incident_code',\n",
       "       'incident_category', 'incident_subcategory', 'incident_description',\n",
       "       'resolution', 'intersection', 'cnn', 'police_district',\n",
       "       'analysis_neighborhood', 'supervisor_district',\n",
       "       'supervisor_district_2012', 'latitude', 'longitude', 'point',\n",
       "       'neighborhoods', 'esncag_-_boundary_file',\n",
       "       'central_market/tenderloin_boundary_polygon_-_updated',\n",
       "       'civic_center_harm_reduction_project_boundary',\n",
       "       'hsoc_zones_as_of_2018-06-05', 'invest_in_neighborhoods_(iin)_areas',\n",
       "       'current_supervisor_districts', 'current_police_districts', 'date'],\n",
       "      dtype='object')"
      ]
     },
     "execution_count": 25,
     "metadata": {},
     "output_type": "execute_result"
    }
   ],
   "source": [
    "current_raw_df.columns"
   ]
  },
  {
   "cell_type": "markdown",
   "id": "c8ce3e51-f261-4fd6-b584-4661d08da65a",
   "metadata": {},
   "source": [
    "During the first pass, we'll use the following strategy to drop the initial set of columns:\n",
    "\n",
    "* Columns named `Unnamed: nnn`: these were introduced during the sample file generation and are unwanted\n",
    "* Columns that are mostly empty\n",
    "  * esncag_-_boundary_file\n",
    "  * central_market/tenderloin_boundary_polygon_-_updated\n",
    "  * civic_center_harm_reduction_project_boundary\n",
    "  * hsoc_zones_as_of_2018-06-05\n",
    "  * invest_in_neighborhoods_(iin)_areas\n",
    "* Any administrative columns that are not related to predicting the crime category from its related features:\n",
    "  * report_type_code\n",
    "  * report_type_description\n",
    "  * filed_online\n",
    "* Columns that identify street or address information that we will not be using as we are focused on predictions based on LatLong, neighborhood or Police District and Precinct\n",
    "  * intersection\n",
    "  * cnn\n",
    "  * Point: Redundant since we have latitude, longitude\n",
    "* Columns that have to do with City governance and not related to crime prediction\n",
    "  * supervisor_district\n",
    "  * supervisor_district_2012\n",
    "  * current_supervisor_districts\n"
   ]
  },
  {
   "cell_type": "code",
   "execution_count": 27,
   "id": "2daafcb8-73ad-408c-8f8f-724a627a7b43",
   "metadata": {},
   "outputs": [],
   "source": [
    "# Commented out analysis for unwanted columns above\n",
    "\n",
    "# current_raw_df.groupby(['intersection', 'cnn'])['intersection'].count()\n",
    "# current_raw_df.groupby(['report_type_description', 'report_type_code'])['report_type_description'].count()\n",
    "# current_raw_df.groupby(['supervisor_district', 'supervisor_district_2012'])['supervisor_district'].count()\n",
    "# current_raw_df.groupby(['supervisor_district', 'current_supervisor_districts'])['supervisor_district'].count()\n",
    "# current_raw_df.groupby(['report_type_description', 'report_type_code'])['report_type_description'].count()"
   ]
  },
  {
   "cell_type": "code",
   "execution_count": 28,
   "id": "9c8402f3-fef0-4691-9ac7-2323b085667b",
   "metadata": {},
   "outputs": [
    {
     "name": "stdout",
     "output_type": "stream",
     "text": [
      "Pre-processing ... \n",
      "... Dropping unwanted columns ... \n",
      "... preprocess_drop_cols: Column Unnamed: 0 not dropped: KeyError(\"['Unnamed: 0'] not found in axis\")\n",
      "... preprocess_drop_cols: Column esncag_-_boundary_file dropped\n",
      "... preprocess_drop_cols: Column central_market/tenderloin_boundary_polygon_-_updated dropped\n",
      "... preprocess_drop_cols: Column civic_center_harm_reduction_project_boundary dropped\n",
      "... preprocess_drop_cols: Column hsoc_zones_as_of_2018-06-05 dropped\n",
      "... preprocess_drop_cols: Column invest_in_neighborhoods_(iin)_areas dropped\n",
      "... preprocess_drop_cols: Column report_type_code dropped\n",
      "... preprocess_drop_cols: Column report_type_description dropped\n",
      "... preprocess_drop_cols: Column filed_online dropped\n",
      "... preprocess_drop_cols: Column intersection dropped\n",
      "... preprocess_drop_cols: Column cnn dropped\n",
      "... preprocess_drop_cols: Column point dropped\n",
      "... preprocess_drop_cols: Column supervisor_district dropped\n",
      "... preprocess_drop_cols: Column supervisor_district_2012 dropped\n",
      "... preprocess_drop_cols: Column current_supervisor_districts dropped\n",
      "... Done\n"
     ]
    }
   ],
   "source": [
    "drop_cols_unwanted = ['Unnamed: 0', \n",
    "                      'esncag_-_boundary_file', 'central_market/tenderloin_boundary_polygon_-_updated',  \n",
    "                      'civic_center_harm_reduction_project_boundary','hsoc_zones_as_of_2018-06-05',\n",
    "                      'invest_in_neighborhoods_(iin)_areas',\n",
    "                      'report_type_code', 'report_type_description', 'filed_online',\n",
    "                      'intersection', 'cnn', 'point',\n",
    "                      'supervisor_district', 'supervisor_district_2012', 'current_supervisor_districts',\n",
    "                     ]\n",
    "\n",
    "current_clean_df = data_utils.preprocess_data(current_clean_df, drop_cols_unwanted)"
   ]
  },
  {
   "cell_type": "code",
   "execution_count": 29,
   "id": "24b043fb-384f-408c-850f-35d8e9abba30",
   "metadata": {},
   "outputs": [
    {
     "name": "stdout",
     "output_type": "stream",
     "text": [
      "<class 'pandas.core.frame.DataFrame'>\n",
      "DatetimeIndex: 887173 entries, 2023-03-13 23:41:00 to 2023-03-21 17:42:00\n",
      "Data columns (total 22 columns):\n",
      " #   Column                    Non-Null Count   Dtype         \n",
      "---  ------                    --------------   -----         \n",
      " 0   incident_datetime         887173 non-null  object        \n",
      " 1   incident_date             887173 non-null  object        \n",
      " 2   incident_time             887173 non-null  object        \n",
      " 3   incident_year             887173 non-null  int64         \n",
      " 4   incident_day_of_week      887173 non-null  object        \n",
      " 5   report_datetime           887173 non-null  object        \n",
      " 6   row_id                    887173 non-null  int64         \n",
      " 7   incident_id               887173 non-null  int64         \n",
      " 8   incident_number           887173 non-null  int64         \n",
      " 9   cad_number                689019 non-null  float64       \n",
      " 10  incident_code             887173 non-null  int64         \n",
      " 11  incident_category         886295 non-null  object        \n",
      " 12  incident_subcategory      886295 non-null  object        \n",
      " 13  incident_description      887173 non-null  object        \n",
      " 14  resolution                887173 non-null  object        \n",
      " 15  police_district           887173 non-null  object        \n",
      " 16  analysis_neighborhood     838173 non-null  object        \n",
      " 17  latitude                  838341 non-null  float64       \n",
      " 18  longitude                 838341 non-null  float64       \n",
      " 19  neighborhoods             821671 non-null  float64       \n",
      " 20  current_police_districts  837437 non-null  float64       \n",
      " 21  date                      887173 non-null  datetime64[ns]\n",
      "dtypes: datetime64[ns](1), float64(5), int64(5), object(11)\n",
      "memory usage: 155.7+ MB\n"
     ]
    }
   ],
   "source": [
    "current_clean_df.info()"
   ]
  },
  {
   "cell_type": "code",
   "execution_count": 30,
   "id": "bbc278fa-ae05-4736-9137-04c3fa452581",
   "metadata": {},
   "outputs": [
    {
     "name": "stdout",
     "output_type": "stream",
     "text": [
      "COMPLETENESS CHECK: Percent non-null values in each column\n"
     ]
    },
    {
     "data": {
      "text/plain": [
       "incident_datetime           100.00\n",
       "incident_date               100.00\n",
       "incident_time               100.00\n",
       "incident_year               100.00\n",
       "incident_day_of_week        100.00\n",
       "report_datetime             100.00\n",
       "row_id                      100.00\n",
       "incident_id                 100.00\n",
       "incident_number             100.00\n",
       "cad_number                   77.66\n",
       "incident_code               100.00\n",
       "incident_category            99.90\n",
       "incident_subcategory         99.90\n",
       "incident_description        100.00\n",
       "resolution                  100.00\n",
       "police_district             100.00\n",
       "analysis_neighborhood        94.48\n",
       "latitude                     94.50\n",
       "longitude                    94.50\n",
       "neighborhoods                92.62\n",
       "current_police_districts     94.39\n",
       "date                        100.00\n",
       "dtype: float64"
      ]
     },
     "execution_count": 30,
     "metadata": {},
     "output_type": "execute_result"
    }
   ],
   "source": [
    "print('COMPLETENESS CHECK: Percent non-null values in each column')\n",
    "current_clean_df.isnull().sum().transform(lambda x: (1 - (x / current_clean_df.shape[0])) * 100).round(2)"
   ]
  },
  {
   "cell_type": "markdown",
   "id": "305e3dc5-a87f-4637-a1a5-69e13e020549",
   "metadata": {},
   "source": [
    "Most of the columns have above 90% non-null data. We can move onto analyzing individual features now."
   ]
  },
  {
   "cell_type": "code",
   "execution_count": 32,
   "id": "9b5af170-fc83-4fc0-8b7d-ad5c00d5d8bf",
   "metadata": {},
   "outputs": [
    {
     "data": {
      "text/html": [
       "<div>\n",
       "<style scoped>\n",
       "    .dataframe tbody tr th:only-of-type {\n",
       "        vertical-align: middle;\n",
       "    }\n",
       "\n",
       "    .dataframe tbody tr th {\n",
       "        vertical-align: top;\n",
       "    }\n",
       "\n",
       "    .dataframe thead th {\n",
       "        text-align: right;\n",
       "    }\n",
       "</style>\n",
       "<table border=\"1\" class=\"dataframe\">\n",
       "  <thead>\n",
       "    <tr style=\"text-align: right;\">\n",
       "      <th>datetime</th>\n",
       "      <th>2023-03-13 23:41:00</th>\n",
       "      <th>2023-03-01 05:02:00</th>\n",
       "      <th>2023-03-13 13:16:00</th>\n",
       "    </tr>\n",
       "  </thead>\n",
       "  <tbody>\n",
       "    <tr>\n",
       "      <th>incident_datetime</th>\n",
       "      <td>2023/03/13 11:41:00 PM</td>\n",
       "      <td>2023/03/01 05:02:00 AM</td>\n",
       "      <td>2023/03/13 01:16:00 PM</td>\n",
       "    </tr>\n",
       "    <tr>\n",
       "      <th>incident_date</th>\n",
       "      <td>2023/03/13</td>\n",
       "      <td>2023/03/01</td>\n",
       "      <td>2023/03/13</td>\n",
       "    </tr>\n",
       "    <tr>\n",
       "      <th>incident_time</th>\n",
       "      <td>23:41</td>\n",
       "      <td>05:02</td>\n",
       "      <td>13:16</td>\n",
       "    </tr>\n",
       "    <tr>\n",
       "      <th>incident_year</th>\n",
       "      <td>2023</td>\n",
       "      <td>2023</td>\n",
       "      <td>2023</td>\n",
       "    </tr>\n",
       "    <tr>\n",
       "      <th>incident_day_of_week</th>\n",
       "      <td>Monday</td>\n",
       "      <td>Wednesday</td>\n",
       "      <td>Monday</td>\n",
       "    </tr>\n",
       "    <tr>\n",
       "      <th>report_datetime</th>\n",
       "      <td>2023/03/13 11:41:00 PM</td>\n",
       "      <td>2023/03/11 03:40:00 PM</td>\n",
       "      <td>2023/03/13 01:17:00 PM</td>\n",
       "    </tr>\n",
       "    <tr>\n",
       "      <th>row_id</th>\n",
       "      <td>125373607041</td>\n",
       "      <td>125379506374</td>\n",
       "      <td>125357107041</td>\n",
       "    </tr>\n",
       "    <tr>\n",
       "      <th>incident_id</th>\n",
       "      <td>1253736</td>\n",
       "      <td>1253795</td>\n",
       "      <td>1253571</td>\n",
       "    </tr>\n",
       "    <tr>\n",
       "      <th>incident_number</th>\n",
       "      <td>230167874</td>\n",
       "      <td>236046151</td>\n",
       "      <td>220343896</td>\n",
       "    </tr>\n",
       "    <tr>\n",
       "      <th>cad_number</th>\n",
       "      <td>NaN</td>\n",
       "      <td>NaN</td>\n",
       "      <td>NaN</td>\n",
       "    </tr>\n",
       "    <tr>\n",
       "      <th>incident_code</th>\n",
       "      <td>7041</td>\n",
       "      <td>6374</td>\n",
       "      <td>7041</td>\n",
       "    </tr>\n",
       "    <tr>\n",
       "      <th>incident_category</th>\n",
       "      <td>Recovered Vehicle</td>\n",
       "      <td>Larceny Theft</td>\n",
       "      <td>Recovered Vehicle</td>\n",
       "    </tr>\n",
       "    <tr>\n",
       "      <th>incident_subcategory</th>\n",
       "      <td>Recovered Vehicle</td>\n",
       "      <td>Larceny Theft - Other</td>\n",
       "      <td>Recovered Vehicle</td>\n",
       "    </tr>\n",
       "    <tr>\n",
       "      <th>incident_description</th>\n",
       "      <td>Vehicle, Recovered, Auto</td>\n",
       "      <td>Theft, Other Property, &gt;$950</td>\n",
       "      <td>Vehicle, Recovered, Auto</td>\n",
       "    </tr>\n",
       "    <tr>\n",
       "      <th>resolution</th>\n",
       "      <td>Open or Active</td>\n",
       "      <td>Open or Active</td>\n",
       "      <td>Open or Active</td>\n",
       "    </tr>\n",
       "    <tr>\n",
       "      <th>police_district</th>\n",
       "      <td>Out of SF</td>\n",
       "      <td>Mission</td>\n",
       "      <td>Out of SF</td>\n",
       "    </tr>\n",
       "    <tr>\n",
       "      <th>analysis_neighborhood</th>\n",
       "      <td>NaN</td>\n",
       "      <td>NaN</td>\n",
       "      <td>NaN</td>\n",
       "    </tr>\n",
       "    <tr>\n",
       "      <th>latitude</th>\n",
       "      <td>NaN</td>\n",
       "      <td>NaN</td>\n",
       "      <td>NaN</td>\n",
       "    </tr>\n",
       "    <tr>\n",
       "      <th>longitude</th>\n",
       "      <td>NaN</td>\n",
       "      <td>NaN</td>\n",
       "      <td>NaN</td>\n",
       "    </tr>\n",
       "    <tr>\n",
       "      <th>neighborhoods</th>\n",
       "      <td>NaN</td>\n",
       "      <td>NaN</td>\n",
       "      <td>NaN</td>\n",
       "    </tr>\n",
       "    <tr>\n",
       "      <th>current_police_districts</th>\n",
       "      <td>NaN</td>\n",
       "      <td>NaN</td>\n",
       "      <td>NaN</td>\n",
       "    </tr>\n",
       "    <tr>\n",
       "      <th>date</th>\n",
       "      <td>2023-03-13 00:00:00</td>\n",
       "      <td>2023-03-01 00:00:00</td>\n",
       "      <td>2023-03-13 00:00:00</td>\n",
       "    </tr>\n",
       "  </tbody>\n",
       "</table>\n",
       "</div>"
      ],
      "text/plain": [
       "datetime                       2023-03-13 23:41:00  \\\n",
       "incident_datetime           2023/03/13 11:41:00 PM   \n",
       "incident_date                           2023/03/13   \n",
       "incident_time                                23:41   \n",
       "incident_year                                 2023   \n",
       "incident_day_of_week                        Monday   \n",
       "report_datetime             2023/03/13 11:41:00 PM   \n",
       "row_id                                125373607041   \n",
       "incident_id                                1253736   \n",
       "incident_number                          230167874   \n",
       "cad_number                                     NaN   \n",
       "incident_code                                 7041   \n",
       "incident_category                Recovered Vehicle   \n",
       "incident_subcategory             Recovered Vehicle   \n",
       "incident_description      Vehicle, Recovered, Auto   \n",
       "resolution                          Open or Active   \n",
       "police_district                          Out of SF   \n",
       "analysis_neighborhood                          NaN   \n",
       "latitude                                       NaN   \n",
       "longitude                                      NaN   \n",
       "neighborhoods                                  NaN   \n",
       "current_police_districts                       NaN   \n",
       "date                           2023-03-13 00:00:00   \n",
       "\n",
       "datetime                           2023-03-01 05:02:00  \\\n",
       "incident_datetime               2023/03/01 05:02:00 AM   \n",
       "incident_date                               2023/03/01   \n",
       "incident_time                                    05:02   \n",
       "incident_year                                     2023   \n",
       "incident_day_of_week                         Wednesday   \n",
       "report_datetime                 2023/03/11 03:40:00 PM   \n",
       "row_id                                    125379506374   \n",
       "incident_id                                    1253795   \n",
       "incident_number                              236046151   \n",
       "cad_number                                         NaN   \n",
       "incident_code                                     6374   \n",
       "incident_category                        Larceny Theft   \n",
       "incident_subcategory             Larceny Theft - Other   \n",
       "incident_description      Theft, Other Property, >$950   \n",
       "resolution                              Open or Active   \n",
       "police_district                                Mission   \n",
       "analysis_neighborhood                              NaN   \n",
       "latitude                                           NaN   \n",
       "longitude                                          NaN   \n",
       "neighborhoods                                      NaN   \n",
       "current_police_districts                           NaN   \n",
       "date                               2023-03-01 00:00:00   \n",
       "\n",
       "datetime                       2023-03-13 13:16:00  \n",
       "incident_datetime           2023/03/13 01:16:00 PM  \n",
       "incident_date                           2023/03/13  \n",
       "incident_time                                13:16  \n",
       "incident_year                                 2023  \n",
       "incident_day_of_week                        Monday  \n",
       "report_datetime             2023/03/13 01:17:00 PM  \n",
       "row_id                                125357107041  \n",
       "incident_id                                1253571  \n",
       "incident_number                          220343896  \n",
       "cad_number                                     NaN  \n",
       "incident_code                                 7041  \n",
       "incident_category                Recovered Vehicle  \n",
       "incident_subcategory             Recovered Vehicle  \n",
       "incident_description      Vehicle, Recovered, Auto  \n",
       "resolution                          Open or Active  \n",
       "police_district                          Out of SF  \n",
       "analysis_neighborhood                          NaN  \n",
       "latitude                                       NaN  \n",
       "longitude                                      NaN  \n",
       "neighborhoods                                  NaN  \n",
       "current_police_districts                       NaN  \n",
       "date                           2023-03-13 00:00:00  "
      ]
     },
     "execution_count": 32,
     "metadata": {},
     "output_type": "execute_result"
    }
   ],
   "source": [
    "current_clean_df.head(3).T"
   ]
  },
  {
   "cell_type": "markdown",
   "id": "0d7a82cb-bacf-4fb1-842a-0eff61e9da98",
   "metadata": {},
   "source": [
    "### Inspect: Time-based Features"
   ]
  },
  {
   "cell_type": "markdown",
   "id": "f717cf0d-a609-4a93-bd12-06309fb98635",
   "metadata": {},
   "source": [
    "#### Inspect: Incidents per Day"
   ]
  },
  {
   "cell_type": "code",
   "execution_count": 35,
   "id": "78ee3f20-b9fb-4c1e-a850-f8174d28f908",
   "metadata": {},
   "outputs": [
    {
     "data": {
      "image/png": "[encoded data removed]",
      "text/plain": [
       "<Figure size 900x300 with 1 Axes>"
      ]
     },
     "metadata": {},
     "output_type": "display_data"
    },
    {
     "name": "stdout",
     "output_type": "stream",
     "text": [
      "Total of 887,173 incidents from 2018-01-01 00:00:00 to 2024-09-08 00:00:00\n"
     ]
    }
   ],
   "source": [
    "plt.figure(figsize=(graph_utils.page_width, 3))\n",
    "sns.histplot(data=current_clean_df, x=current_clean_df.index, bins=1000, kde=True)\n",
    "# sns.histplot(data=current_clean_df, x=current_clean_df.index, discrete=True, kde=True)\n",
    "\n",
    "plt.xlabel('Date / Time of Incident')\n",
    "plt.ylabel('# Incidents')\n",
    "plt.title('Histogram of Incidents per Day')\n",
    "\n",
    "plt.tight_layout()\n",
    "plt.savefig('../images/incidents_per_day.png')\n",
    "plt.show()\n",
    "\n",
    "print(f'Total of {current_clean_df.shape[0]:,d} incidents from {current_clean_df.date.min()} to {current_clean_df.date.max()}')"
   ]
  },
  {
   "cell_type": "markdown",
   "id": "28a85f72-5ca0-4275-ad8d-d1df0e7a9d13",
   "metadata": {},
   "source": [
    "#### Inspect: Incidents per Year"
   ]
  },
  {
   "cell_type": "code",
   "execution_count": 37,
   "id": "bf13d02d-e18e-4376-b11c-39f4885f5d30",
   "metadata": {},
   "outputs": [
    {
     "data": {
      "image/png": "[encoded data removed]",
      "text/plain": [
       "<Figure size 600x300 with 1 Axes>"
      ]
     },
     "metadata": {},
     "output_type": "display_data"
    }
   ],
   "source": [
    "plt.figure(figsize=(6, 3))\n",
    "# sns.histplot(data=current_clean_df, x='incident_year', kde=True)\n",
    "sns.histplot(data=current_clean_df, x='incident_year', discrete=True)\n",
    "\n",
    "plt.xlabel('Year of Incident')\n",
    "plt.ylabel('# Incidents')\n",
    "plt.title('Histogram of Incidents per Year')\n",
    "\n",
    "plt.tight_layout()\n",
    "plt.savefig('../images/incidents_per_year.png')\n",
    "plt.show()"
   ]
  },
  {
   "cell_type": "markdown",
   "id": "277dbfd2-9973-4e28-964d-0b5703bfbd3a",
   "metadata": {},
   "source": [
    "#### Inspect: Incidents by Day of Week"
   ]
  },
  {
   "cell_type": "code",
   "execution_count": 39,
   "id": "b246c432-7955-4f9a-b150-81c66ab89b66",
   "metadata": {},
   "outputs": [
    {
     "data": {
      "image/png": "[encoded data removed]",
      "text/plain": [
       "<Figure size 700x300 with 1 Axes>"
      ]
     },
     "metadata": {},
     "output_type": "display_data"
    }
   ],
   "source": [
    "plt.figure(figsize=(7, 3))\n",
    "# sns.histplot(data=current_clean_df, x='incident_year', kde=True)\n",
    "sns.histplot(data=current_clean_df, x='incident_day_of_week')#, discreet=False)\n",
    "\n",
    "plt.xlabel('Day of Week of Incident')\n",
    "plt.ylabel('# Incidents')\n",
    "plt.title('Histogram of Incidents per Day of Week')\n",
    "\n",
    "plt.tight_layout()\n",
    "plt.savefig('../images/incidents_per_DoW.png')\n",
    "plt.show()"
   ]
  },
  {
   "cell_type": "code",
   "execution_count": 40,
   "id": "d2f18b00-00cd-4be9-bec3-f8cc733ee023",
   "metadata": {},
   "outputs": [
    {
     "data": {
      "text/plain": [
       "Index(['incident_datetime', 'incident_date', 'incident_time', 'incident_year',\n",
       "       'incident_day_of_week', 'report_datetime', 'row_id', 'incident_id',\n",
       "       'incident_number', 'cad_number', 'incident_code', 'incident_category',\n",
       "       'incident_subcategory', 'incident_description', 'resolution',\n",
       "       'police_district', 'analysis_neighborhood', 'latitude', 'longitude',\n",
       "       'neighborhoods', 'current_police_districts', 'date'],\n",
       "      dtype='object')"
      ]
     },
     "execution_count": 40,
     "metadata": {},
     "output_type": "execute_result"
    }
   ],
   "source": [
    "current_clean_df.columns"
   ]
  },
  {
   "cell_type": "markdown",
   "id": "e2b6fabb-c3ea-478c-b2d1-0c092b12e41b",
   "metadata": {},
   "source": [
    "#### Inspect: Incident-Specific Features"
   ]
  },
  {
   "cell_type": "markdown",
   "id": "0a5e9056-f9cb-41fe-a83d-0c65283c6d1c",
   "metadata": {},
   "source": [
    "Let's look at Incident-specific features that are left for a specific Incident to understand how the data is reported:\n",
    "  * incident_datetime\n",
    "  * report_datetime\n",
    "  * row_id\n",
    "  * incident_id / incident_code\n",
    "  * incident_number\n",
    "  * cad_number\n",
    "  * incident_category\n",
    "  * incident_subcategory\n",
    "  * incident_description\n",
    "  * resolution\n",
    "\n",
    "Is there an interesting incident to look at with a lot of rows?"
   ]
  },
  {
   "cell_type": "code",
   "execution_count": 43,
   "id": "bc2cf6c0-349d-45f1-b66f-d4e03391483e",
   "metadata": {},
   "outputs": [],
   "source": [
    "inc_id = current_clean_df[current_clean_df.incident_id.duplicated()].incident_id.value_counts().index[0]"
   ]
  },
  {
   "cell_type": "code",
   "execution_count": 44,
   "id": "ca9e3d05-62d6-48ca-835f-e9fb64cb80c1",
   "metadata": {},
   "outputs": [
    {
     "data": {
      "text/html": [
       "<div>\n",
       "<style scoped>\n",
       "    .dataframe tbody tr th:only-of-type {\n",
       "        vertical-align: middle;\n",
       "    }\n",
       "\n",
       "    .dataframe tbody tr th {\n",
       "        vertical-align: top;\n",
       "    }\n",
       "\n",
       "    .dataframe thead th {\n",
       "        text-align: right;\n",
       "    }\n",
       "</style>\n",
       "<table border=\"1\" class=\"dataframe\">\n",
       "  <thead>\n",
       "    <tr style=\"text-align: right;\">\n",
       "      <th></th>\n",
       "      <th>incident_datetime</th>\n",
       "      <th>report_datetime</th>\n",
       "      <th>incident_id</th>\n",
       "      <th>incident_code</th>\n",
       "      <th>row_id</th>\n",
       "      <th>incident_number</th>\n",
       "      <th>cad_number</th>\n",
       "      <th>incident_category</th>\n",
       "      <th>incident_subcategory</th>\n",
       "      <th>incident_description</th>\n",
       "      <th>resolution</th>\n",
       "    </tr>\n",
       "    <tr>\n",
       "      <th>datetime</th>\n",
       "      <th></th>\n",
       "      <th></th>\n",
       "      <th></th>\n",
       "      <th></th>\n",
       "      <th></th>\n",
       "      <th></th>\n",
       "      <th></th>\n",
       "      <th></th>\n",
       "      <th></th>\n",
       "      <th></th>\n",
       "      <th></th>\n",
       "    </tr>\n",
       "  </thead>\n",
       "  <tbody>\n",
       "    <tr>\n",
       "      <th>2019-02-07 19:57:00</th>\n",
       "      <td>2019/02/07 07:57:00 PM</td>\n",
       "      <td>2019/02/07 07:57:00 PM</td>\n",
       "      <td>767718</td>\n",
       "      <td>7027</td>\n",
       "      <td>76771807027</td>\n",
       "      <td>190086560</td>\n",
       "      <td>190383501.0</td>\n",
       "      <td>Motor Vehicle Theft?</td>\n",
       "      <td>Motor Vehicle Theft</td>\n",
       "      <td>Auto, Grand Theft of</td>\n",
       "      <td>Cite or Arrest Adult</td>\n",
       "    </tr>\n",
       "    <tr>\n",
       "      <th>2019-02-07 19:57:00</th>\n",
       "      <td>2019/02/07 07:57:00 PM</td>\n",
       "      <td>2019/02/07 07:57:00 PM</td>\n",
       "      <td>767718</td>\n",
       "      <td>27130</td>\n",
       "      <td>76771827130</td>\n",
       "      <td>190086560</td>\n",
       "      <td>190383501.0</td>\n",
       "      <td>Other Miscellaneous</td>\n",
       "      <td>Other</td>\n",
       "      <td>Burglary Tools, Possession Of</td>\n",
       "      <td>Cite or Arrest Adult</td>\n",
       "    </tr>\n",
       "    <tr>\n",
       "      <th>2019-02-07 19:57:00</th>\n",
       "      <td>2019/02/07 07:57:00 PM</td>\n",
       "      <td>2019/02/07 07:57:00 PM</td>\n",
       "      <td>767718</td>\n",
       "      <td>7041</td>\n",
       "      <td>76771807041</td>\n",
       "      <td>190086560</td>\n",
       "      <td>190383501.0</td>\n",
       "      <td>Recovered Vehicle</td>\n",
       "      <td>Recovered Vehicle</td>\n",
       "      <td>Vehicle, Recovered, Auto</td>\n",
       "      <td>Cite or Arrest Adult</td>\n",
       "    </tr>\n",
       "    <tr>\n",
       "      <th>2019-02-07 19:57:00</th>\n",
       "      <td>2019/02/07 07:57:00 PM</td>\n",
       "      <td>2019/02/07 07:57:00 PM</td>\n",
       "      <td>767718</td>\n",
       "      <td>16652</td>\n",
       "      <td>76771816652</td>\n",
       "      <td>190086560</td>\n",
       "      <td>190383501.0</td>\n",
       "      <td>Drug Offense</td>\n",
       "      <td>Drug Violation</td>\n",
       "      <td>Methamphetamine, Possession For Sale</td>\n",
       "      <td>Cite or Arrest Adult</td>\n",
       "    </tr>\n",
       "  </tbody>\n",
       "</table>\n",
       "</div>"
      ],
      "text/plain": [
       "                          incident_datetime         report_datetime  \\\n",
       "datetime                                                              \n",
       "2019-02-07 19:57:00  2019/02/07 07:57:00 PM  2019/02/07 07:57:00 PM   \n",
       "2019-02-07 19:57:00  2019/02/07 07:57:00 PM  2019/02/07 07:57:00 PM   \n",
       "2019-02-07 19:57:00  2019/02/07 07:57:00 PM  2019/02/07 07:57:00 PM   \n",
       "2019-02-07 19:57:00  2019/02/07 07:57:00 PM  2019/02/07 07:57:00 PM   \n",
       "\n",
       "                     incident_id  incident_code       row_id  incident_number  \\\n",
       "datetime                                                                        \n",
       "2019-02-07 19:57:00       767718           7027  76771807027        190086560   \n",
       "2019-02-07 19:57:00       767718          27130  76771827130        190086560   \n",
       "2019-02-07 19:57:00       767718           7041  76771807041        190086560   \n",
       "2019-02-07 19:57:00       767718          16652  76771816652        190086560   \n",
       "\n",
       "                      cad_number     incident_category incident_subcategory  \\\n",
       "datetime                                                                      \n",
       "2019-02-07 19:57:00  190383501.0  Motor Vehicle Theft?  Motor Vehicle Theft   \n",
       "2019-02-07 19:57:00  190383501.0   Other Miscellaneous                Other   \n",
       "2019-02-07 19:57:00  190383501.0     Recovered Vehicle    Recovered Vehicle   \n",
       "2019-02-07 19:57:00  190383501.0          Drug Offense       Drug Violation   \n",
       "\n",
       "                                     incident_description  \\\n",
       "datetime                                                    \n",
       "2019-02-07 19:57:00                  Auto, Grand Theft of   \n",
       "2019-02-07 19:57:00         Burglary Tools, Possession Of   \n",
       "2019-02-07 19:57:00              Vehicle, Recovered, Auto   \n",
       "2019-02-07 19:57:00  Methamphetamine, Possession For Sale   \n",
       "\n",
       "                               resolution  \n",
       "datetime                                   \n",
       "2019-02-07 19:57:00  Cite or Arrest Adult  \n",
       "2019-02-07 19:57:00  Cite or Arrest Adult  \n",
       "2019-02-07 19:57:00  Cite or Arrest Adult  \n",
       "2019-02-07 19:57:00  Cite or Arrest Adult  "
      ]
     },
     "execution_count": 44,
     "metadata": {},
     "output_type": "execute_result"
    }
   ],
   "source": [
    "current_raw_df.query('incident_id == @inc_id')[['incident_datetime', 'report_datetime', 'incident_id', 'incident_code', \n",
    "                                                'row_id', 'incident_number', 'cad_number',\n",
    "                                                'incident_category','incident_subcategory', 'incident_description', \n",
    "                                                'resolution']]"
   ]
  },
  {
   "cell_type": "markdown",
   "id": "ae34c956-3a2b-4995-ad03-ef33537c1d59",
   "metadata": {},
   "source": [
    "The single incident, multiple rows explanation is as follows (from the [DataSF Dataset Explainer](https://sfdigitalservices.gitbook.io/dataset-explainers/sfpd-incident-report-2018-to-present#multiple-incident-codes)):\n",
    "\n",
    ">Incident reports can have one or more associated Incident Codes. For example, an officer may have a warrant for an\n",
    ">arrest and while making the arrest, discovers narcotics in the individual’s possession. The officer would record\n",
    ">two Incident Codes: (1) for the warrant and (2) for the discovery of narcotics.\n",
    ">\n",
    ">When multiple Incident Codes exist, the Incident ID, Incident Number and CAD Numbers remain the same and the\n",
    ">Row ID field can be used as a unique identifier for each row of data. An example is provided below.\n",
    "\n",
    "Since we are interested in predicting the `incident_category` based on time and location, we'll retain  all three rows, each with a different category, but remove the columns that merge them into a single incident. This gives us more training data with a whetted outcome, i.e. target variable.\n",
    "\n",
    "So we will drop the following columns:\n",
    "\n",
    "  * incident_datetime / report_datetime\n",
    "  * incident_id / incident_code / row_id / incident_number / cad_number\n",
    "  * incident_subcategory\n",
    "  * incident_description\n",
    "\n",
    "and only retain `incident_category` as our target variable - we will look at `resolution` separately."
   ]
  },
  {
   "cell_type": "code",
   "execution_count": 46,
   "id": "a2e3f679-0cee-4632-a9e7-cdba8fb0ccba",
   "metadata": {},
   "outputs": [
    {
     "name": "stdout",
     "output_type": "stream",
     "text": [
      "Pre-processing ... \n",
      "... Dropping unwanted columns ... \n",
      "... preprocess_drop_cols: Column incident_datetime dropped\n",
      "... preprocess_drop_cols: Column report_datetime dropped\n",
      "... preprocess_drop_cols: Column incident_id dropped\n",
      "... preprocess_drop_cols: Column incident_code dropped\n",
      "... preprocess_drop_cols: Column row_id dropped\n",
      "... preprocess_drop_cols: Column incident_number dropped\n",
      "... preprocess_drop_cols: Column cad_number dropped\n",
      "... preprocess_drop_cols: Column incident_subcategory dropped\n",
      "... preprocess_drop_cols: Column incident_description dropped\n",
      "... Done\n"
     ]
    }
   ],
   "source": [
    "drop_cols_incident = ['incident_datetime', 'report_datetime', \n",
    "                      'incident_id', 'incident_code', 'row_id', 'incident_number', 'cad_number',\n",
    "                      'incident_subcategory', 'incident_description'\n",
    "                     ]\n",
    "\n",
    "current_clean_df = data_utils.preprocess_data(current_clean_df, drop_cols_incident)"
   ]
  },
  {
   "cell_type": "markdown",
   "id": "cb048ae5-31f7-4a46-b149-748067ad7d6a",
   "metadata": {},
   "source": [
    "#### Inspect: Resolution"
   ]
  },
  {
   "cell_type": "code",
   "execution_count": 48,
   "id": "f76153ed-5fd7-4c47-bb27-1e94baa2f8aa",
   "metadata": {},
   "outputs": [
    {
     "data": {
      "text/plain": [
       "resolution\n",
       "Open or Active          711960\n",
       "Cite or Arrest Adult    168330\n",
       "Unfounded                 4442\n",
       "Exceptional Adult         2441\n",
       "Name: count, dtype: int64"
      ]
     },
     "execution_count": 48,
     "metadata": {},
     "output_type": "execute_result"
    }
   ],
   "source": [
    "current_clean_df.resolution.value_counts()"
   ]
  },
  {
   "cell_type": "markdown",
   "id": "5c9651c4-f75b-45d0-97ce-9d0a2ee1e8c9",
   "metadata": {},
   "source": [
    "Both the `Unfounded` and `Exceptional Adult` resolution types will dismiss the case so we can remove these rows."
   ]
  },
  {
   "cell_type": "code",
   "execution_count": 50,
   "id": "e286bf5f-b9bb-46af-8700-4f6a73bf1b08",
   "metadata": {},
   "outputs": [],
   "source": [
    "current_clean_df = current_clean_df.query('resolution != \"Unfounded\" and resolution != \"Exceptional Adult\"')"
   ]
  },
  {
   "cell_type": "code",
   "execution_count": 51,
   "id": "832db614-0709-4f41-a6b6-3cc1b0bf5d6c",
   "metadata": {},
   "outputs": [
    {
     "data": {
      "text/plain": [
       "resolution\n",
       "Open or Active          711960\n",
       "Cite or Arrest Adult    168330\n",
       "Name: count, dtype: int64"
      ]
     },
     "execution_count": 51,
     "metadata": {},
     "output_type": "execute_result"
    }
   ],
   "source": [
    "current_clean_df.resolution.value_counts()"
   ]
  },
  {
   "cell_type": "code",
   "execution_count": 52,
   "id": "70e0b836-0ef0-4caf-a083-f45500ccfc27",
   "metadata": {},
   "outputs": [
    {
     "data": {
      "image/png": "[encoded data removed]",
      "text/plain": [
       "<Figure size 900x800 with 1 Axes>"
      ]
     },
     "metadata": {},
     "output_type": "display_data"
    },
    {
     "name": "stdout",
     "output_type": "stream",
     "text": [
      "Total of 49 categories\n"
     ]
    }
   ],
   "source": [
    "plt.figure(figsize=(graph_utils.page_width, 8))\n",
    "\n",
    "cats = current_clean_df.incident_category.value_counts()\n",
    "sns.barplot(cats.transform(lambda x: (x / cats.values.sum()) * 100), \n",
    "            orient='h')\n",
    "\n",
    "\n",
    "plt.xlabel('Incident (%)')\n",
    "plt.ylabel('Incident Category')\n",
    "plt.title('Histogram of Incident Categories')\n",
    "\n",
    "plt.tight_layout()\n",
    "plt.savefig('../images/incidents_per_day.png')\n",
    "plt.show()\n",
    "\n",
    "print(f'Total of {cats.shape[0]:,d} categories')"
   ]
  },
  {
   "cell_type": "code",
   "execution_count": 53,
   "id": "80fa0ffe-f9b4-45aa-9a31-f0bd985d234e",
   "metadata": {},
   "outputs": [],
   "source": [
    "# graph_utils.graph_features(current_clean_df, 13, 2, figsize=(10, 15))"
   ]
  },
  {
   "cell_type": "markdown",
   "id": "0bb820c7-d054-45bc-8d71-248047945051",
   "metadata": {},
   "source": [
    "#### Inspect: Police Districts"
   ]
  },
  {
   "cell_type": "code",
   "execution_count": 55,
   "id": "aaeda44d-3a7d-417e-895c-0af625027f3b",
   "metadata": {},
   "outputs": [
    {
     "data": {
      "text/plain": [
       "police_district\n",
       "Central       129584\n",
       "Northern      119148\n",
       "Mission       109512\n",
       "Southern      103912\n",
       "Tenderloin     87725\n",
       "Bayview        78179\n",
       "Ingleside      68176\n",
       "Taraval        62683\n",
       "Richmond       54399\n",
       "Park           39712\n",
       "Out of SF      27260\n",
       "Name: count, dtype: int64"
      ]
     },
     "execution_count": 55,
     "metadata": {},
     "output_type": "execute_result"
    }
   ],
   "source": [
    "current_clean_df.police_district.value_counts()"
   ]
  },
  {
   "cell_type": "code",
   "execution_count": 56,
   "id": "079fff2b-a628-43d9-9d39-66c893f25bcc",
   "metadata": {},
   "outputs": [
    {
     "data": {
      "text/plain": [
       "current_police_districts\n",
       "6.0     123640\n",
       "4.0     119013\n",
       "3.0     107659\n",
       "1.0     103946\n",
       "5.0      82377\n",
       "2.0      78670\n",
       "9.0      66111\n",
       "10.0     64304\n",
       "8.0      47620\n",
       "7.0      37315\n",
       "Name: count, dtype: int64"
      ]
     },
     "execution_count": 56,
     "metadata": {},
     "output_type": "execute_result"
    }
   ],
   "source": [
    "current_clean_df.current_police_districts.value_counts()"
   ]
  },
  {
   "cell_type": "markdown",
   "id": "1e4544aa-8b58-4f34-b0cf-29a666d43936",
   "metadata": {},
   "source": [
    "We can safely drop the `current_police_districts` column as it's not very useful, we can use `police_district` \n",
    "as a categorical feature instead. However, we need to remove the incidents that are `Out of SF`."
   ]
  },
  {
   "cell_type": "code",
   "execution_count": 58,
   "id": "6efe0957-5899-4d52-89ad-b5a3905dfb15",
   "metadata": {},
   "outputs": [],
   "source": [
    "current_clean_df = current_clean_df.query('police_district != \"Out of SF\"')"
   ]
  },
  {
   "cell_type": "code",
   "execution_count": 59,
   "id": "606f4395-e154-4ae4-99d4-f9adc0aa19b2",
   "metadata": {},
   "outputs": [
    {
     "data": {
      "text/plain": [
       "police_district\n",
       "Central       129584\n",
       "Northern      119148\n",
       "Mission       109512\n",
       "Southern      103912\n",
       "Tenderloin     87725\n",
       "Bayview        78179\n",
       "Ingleside      68176\n",
       "Taraval        62683\n",
       "Richmond       54399\n",
       "Park           39712\n",
       "Name: count, dtype: int64"
      ]
     },
     "execution_count": 59,
     "metadata": {},
     "output_type": "execute_result"
    }
   ],
   "source": [
    "current_clean_df.police_district.value_counts()"
   ]
  },
  {
   "cell_type": "code",
   "execution_count": 60,
   "id": "22efed33-928d-4fc0-bd51-509938209979",
   "metadata": {},
   "outputs": [
    {
     "name": "stdout",
     "output_type": "stream",
     "text": [
      "Pre-processing ... \n",
      "... Dropping unwanted columns ... \n",
      "... preprocess_drop_cols: Column current_police_districts dropped\n",
      "... Done\n"
     ]
    }
   ],
   "source": [
    "drop_cols_pd = ['current_police_districts']\n",
    "\n",
    "current_clean_df = data_utils.preprocess_data(current_clean_df, drop_cols_pd)"
   ]
  },
  {
   "cell_type": "code",
   "execution_count": 61,
   "id": "052fddeb-5fce-4416-8af1-6e311f250b23",
   "metadata": {},
   "outputs": [
    {
     "name": "stdout",
     "output_type": "stream",
     "text": [
      "COMPLETENESS CHECK: Percent non-null values in each column\n"
     ]
    },
    {
     "data": {
      "text/plain": [
       "incident_date            100.00\n",
       "incident_time            100.00\n",
       "incident_year            100.00\n",
       "incident_day_of_week     100.00\n",
       "incident_category         99.90\n",
       "resolution               100.00\n",
       "police_district          100.00\n",
       "analysis_neighborhood     96.51\n",
       "latitude                  96.53\n",
       "longitude                 96.53\n",
       "neighborhoods             94.60\n",
       "date                     100.00\n",
       "dtype: float64"
      ]
     },
     "execution_count": 61,
     "metadata": {},
     "output_type": "execute_result"
    }
   ],
   "source": [
    "print('COMPLETENESS CHECK: Percent non-null values in each column')\n",
    "current_clean_df.isnull().sum().transform(lambda x: (1 - (x / current_clean_df.shape[0])) * 100).round(2)"
   ]
  },
  {
   "cell_type": "markdown",
   "id": "fcd89d9e-f97a-4d95-8788-9204e5c64d4f",
   "metadata": {},
   "source": [
    "#### Drop Nulls"
   ]
  },
  {
   "cell_type": "markdown",
   "id": "3c6d0dd6-e3aa-4ec4-8095-0a10f9e19c0b",
   "metadata": {},
   "source": [
    "We have now gotten rid of most of the unwanted data and most of the columns have above 94% non-null data. This is sufficient data for training, so we will drop all null rows for now:"
   ]
  },
  {
   "cell_type": "code",
   "execution_count": 64,
   "id": "8b1e083b-21b3-4290-8723-9ac662939cab",
   "metadata": {},
   "outputs": [],
   "source": [
    "current_clean_df.dropna(inplace=True)"
   ]
  },
  {
   "cell_type": "code",
   "execution_count": 65,
   "id": "610bac5a-dfbd-4207-a4dc-3a3bb97bfcd5",
   "metadata": {},
   "outputs": [
    {
     "name": "stdout",
     "output_type": "stream",
     "text": [
      "COMPLETENESS CHECK: Percent non-null values in each column\n"
     ]
    },
    {
     "data": {
      "text/plain": [
       "incident_date            100.0\n",
       "incident_time            100.0\n",
       "incident_year            100.0\n",
       "incident_day_of_week     100.0\n",
       "incident_category        100.0\n",
       "resolution               100.0\n",
       "police_district          100.0\n",
       "analysis_neighborhood    100.0\n",
       "latitude                 100.0\n",
       "longitude                100.0\n",
       "neighborhoods            100.0\n",
       "date                     100.0\n",
       "dtype: float64"
      ]
     },
     "execution_count": 65,
     "metadata": {},
     "output_type": "execute_result"
    }
   ],
   "source": [
    "print('COMPLETENESS CHECK: Percent non-null values in each column')\n",
    "current_clean_df.isnull().sum().transform(lambda x: (1 - (x / current_clean_df.shape[0])) * 100).round(2)"
   ]
  },
  {
   "cell_type": "code",
   "execution_count": 66,
   "id": "cf3c00a6-8045-4f7c-a27c-79aff55a7062",
   "metadata": {},
   "outputs": [
    {
     "data": {
      "text/html": [
       "<div>\n",
       "<style scoped>\n",
       "    .dataframe tbody tr th:only-of-type {\n",
       "        vertical-align: middle;\n",
       "    }\n",
       "\n",
       "    .dataframe tbody tr th {\n",
       "        vertical-align: top;\n",
       "    }\n",
       "\n",
       "    .dataframe thead th {\n",
       "        text-align: right;\n",
       "    }\n",
       "</style>\n",
       "<table border=\"1\" class=\"dataframe\">\n",
       "  <thead>\n",
       "    <tr style=\"text-align: right;\">\n",
       "      <th></th>\n",
       "      <th>incident_date</th>\n",
       "      <th>incident_time</th>\n",
       "      <th>incident_year</th>\n",
       "      <th>incident_day_of_week</th>\n",
       "      <th>incident_category</th>\n",
       "      <th>resolution</th>\n",
       "      <th>police_district</th>\n",
       "      <th>analysis_neighborhood</th>\n",
       "      <th>latitude</th>\n",
       "      <th>longitude</th>\n",
       "      <th>neighborhoods</th>\n",
       "      <th>date</th>\n",
       "    </tr>\n",
       "    <tr>\n",
       "      <th>datetime</th>\n",
       "      <th></th>\n",
       "      <th></th>\n",
       "      <th></th>\n",
       "      <th></th>\n",
       "      <th></th>\n",
       "      <th></th>\n",
       "      <th></th>\n",
       "      <th></th>\n",
       "      <th></th>\n",
       "      <th></th>\n",
       "      <th></th>\n",
       "      <th></th>\n",
       "    </tr>\n",
       "  </thead>\n",
       "  <tbody>\n",
       "    <tr>\n",
       "      <th>2022-06-27 12:00:00</th>\n",
       "      <td>2022/06/27</td>\n",
       "      <td>12:00</td>\n",
       "      <td>2022</td>\n",
       "      <td>Monday</td>\n",
       "      <td>Lost Property</td>\n",
       "      <td>Open or Active</td>\n",
       "      <td>Central</td>\n",
       "      <td>Financial District/South Beach</td>\n",
       "      <td>37.787359</td>\n",
       "      <td>-122.408227</td>\n",
       "      <td>19.0</td>\n",
       "      <td>2022-06-27</td>\n",
       "    </tr>\n",
       "    <tr>\n",
       "      <th>2023-03-16 17:30:00</th>\n",
       "      <td>2023/03/16</td>\n",
       "      <td>17:30</td>\n",
       "      <td>2023</td>\n",
       "      <td>Thursday</td>\n",
       "      <td>Assault</td>\n",
       "      <td>Open or Active</td>\n",
       "      <td>Bayview</td>\n",
       "      <td>Potrero Hill</td>\n",
       "      <td>37.762290</td>\n",
       "      <td>-122.401324</td>\n",
       "      <td>54.0</td>\n",
       "      <td>2023-03-16</td>\n",
       "    </tr>\n",
       "  </tbody>\n",
       "</table>\n",
       "</div>"
      ],
      "text/plain": [
       "                    incident_date incident_time  incident_year  \\\n",
       "datetime                                                         \n",
       "2022-06-27 12:00:00    2022/06/27         12:00           2022   \n",
       "2023-03-16 17:30:00    2023/03/16         17:30           2023   \n",
       "\n",
       "                    incident_day_of_week incident_category      resolution  \\\n",
       "datetime                                                                     \n",
       "2022-06-27 12:00:00               Monday     Lost Property  Open or Active   \n",
       "2023-03-16 17:30:00             Thursday           Assault  Open or Active   \n",
       "\n",
       "                    police_district           analysis_neighborhood  \\\n",
       "datetime                                                              \n",
       "2022-06-27 12:00:00         Central  Financial District/South Beach   \n",
       "2023-03-16 17:30:00         Bayview                    Potrero Hill   \n",
       "\n",
       "                      latitude   longitude  neighborhoods       date  \n",
       "datetime                                                              \n",
       "2022-06-27 12:00:00  37.787359 -122.408227           19.0 2022-06-27  \n",
       "2023-03-16 17:30:00  37.762290 -122.401324           54.0 2023-03-16  "
      ]
     },
     "execution_count": 66,
     "metadata": {},
     "output_type": "execute_result"
    }
   ],
   "source": [
    "current_clean_df.head(2)"
   ]
  },
  {
   "cell_type": "markdown",
   "id": "ea26119a-d2bf-4a1d-a93c-90540149fcd9",
   "metadata": {},
   "source": [
    "## Cross-check Preprocessing"
   ]
  },
  {
   "cell_type": "markdown",
   "id": "448db30a-6ac2-4d67-862e-763d99d06234",
   "metadata": {},
   "source": [
    "Read in the preprocessed data from utility function and validate against the currently _cleaned_ data \n",
    "as part of the data investigation"
   ]
  },
  {
   "cell_type": "code",
   "execution_count": 69,
   "id": "c715a7d5-a6d1-486f-a37e-ba284c5ec857",
   "metadata": {},
   "outputs": [
    {
     "name": "stdout",
     "output_type": "stream",
     "text": [
      "Pre-processing ... \n",
      "... Dropping unwanted columns ... \n",
      "... preprocess_drop_cols: Column Unnamed: 0 not dropped: KeyError(\"['Unnamed: 0'] not found in axis\")\n",
      "... preprocess_drop_cols: Column esncag_-_boundary_file dropped\n",
      "... preprocess_drop_cols: Column central_market/tenderloin_boundary_polygon_-_updated dropped\n",
      "... preprocess_drop_cols: Column civic_center_harm_reduction_project_boundary dropped\n",
      "... preprocess_drop_cols: Column hsoc_zones_as_of_2018-06-05 dropped\n",
      "... preprocess_drop_cols: Column invest_in_neighborhoods_(iin)_areas dropped\n",
      "... preprocess_drop_cols: Column report_type_code dropped\n",
      "... preprocess_drop_cols: Column report_type_description dropped\n",
      "... preprocess_drop_cols: Column filed_online dropped\n",
      "... preprocess_drop_cols: Column intersection dropped\n",
      "... preprocess_drop_cols: Column cnn dropped\n",
      "... preprocess_drop_cols: Column point dropped\n",
      "... preprocess_drop_cols: Column supervisor_district dropped\n",
      "... preprocess_drop_cols: Column supervisor_district_2012 dropped\n",
      "... preprocess_drop_cols: Column current_supervisor_districts dropped\n",
      "... preprocess_drop_cols: Column incident_datetime dropped\n",
      "... preprocess_drop_cols: Column report_datetime dropped\n",
      "... preprocess_drop_cols: Column incident_id dropped\n",
      "... preprocess_drop_cols: Column incident_code dropped\n",
      "... preprocess_drop_cols: Column row_id dropped\n",
      "... preprocess_drop_cols: Column incident_number dropped\n",
      "... preprocess_drop_cols: Column cad_number dropped\n",
      "... preprocess_drop_cols: Column incident_subcategory dropped\n",
      "... preprocess_drop_cols: Column incident_description dropped\n",
      "... preprocess_drop_cols: Column current_police_districts dropped\n",
      "... Done\n",
      "... Removing resolution types: \"Unfounded\", \"Exceptional Adult\" ... \n",
      "... Removing police_district types: \"Out of SF\" ... \n",
      "... Removing rows with nulls (dropna) ... \n",
      "... Done\n",
      "Done: Start: (887173, 36), End: (806144, 12) -> Rows removed: 81,029 rows (9.13%)\n",
      "\n",
      "\n",
      "CROSSCHECK PASSED: raw: (887173, 36), pre-processed: (806144, 12), cleaned: (806144, 12)\n",
      "\n",
      "\n"
     ]
    },
    {
     "name": "stderr",
     "output_type": "stream",
     "text": [
      "/Users/fazeel/Google Drive/Classroom/UCB-PCMLAI/repos/UCB_ML_AI_Capstone/notebooks/../src/data_utils.py:293: SettingWithCopyWarning: \n",
      "A value is trying to be set on a copy of a slice from a DataFrame\n",
      "\n",
      "See the caveats in the documentation: https://pandas.pydata.org/pandas-docs/stable/user_guide/indexing.html#returning-a-view-versus-a-copy\n",
      "  df.dropna(inplace=True)\n"
     ]
    }
   ],
   "source": [
    "temp = data_utils.preprocess_data(current_raw_df.copy())\n",
    "\n",
    "crosscheck = 'PASSED' if (temp.shape[0] == current_clean_df.shape[0]\n",
    "                          and temp.shape[1] == current_clean_df.shape[1]) else 'FAILED'\n",
    "print('\\n\\nCROSSCHECK {}: raw: {}, pre-processed: {}, cleaned: {}\\n\\n'\n",
    "      .format(crosscheck, current_raw_df.shape, temp.shape, current_clean_df.shape))"
   ]
  },
  {
   "cell_type": "markdown",
   "id": "e86610c3-75ec-4dcd-ada9-ff9e3282736c",
   "metadata": {},
   "source": [
    "We're ready for modeling now!"
   ]
  },
  {
   "cell_type": "code",
   "execution_count": null,
   "id": "36c06287-9dd0-49a4-958e-f8aaf02a8abb",
   "metadata": {},
   "outputs": [],
   "source": []
  }
 ],
 "metadata": {
  "kernelspec": {
   "display_name": "Python 3 (ipykernel)",
   "language": "python",
   "name": "python3"
  },
  "language_info": {
   "codemirror_mode": {
    "name": "ipython",
    "version": 3
   },
   "file_extension": ".py",
   "mimetype": "text/x-python",
   "name": "python",
   "nbconvert_exporter": "python",
   "pygments_lexer": "ipython3",
   "version": "3.11.9"
  },
  "widgets": {
   "application/vnd.jupyter.widget-state+json": {
    "state": {},
    "version_major": 2,
    "version_minor": 0
   }
  }
 },
 "nbformat": 4,
 "nbformat_minor": 5
}
