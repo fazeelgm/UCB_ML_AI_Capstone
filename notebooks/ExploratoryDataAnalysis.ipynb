{
 "cells": [
  {
   "cell_type": "markdown",
   "id": "9077976a-3162-4997-8f96-1b02026b9400",
   "metadata": {},
   "source": [
    "# Capstone: Exploratory Data Analysis"
   ]
  },
  {
   "cell_type": "code",
   "execution_count": 2,
   "id": "a13fd16b-7c18-4e80-9754-81f3253e9e1a",
   "metadata": {},
   "outputs": [],
   "source": [
    "import matplotlib.pyplot as plt\n",
    "import pandas as pd\n",
    "import numpy as np\n",
    "import seaborn as sns\n",
    "\n",
    "# import project utils\n",
    "import sys\n",
    "sys.path.append('../src')\n",
    "\n",
    "import graph_utils"
   ]
  },
  {
   "cell_type": "markdown",
   "id": "9f1c6254-e944-4812-b625-e33ed2f87d9a",
   "metadata": {},
   "source": [
    "## The Data: San Francisco Police Department Incident Reports"
   ]
  },
  {
   "cell_type": "markdown",
   "id": "7ca9764e-af25-4061-b318-4a7ea2dd76b4",
   "metadata": {},
   "source": [
    "## Read the data"
   ]
  },
  {
   "cell_type": "markdown",
   "id": "8875e9d8-9eea-40f6-b1a7-ca95c2015769",
   "metadata": {},
   "source": [
    "The dataset is available as two CSV files with historical data from 2003-2018 and 2018-Present:\n",
    "\n",
    "* [San Franciso Police Department Incident Reports: Historical 2003 to May 2018](https://data.sfgov.org/Public-Safety/Police-Department-Incident-Reports-Historical-2003/tmnf-yvry/about_data)\n",
    "* [Police Department Incident Reports: 2018 to Present](https://data.sfgov.org/Public-Safety/Police-Department-Incident-Reports-2018-to-Present/wg3w-h783/about_data)\n",
    "\n",
    "The current data is updated nightly and it takes a few minutes to read and convert the data to a time-series format. So, I've created a set of utilities to optimize data ingestion in the `data_utils.py`."
   ]
  },
  {
   "cell_type": "code",
   "execution_count": 6,
   "id": "92283997-1411-4001-81d8-06906060f24d",
   "metadata": {},
   "outputs": [],
   "source": [
    "import data_utils"
   ]
  },
  {
   "cell_type": "markdown",
   "id": "3f91b471-3569-4dcb-bfdf-9e265f7bb217",
   "metadata": {},
   "source": [
    "I periodically refresh the dataset from the [excellent DataSF site](https://www.sf.gov/departments/city-administrator/datasf) to the project `data` directoty, and generate a _clean_ input file transformed as a time-series. I will typically do this a couple of times a week, and save the output as a static comment below so I know what happened.\n",
    "\n",
    "**Capstone Project 20.1: Initial Report and Exploratory Data Analysis (EDA)**: I'm limiting the report to only the current data for now:\n",
    "\n",
    "* [Police Department Incident Reports: 2018 to Present](https://data.sfgov.org/Public-Safety/Police-Department-Incident-Reports-2018-to-Present/wg3w-h783/about_data)\n"
   ]
  },
  {
   "cell_type": "code",
   "execution_count": 8,
   "id": "b9499b6c-776d-4ea4-ab13-fc49087386b9",
   "metadata": {},
   "outputs": [],
   "source": [
    "# Convert the raw SFPD data into a cleansed data file - only to be used when refreshing from new data\n",
    "\n",
    "current_raw_file = '../data/Police_Department_Incident_Reports__2018_to_Present_20240910.csv'\n",
    "current_clean_file = '../data/incidents_clean.csv'\n",
    "\n",
    "# Uncomment to regenerate the clean data file from raw data - normally just read the clean data as it's MUCH FASTER\n",
    "# data_utils.generate_clean_csv(current_raw_file, current_clean_file, debug=True)"
   ]
  },
  {
   "cell_type": "markdown",
   "id": "e4ec39e7-d9f4-4c1f-9c41-96d78984f80f",
   "metadata": {},
   "source": [
    "STATIC COMMENT: OUTPUT SAVED FROM LAST SUCCESSFULL RUN (see timestamp below):\n",
    "```\n",
    "Start Time: 09/13/24 16:24:59\n",
    "\n",
    "Reading file: ../data/Police_Department_Incident_Reports__2018_to_Present_20240910.csv ... Done: 887,173 rows, 35 columns\n",
    "... Formatting column names ... Done\n",
    "... Creating timeseries columns: datetime and date ... \n",
    "...... Number of rows where the datetime conversion failed: 0\n",
    "...... Number of rows where the date conversion failed: 0\n",
    "...... Timespan: 2018-01-01 00:00:00 - 2024-09-08 19:30:00\n",
    "... Done\n",
    "... Setting index to datetime ... Done\n",
    "\n",
    "Current Time: 09/13/24 16:26:17\n",
    "\n",
    "<class 'pandas.core.frame.DataFrame'>\n",
    "DatetimeIndex: 887173 entries, 2023-03-13 23:41:00 to 2023-03-21 17:42:00\n",
    "Data columns (total 36 columns):\n",
    " #   Column                                                Non-Null Count   Dtype         \n",
    "---  ------                                                --------------   -----         \n",
    " 0   incident_datetime                                     887173 non-null  object        \n",
    " 1   incident_date                                         887173 non-null  object        \n",
    " 2   incident_time                                         887173 non-null  object        \n",
    " 3   incident_year                                         887173 non-null  int64         \n",
    " 4   incident_day_of_week                                  887173 non-null  object        \n",
    " 5   report_datetime                                       887173 non-null  object        \n",
    " 6   row_id                                                887173 non-null  int64         \n",
    " 7   incident_id                                           887173 non-null  int64         \n",
    " 8   incident_number                                       887173 non-null  int64         \n",
    " 9   cad_number                                            689019 non-null  float64       \n",
    " 10  report_type_code                                      887173 non-null  object        \n",
    " 11  report_type_description                               887173 non-null  object        \n",
    " 12  filed_online                                          175483 non-null  object        \n",
    " 13  incident_code                                         887173 non-null  int64         \n",
    " 14  incident_category                                     886295 non-null  object        \n",
    " 15  incident_subcategory                                  886295 non-null  object        \n",
    " 16  incident_description                                  887173 non-null  object        \n",
    " 17  resolution                                            887173 non-null  object        \n",
    " 18  intersection                                          838341 non-null  object        \n",
    " 19  cnn                                                   838341 non-null  float64       \n",
    " 20  police_district                                       887173 non-null  object        \n",
    " 21  analysis_neighborhood                                 838173 non-null  object        \n",
    " 22  supervisor_district                                   837885 non-null  float64       \n",
    " 23  supervisor_district_2012                              838198 non-null  float64       \n",
    " 24  latitude                                              838341 non-null  float64       \n",
    " 25  longitude                                             838341 non-null  float64       \n",
    " 26  point                                                 838341 non-null  object        \n",
    " 27  neighborhoods                                         821671 non-null  float64       \n",
    " 28  esncag_-_boundary_file                                9413 non-null    float64       \n",
    " 29  central_market/tenderloin_boundary_polygon_-_updated  117048 non-null  float64       \n",
    " 30  civic_center_harm_reduction_project_boundary          114781 non-null  float64       \n",
    " 31  hsoc_zones_as_of_2018-06-05                           185157 non-null  float64       \n",
    " 32  invest_in_neighborhoods_(iin)_areas                   0 non-null       float64       \n",
    " 33  current_supervisor_districts                          838198 non-null  float64       \n",
    " 34  current_police_districts                              837437 non-null  float64       \n",
    " 35  date                                                  887173 non-null  datetime64[ns]\n",
    "dtypes: datetime64[ns](1), float64(14), int64(5), object(16)\n",
    "memory usage: 250.4+ MB\n",
    "... Writing file: ../data/incidents_clean.csv (887173, 36) ... Done\n",
    "Done\n",
    "\n",
    "End Time: 09/13/24 16:26:40\n",
    "```"
   ]
  },
  {
   "cell_type": "markdown",
   "id": "7c74fd6e-7192-46af-b568-9aea76ef864a",
   "metadata": {},
   "source": [
    "As you can see, there are almost a million samples since 2018!\n",
    "\n",
    "So, I then generate a few randomly sampled datasets of known percentages, to speed up the data exploration. Again only done when refreshing the dataset. Since we'll be working across multiple randomly selected datafiles, I set a global random_state value from hereon remove any randomization artifacts from one run to the next:"
   ]
  },
  {
   "cell_type": "code",
   "execution_count": 11,
   "id": "454585ec-3a70-46f2-ad98-f83cb9793e59",
   "metadata": {},
   "outputs": [],
   "source": [
    "# Global settings\n",
    "project_random_state = 42   # Consistent random_state"
   ]
  },
  {
   "cell_type": "code",
   "execution_count": 12,
   "id": "75794efb-42d0-4b9b-9d26-1444575b7a39",
   "metadata": {},
   "outputs": [],
   "source": [
    "# Uncomment to generate the sample files\n",
    "\n",
    "# data_utils.generate_sample_files(current_clean_file, random_state=project_random_state)"
   ]
  },
  {
   "cell_type": "markdown",
   "id": "44828fdf-0e65-4d51-9f2d-265269c93bc8",
   "metadata": {},
   "source": [
    "STATIC COMMENT: OUTPUT SAVED FROM LAST SUCCESSFULL RUN (see timestamp below):\n",
    "```\n",
    "Start Time: 09/13/24 16:26:40\n",
    "\n",
    "Reading file: ../data/incidents_clean.csv ... Done: 887,173 rows, 37 columns\n",
    "... Writing 10% sample file: ../data/incidents_clean_10_pct.csv (88717, 37) ... Done\n",
    "... Writing 25% sample file: ../data/incidents_clean_25_pct.csv (221793, 37) ... Done\n",
    "... Writing 50% sample file: ../data/incidents_clean_50_pct.csv (443586, 37) ... Done\n",
    "... Writing 75% sample file: ../data/incidents_clean_75_pct.csv (665380, 37) ... Done\n",
    "End Time: 09/13/24 16:28:05\n",
    "```"
   ]
  },
  {
   "cell_type": "code",
   "execution_count": 14,
   "id": "c04ff743-ddff-4f5c-a1ac-daa81f070753",
   "metadata": {},
   "outputs": [
    {
     "name": "stdout",
     "output_type": "stream",
     "text": [
      "Selected sample file: ../data/incidents_clean_10_pct.csv\n"
     ]
    }
   ],
   "source": [
    "# Which dataset to work from?\n",
    "sample_file_size_pct = 10\n",
    "match(sample_file_size_pct):\n",
    "    case 100:\n",
    "        sample_file = current_clean_file\n",
    "    case 25 | 50 | 75:\n",
    "        file_prefix = current_clean_file.replace('.csv', '')\n",
    "        sample_file = f'{file_prefix}_{sample_file_size_pct}_pct.csv'\n",
    "    case _:\n",
    "        sample_file = '../data/incidents_clean_10_pct.csv'\n",
    "\n",
    "print(f'Selected sample file: {sample_file}')"
   ]
  },
  {
   "cell_type": "markdown",
   "id": "5a8dc240-9aaf-46bf-aee3-508a7c223a77",
   "metadata": {},
   "source": [
    "## Preprocessing"
   ]
  },
  {
   "cell_type": "markdown",
   "id": "8f2c5659-ab95-408f-89b6-adb3b6218b11",
   "metadata": {},
   "source": [
    "### Read in the current data"
   ]
  },
  {
   "cell_type": "markdown",
   "id": "81d0a154-1c8b-4a55-8220-650875e22e85",
   "metadata": {},
   "source": [
    "I use the `get_clean_data_from_csv` function to read the selected sample file:\n",
    "\n",
    "* Extracts the `datetime` column, converts it to datetime format and sets it as the index for the returned data\n",
    "* Also copies the `datetime` in a new column `date`"
   ]
  },
  {
   "cell_type": "code",
   "execution_count": 27,
   "id": "e7bf758f-2307-46e0-80fe-bd1a788333e3",
   "metadata": {},
   "outputs": [
    {
     "name": "stdout",
     "output_type": "stream",
     "text": [
      "Reading file: ../data/incidents_clean_10_pct.csv ... Done: 88,717 rows, 38 columns\n",
      "... Converting datetime and date to timeseries ... Done\n",
      "... Setting index to datetime ... Done\n",
      "Done\n"
     ]
    }
   ],
   "source": [
    "current_raw_df, current_clean_df = data_utils.get_clean_data_from_csv(sample_file)"
   ]
  },
  {
   "cell_type": "code",
   "execution_count": 29,
   "id": "38320bdf-0ae6-4c8e-8ab9-607b17c9826d",
   "metadata": {},
   "outputs": [
    {
     "name": "stdout",
     "output_type": "stream",
     "text": [
      "Dataset Sizes: CurrentRaw: (88717, 37), Current_Clean: (88717, 37)\n"
     ]
    }
   ],
   "source": [
    "print(f'Dataset Sizes: CurrentRaw: {current_raw_df.shape}, Current_Clean: {current_clean_df.shape}')"
   ]
  },
  {
   "cell_type": "code",
   "execution_count": 49,
   "id": "53bb9d60-19b4-4b8d-ae23-fc808b6f0889",
   "metadata": {},
   "outputs": [
    {
     "name": "stdout",
     "output_type": "stream",
     "text": [
      "<class 'pandas.core.frame.DataFrame'>\n",
      "DatetimeIndex: 88717 entries, 2022-02-10 07:59:00 to 2021-07-09 00:22:00\n",
      "Data columns (total 37 columns):\n",
      " #   Column                                                Non-Null Count  Dtype         \n",
      "---  ------                                                --------------  -----         \n",
      " 0   Unnamed: 0                                            88717 non-null  int64         \n",
      " 1   incident_datetime                                     88717 non-null  object        \n",
      " 2   incident_date                                         88717 non-null  object        \n",
      " 3   incident_time                                         88717 non-null  object        \n",
      " 4   incident_year                                         88717 non-null  int64         \n",
      " 5   incident_day_of_week                                  88717 non-null  object        \n",
      " 6   report_datetime                                       88717 non-null  object        \n",
      " 7   row_id                                                88717 non-null  int64         \n",
      " 8   incident_id                                           88717 non-null  int64         \n",
      " 9   incident_number                                       88717 non-null  int64         \n",
      " 10  cad_number                                            68957 non-null  float64       \n",
      " 11  report_type_code                                      88717 non-null  object        \n",
      " 12  report_type_description                               88717 non-null  object        \n",
      " 13  filed_online                                          17541 non-null  object        \n",
      " 14  incident_code                                         88717 non-null  int64         \n",
      " 15  incident_category                                     88624 non-null  object        \n",
      " 16  incident_subcategory                                  88624 non-null  object        \n",
      " 17  incident_description                                  88717 non-null  object        \n",
      " 18  resolution                                            88717 non-null  object        \n",
      " 19  intersection                                          83856 non-null  object        \n",
      " 20  cnn                                                   83856 non-null  float64       \n",
      " 21  police_district                                       88717 non-null  object        \n",
      " 22  analysis_neighborhood                                 83834 non-null  object        \n",
      " 23  supervisor_district                                   83804 non-null  float64       \n",
      " 24  supervisor_district_2012                              83842 non-null  float64       \n",
      " 25  latitude                                              83856 non-null  float64       \n",
      " 26  longitude                                             83856 non-null  float64       \n",
      " 27  point                                                 83856 non-null  object        \n",
      " 28  neighborhoods                                         82242 non-null  float64       \n",
      " 29  esncag_-_boundary_file                                949 non-null    float64       \n",
      " 30  central_market/tenderloin_boundary_polygon_-_updated  11690 non-null  float64       \n",
      " 31  civic_center_harm_reduction_project_boundary          11459 non-null  float64       \n",
      " 32  hsoc_zones_as_of_2018-06-05                           18597 non-null  float64       \n",
      " 33  invest_in_neighborhoods_(iin)_areas                   0 non-null      float64       \n",
      " 34  current_supervisor_districts                          83842 non-null  float64       \n",
      " 35  current_police_districts                              83753 non-null  float64       \n",
      " 36  date                                                  88717 non-null  datetime64[ns]\n",
      "dtypes: datetime64[ns](1), float64(14), int64(6), object(16)\n",
      "memory usage: 25.7+ MB\n"
     ]
    }
   ],
   "source": [
    "current_raw_df.info()"
   ]
  },
  {
   "cell_type": "markdown",
   "id": "50839588-c61b-44b0-8640-5a2be724e5ce",
   "metadata": {},
   "source": [
    "### Inspect: Nulls"
   ]
  },
  {
   "cell_type": "code",
   "execution_count": 75,
   "id": "e5f5cd1d-8cd3-47bf-a6d6-d070d1940b67",
   "metadata": {},
   "outputs": [
    {
     "name": "stdout",
     "output_type": "stream",
     "text": [
      "COMPLETENESS CHECK: Percent non-null values in each column\n"
     ]
    },
    {
     "data": {
      "text/plain": [
       "Unnamed: 0                                              100.00\n",
       "incident_datetime                                       100.00\n",
       "incident_date                                           100.00\n",
       "incident_time                                           100.00\n",
       "incident_year                                           100.00\n",
       "incident_day_of_week                                    100.00\n",
       "report_datetime                                         100.00\n",
       "row_id                                                  100.00\n",
       "incident_id                                             100.00\n",
       "incident_number                                         100.00\n",
       "cad_number                                               77.73\n",
       "report_type_code                                        100.00\n",
       "report_type_description                                 100.00\n",
       "filed_online                                             19.77\n",
       "incident_code                                           100.00\n",
       "incident_category                                        99.90\n",
       "incident_subcategory                                     99.90\n",
       "incident_description                                    100.00\n",
       "resolution                                              100.00\n",
       "intersection                                             94.52\n",
       "cnn                                                      94.52\n",
       "police_district                                         100.00\n",
       "analysis_neighborhood                                    94.50\n",
       "supervisor_district                                      94.46\n",
       "supervisor_district_2012                                 94.50\n",
       "latitude                                                 94.52\n",
       "longitude                                                94.52\n",
       "point                                                    94.52\n",
       "neighborhoods                                            92.70\n",
       "esncag_-_boundary_file                                    1.07\n",
       "central_market/tenderloin_boundary_polygon_-_updated     13.18\n",
       "civic_center_harm_reduction_project_boundary             12.92\n",
       "hsoc_zones_as_of_2018-06-05                              20.96\n",
       "invest_in_neighborhoods_(iin)_areas                       0.00\n",
       "current_supervisor_districts                             94.50\n",
       "current_police_districts                                 94.40\n",
       "date                                                    100.00\n",
       "dtype: float64"
      ]
     },
     "execution_count": 75,
     "metadata": {},
     "output_type": "execute_result"
    }
   ],
   "source": [
    "print('COMPLETENESS CHECK: Percent non-null values in each column')\n",
    "current_raw_df.isnull().sum().transform(lambda x: (1 - (x / current_raw_df.shape[0])) * 100).round(2)"
   ]
  },
  {
   "cell_type": "markdown",
   "id": "2d4ceca4-001b-415f-be6e-76a50e0ae3e9",
   "metadata": {},
   "source": [
    "#### Remove unwanted columns"
   ]
  },
  {
   "attachments": {},
   "cell_type": "markdown",
   "id": "0690f56c-f1ac-41e7-8eb1-ccefc3645b7f",
   "metadata": {},
   "source": [
    "We now have the current data in two dataframes - _we will keep the `current_raw_df` data pristine and start pre-processing \n",
    "the `current_clean_df` as we analyze the content_.\n",
    "\n",
    "Let's take a first pass at removing unwanted columns - detailed descriptions can be found in the\n",
    "[DataSF Data Sheet](https://data.sfgov.org/Public-Safety/Police-Department-Incident-Reports-2018-to-Present/wg3w-h783/about_data)."
   ]
  },
  {
   "cell_type": "code",
   "execution_count": 80,
   "id": "7eab190b-16ab-4d85-a3bf-10c6ed80e48b",
   "metadata": {},
   "outputs": [
    {
     "data": {
      "text/plain": [
       "Index(['Unnamed: 0', 'incident_datetime', 'incident_date', 'incident_time',\n",
       "       'incident_year', 'incident_day_of_week', 'report_datetime', 'row_id',\n",
       "       'incident_id', 'incident_number', 'cad_number', 'report_type_code',\n",
       "       'report_type_description', 'filed_online', 'incident_code',\n",
       "       'incident_category', 'incident_subcategory', 'incident_description',\n",
       "       'resolution', 'intersection', 'cnn', 'police_district',\n",
       "       'analysis_neighborhood', 'supervisor_district',\n",
       "       'supervisor_district_2012', 'latitude', 'longitude', 'point',\n",
       "       'neighborhoods', 'esncag_-_boundary_file',\n",
       "       'central_market/tenderloin_boundary_polygon_-_updated',\n",
       "       'civic_center_harm_reduction_project_boundary',\n",
       "       'hsoc_zones_as_of_2018-06-05', 'invest_in_neighborhoods_(iin)_areas',\n",
       "       'current_supervisor_districts', 'current_police_districts', 'date'],\n",
       "      dtype='object')"
      ]
     },
     "execution_count": 80,
     "metadata": {},
     "output_type": "execute_result"
    }
   ],
   "source": [
    "current_raw_df.columns"
   ]
  },
  {
   "cell_type": "markdown",
   "id": "c8ce3e51-f261-4fd6-b584-4661d08da65a",
   "metadata": {},
   "source": [
    "During the first pass, we'll use the following strategy to drop the initial set of columns:\n",
    "\n",
    "* Columns named `Unnamed: nnn`: these were introduced during the sample file generation and are unwanted\n",
    "* Any columns that uniquely identify a row, i.e. ID or other row-specific information, will hamper classification, so we will drop it for now. Examples are:\n",
    "  * incident_datetime\n",
    "  * report_datetime\n",
    "  * row_id\n",
    "  * incident_id / incident_code\n",
    "  * incident_number\n",
    "  * cad_number\n",
    "* Any columns that are not related to predicting the crime category from its related features:\n",
    "  * report_type_code\n",
    "  * report_type_description\n",
    "  * filed_online\n",
    "* Columns that identify street or address information that we will not be using as we are focused on predictions based on LatLong, neighborhood or Police District and Precinct\n",
    "  * intersection\n",
    "  * cnn\n",
    "* Columns that are mostly empty\n",
    "  * esncag_-_boundary_file\n",
    "  * central_market/tenderloin_boundary_polygon_-_updated\n",
    "  * civic_center_harm_reduction_project_boundary\n",
    "  * hsoc_zones_as_of_2018-06-05\n",
    "  * invest_in_neighborhoods_(iin)_areas"
   ]
  },
  {
   "cell_type": "code",
   "execution_count": 92,
   "id": "9c8402f3-fef0-4691-9ac7-2323b085667b",
   "metadata": {},
   "outputs": [
    {
     "name": "stdout",
     "output_type": "stream",
     "text": [
      "Pre-processing ... \n",
      "... Dropping unwanted columns ... \n",
      "... preprocess_drop_cols: Column Unnamed: 0 not dropped: KeyError(\"['Unnamed: 0'] not found in axis\")\n",
      "... preprocess_drop_cols: Column incident_datetime not dropped: KeyError(\"['incident_datetime'] not found in axis\")\n",
      "... preprocess_drop_cols: Column report_datetime not dropped: KeyError(\"['report_datetime'] not found in axis\")\n",
      "... preprocess_drop_cols: Column row_id not dropped: KeyError(\"['row_id'] not found in axis\")\n",
      "... preprocess_drop_cols: Column incident_id not dropped: KeyError(\"['incident_id'] not found in axis\")\n",
      "... preprocess_drop_cols: Column incident_code dropped\n",
      "... preprocess_drop_cols: Column incident_number not dropped: KeyError(\"['incident_number'] not found in axis\")\n",
      "... preprocess_drop_cols: Column cad_number not dropped: KeyError(\"['cad_number'] not found in axis\")\n",
      "... preprocess_drop_cols: Column report_type_code not dropped: KeyError(\"['report_type_code'] not found in axis\")\n",
      "... preprocess_drop_cols: Column report_type_description not dropped: KeyError(\"['report_type_description'] not found in axis\")\n",
      "... preprocess_drop_cols: Column filed_online not dropped: KeyError(\"['filed_online'] not found in axis\")\n",
      "... preprocess_drop_cols: Column intersection not dropped: KeyError(\"['intersection'] not found in axis\")\n",
      "... preprocess_drop_cols: Column cnn not dropped: KeyError(\"['cnn'] not found in axis\")\n",
      "... preprocess_drop_cols: Column esncag_-_boundary_file not dropped: KeyError(\"['esncag_-_boundary_file'] not found in axis\")\n",
      "... preprocess_drop_cols: Column central_market/tenderloin_boundary_polygon_-_updated not dropped: KeyError(\"['central_market/tenderloin_boundary_polygon_-_updated'] not found in axis\")\n",
      "... preprocess_drop_cols: Column civic_center_harm_reduction_project_boundary not dropped: KeyError(\"['civic_center_harm_reduction_project_boundary'] not found in axis\")\n",
      "... preprocess_drop_cols: Column hsoc_zones_as_of_2018-06-05 not dropped: KeyError(\"['hsoc_zones_as_of_2018-06-05'] not found in axis\")\n",
      "... preprocess_drop_cols: Column invest_in_neighborhoods_(iin)_areas not dropped: KeyError(\"['invest_in_neighborhoods_(iin)_areas'] not found in axis\")\n",
      "... Done\n",
      "Done\n"
     ]
    }
   ],
   "source": [
    "drop_cols = ['Unnamed: 0', 'incident_datetime', 'report_datetime', 'row_id', \n",
    "             'incident_id', 'incident_code', 'incident_number', 'cad_number',\n",
    "             'report_type_code', 'report_type_description', 'filed_online',\n",
    "             'intersection', 'cnn',\n",
    "             'esncag_-_boundary_file', 'central_market/tenderloin_boundary_polygon_-_updated',  \n",
    "             'civic_center_harm_reduction_project_boundary','hsoc_zones_as_of_2018-06-05',\n",
    "             'invest_in_neighborhoods_(iin)_areas',\n",
    "            ]\n",
    "\n",
    "current_clean_data = data_utils.preprocess_data(current_clean_data, drop_cols)"
   ]
  },
  {
   "cell_type": "code",
   "execution_count": 94,
   "id": "24b043fb-384f-408c-850f-35d8e9abba30",
   "metadata": {},
   "outputs": [
    {
     "name": "stdout",
     "output_type": "stream",
     "text": [
      "<class 'pandas.core.frame.DataFrame'>\n",
      "DatetimeIndex: 88717 entries, 2022-02-10 07:59:00 to 2021-07-09 00:22:00\n",
      "Data columns (total 16 columns):\n",
      " #   Column                        Non-Null Count  Dtype         \n",
      "---  ------                        --------------  -----         \n",
      " 0   incident_date                 88717 non-null  object        \n",
      " 1   incident_time                 88717 non-null  object        \n",
      " 2   incident_year                 88717 non-null  int64         \n",
      " 3   incident_day_of_week          88717 non-null  object        \n",
      " 4   incident_category             88624 non-null  object        \n",
      " 5   incident_subcategory          88624 non-null  object        \n",
      " 6   incident_description          88717 non-null  object        \n",
      " 7   resolution                    88717 non-null  object        \n",
      " 8   police_district               88717 non-null  object        \n",
      " 9   analysis_neighborhood         83834 non-null  object        \n",
      " 10  supervisor_district           83804 non-null  float64       \n",
      " 11  supervisor_district_2012      83842 non-null  float64       \n",
      " 12  neighborhoods                 82242 non-null  float64       \n",
      " 13  current_supervisor_districts  83842 non-null  float64       \n",
      " 14  current_police_districts      83753 non-null  float64       \n",
      " 15  date                          88717 non-null  datetime64[ns]\n",
      "dtypes: datetime64[ns](1), float64(5), int64(1), object(9)\n",
      "memory usage: 11.5+ MB\n"
     ]
    }
   ],
   "source": [
    "current_clean_data.info()"
   ]
  },
  {
   "cell_type": "code",
   "execution_count": 98,
   "id": "bbc278fa-ae05-4736-9137-04c3fa452581",
   "metadata": {},
   "outputs": [
    {
     "name": "stdout",
     "output_type": "stream",
     "text": [
      "COMPLETENESS CHECK: Percent non-null values in each column\n"
     ]
    },
    {
     "data": {
      "text/plain": [
       "incident_date                   100.00\n",
       "incident_time                   100.00\n",
       "incident_year                   100.00\n",
       "incident_day_of_week            100.00\n",
       "incident_category                99.90\n",
       "incident_subcategory             99.90\n",
       "incident_description            100.00\n",
       "resolution                      100.00\n",
       "police_district                 100.00\n",
       "analysis_neighborhood            94.50\n",
       "supervisor_district              94.46\n",
       "supervisor_district_2012         94.50\n",
       "neighborhoods                    92.70\n",
       "current_supervisor_districts     94.50\n",
       "current_police_districts         94.40\n",
       "date                            100.00\n",
       "dtype: float64"
      ]
     },
     "execution_count": 98,
     "metadata": {},
     "output_type": "execute_result"
    }
   ],
   "source": [
    "print('COMPLETENESS CHECK: Percent non-null values in each column')\n",
    "current_clean_data.isnull().sum().transform(lambda x: (1 - (x / current_clean_data.shape[0])) * 100).round(2)"
   ]
  },
  {
   "cell_type": "markdown",
   "id": "305e3dc5-a87f-4637-a1a5-69e13e020549",
   "metadata": {},
   "source": [
    "Most of the columns have above 90% non-null data. We can move onto analyzing individual features now."
   ]
  },
  {
   "cell_type": "markdown",
   "id": "0d7a82cb-bacf-4fb1-842a-0eff61e9da98",
   "metadata": {},
   "source": [
    "### Inspect: Time-based Features"
   ]
  },
  {
   "cell_type": "markdown",
   "id": "f717cf0d-a609-4a93-bd12-06309fb98635",
   "metadata": {},
   "source": [
    "#### Inspect: Incidents per Day"
   ]
  },
  {
   "cell_type": "code",
   "execution_count": 163,
   "id": "78ee3f20-b9fb-4c1e-a850-f8174d28f908",
   "metadata": {},
   "outputs": [
    {
     "data": {
      "image/png": "[encoded data removed]",
      "text/plain": [
       "<Figure size 600x300 with 1 Axes>"
      ]
     },
     "metadata": {},
     "output_type": "display_data"
    }
   ],
   "source": [
    "plt.figure(figsize=(6, 3))\n",
    "sns.histplot(data=current_clean_data, x=current_clean_data.index, bins=100, kde=True)\n",
    "# sns.histplot(data=current_clean_data, x=current_clean_data.index, discrete=True, kde=True)\n",
    "\n",
    "plt.xlabel('Date / Time of Incident')\n",
    "plt.ylabel('# Incidents')\n",
    "plt.title('Histogram of Incidents per Day')\n",
    "\n",
    "plt.tight_layout()\n",
    "plt.savefig('../images/incidents_per_day.png')\n",
    "plt.show()"
   ]
  },
  {
   "cell_type": "markdown",
   "id": "28a85f72-5ca0-4275-ad8d-d1df0e7a9d13",
   "metadata": {},
   "source": [
    "#### Inspect: Incidents per Year"
   ]
  },
  {
   "cell_type": "code",
   "execution_count": 171,
   "id": "bf13d02d-e18e-4376-b11c-39f4885f5d30",
   "metadata": {},
   "outputs": [
    {
     "data": {
      "image/png": "[encoded data removed]",
      "text/plain": [
       "<Figure size 600x300 with 1 Axes>"
      ]
     },
     "metadata": {},
     "output_type": "display_data"
    }
   ],
   "source": [
    "plt.figure(figsize=(6, 3))\n",
    "# sns.histplot(data=current_clean_data, x='incident_year', kde=True)\n",
    "sns.histplot(data=current_clean_data, x='incident_year', discrete=True)\n",
    "\n",
    "plt.xlabel('Date / Time of Incident')\n",
    "plt.ylabel('# Incidents')\n",
    "plt.title('Histogram of Incidents per Day')\n",
    "\n",
    "plt.tight_layout()\n",
    "plt.savefig('../images/incidents_per_year.png')\n",
    "plt.show()"
   ]
  },
  {
   "cell_type": "markdown",
   "id": "277dbfd2-9973-4e28-964d-0b5703bfbd3a",
   "metadata": {},
   "source": [
    "#### Inspect: Incidents by Day of Week"
   ]
  },
  {
   "cell_type": "code",
   "execution_count": 194,
   "id": "b246c432-7955-4f9a-b150-81c66ab89b66",
   "metadata": {},
   "outputs": [
    {
     "data": {
      "image/png": "[encoded data removed]",
      "text/plain": [
       "<Figure size 700x300 with 1 Axes>"
      ]
     },
     "metadata": {},
     "output_type": "display_data"
    }
   ],
   "source": [
    "plt.figure(figsize=(7, 3))\n",
    "# sns.histplot(data=current_clean_data, x='incident_year', kde=True)\n",
    "sns.histplot(data=current_clean_data, x='incident_day_of_week')#, discreet=False)\n",
    "\n",
    "plt.xlabel('Day of Week of Incident')\n",
    "plt.ylabel('# Incidents')\n",
    "plt.title('Histogram of Incidents per Day')\n",
    "\n",
    "plt.tight_layout()\n",
    "plt.savefig('../images/incidents_per_DoW.png')\n",
    "plt.show()"
   ]
  },
  {
   "cell_type": "code",
   "execution_count": 173,
   "id": "d2f18b00-00cd-4be9-bec3-f8cc733ee023",
   "metadata": {},
   "outputs": [
    {
     "data": {
      "text/plain": [
       "Index(['incident_date', 'incident_time', 'incident_year',\n",
       "       'incident_day_of_week', 'incident_category', 'incident_subcategory',\n",
       "       'incident_description', 'resolution', 'police_district',\n",
       "       'analysis_neighborhood', 'supervisor_district',\n",
       "       'supervisor_district_2012', 'neighborhoods',\n",
       "       'current_supervisor_districts', 'current_police_districts', 'date'],\n",
       "      dtype='object')"
      ]
     },
     "execution_count": 173,
     "metadata": {},
     "output_type": "execute_result"
    }
   ],
   "source": [
    "current_clean_data.columns"
   ]
  },
  {
   "cell_type": "code",
   "execution_count": 21,
   "id": "20ea6777-de2c-4f1c-82f5-b38e744e8ef6",
   "metadata": {},
   "outputs": [],
   "source": [
    "data = current_clean_data"
   ]
  },
  {
   "cell_type": "code",
   "execution_count": 22,
   "id": "8259a11e-a78d-496b-8b77-e2809dd9b117",
   "metadata": {},
   "outputs": [
    {
     "data": {
      "text/html": [
       "<div>\n",
       "<style scoped>\n",
       "    .dataframe tbody tr th:only-of-type {\n",
       "        vertical-align: middle;\n",
       "    }\n",
       "\n",
       "    .dataframe tbody tr th {\n",
       "        vertical-align: top;\n",
       "    }\n",
       "\n",
       "    .dataframe thead th {\n",
       "        text-align: right;\n",
       "    }\n",
       "</style>\n",
       "<table border=\"1\" class=\"dataframe\">\n",
       "  <thead>\n",
       "    <tr style=\"text-align: right;\">\n",
       "      <th></th>\n",
       "      <th>Unnamed: 0</th>\n",
       "      <th>incident_datetime</th>\n",
       "      <th>incident_date</th>\n",
       "      <th>incident_time</th>\n",
       "      <th>incident_year</th>\n",
       "      <th>incident_day_of_week</th>\n",
       "      <th>report_type_code</th>\n",
       "      <th>report_type_description</th>\n",
       "      <th>filed_online</th>\n",
       "      <th>incident_code</th>\n",
       "      <th>...</th>\n",
       "      <th>intersection</th>\n",
       "      <th>cnn</th>\n",
       "      <th>police_district</th>\n",
       "      <th>analysis_neighborhood</th>\n",
       "      <th>supervisor_district</th>\n",
       "      <th>supervisor_district_2012</th>\n",
       "      <th>neighborhoods</th>\n",
       "      <th>current_supervisor_districts</th>\n",
       "      <th>current_police_districts</th>\n",
       "      <th>date</th>\n",
       "    </tr>\n",
       "    <tr>\n",
       "      <th>datetime</th>\n",
       "      <th></th>\n",
       "      <th></th>\n",
       "      <th></th>\n",
       "      <th></th>\n",
       "      <th></th>\n",
       "      <th></th>\n",
       "      <th></th>\n",
       "      <th></th>\n",
       "      <th></th>\n",
       "      <th></th>\n",
       "      <th></th>\n",
       "      <th></th>\n",
       "      <th></th>\n",
       "      <th></th>\n",
       "      <th></th>\n",
       "      <th></th>\n",
       "      <th></th>\n",
       "      <th></th>\n",
       "      <th></th>\n",
       "      <th></th>\n",
       "      <th></th>\n",
       "    </tr>\n",
       "  </thead>\n",
       "  <tbody>\n",
       "    <tr>\n",
       "      <th>2022-02-10 07:59:00</th>\n",
       "      <td>308322</td>\n",
       "      <td>2022/02/10 07:59:00 AM</td>\n",
       "      <td>2022/02/10</td>\n",
       "      <td>07:59</td>\n",
       "      <td>2022</td>\n",
       "      <td>Thursday</td>\n",
       "      <td>VS</td>\n",
       "      <td>Vehicle Supplement</td>\n",
       "      <td>NaN</td>\n",
       "      <td>7041</td>\n",
       "      <td>...</td>\n",
       "      <td>SAN BENITO WAY \\ OCEAN AVE</td>\n",
       "      <td>22771000.0</td>\n",
       "      <td>Ingleside</td>\n",
       "      <td>West of Twin Peaks</td>\n",
       "      <td>7.0</td>\n",
       "      <td>7.0</td>\n",
       "      <td>67.0</td>\n",
       "      <td>8.0</td>\n",
       "      <td>10.0</td>\n",
       "      <td>2022-02-10</td>\n",
       "    </tr>\n",
       "    <tr>\n",
       "      <th>2022-11-17 23:30:00</th>\n",
       "      <td>371699</td>\n",
       "      <td>2022/11/17 11:30:00 PM</td>\n",
       "      <td>2022/11/17</td>\n",
       "      <td>23:30</td>\n",
       "      <td>2022</td>\n",
       "      <td>Thursday</td>\n",
       "      <td>II</td>\n",
       "      <td>Initial</td>\n",
       "      <td>NaN</td>\n",
       "      <td>75000</td>\n",
       "      <td>...</td>\n",
       "      <td>SYCAMORE ST \\ VALENCIA ST</td>\n",
       "      <td>24172000.0</td>\n",
       "      <td>Mission</td>\n",
       "      <td>Mission</td>\n",
       "      <td>9.0</td>\n",
       "      <td>8.0</td>\n",
       "      <td>53.0</td>\n",
       "      <td>5.0</td>\n",
       "      <td>3.0</td>\n",
       "      <td>2022-11-17</td>\n",
       "    </tr>\n",
       "  </tbody>\n",
       "</table>\n",
       "<p>2 rows × 24 columns</p>\n",
       "</div>"
      ],
      "text/plain": [
       "                     Unnamed: 0       incident_datetime incident_date  \\\n",
       "datetime                                                                \n",
       "2022-02-10 07:59:00      308322  2022/02/10 07:59:00 AM    2022/02/10   \n",
       "2022-11-17 23:30:00      371699  2022/11/17 11:30:00 PM    2022/11/17   \n",
       "\n",
       "                    incident_time  incident_year incident_day_of_week  \\\n",
       "datetime                                                                \n",
       "2022-02-10 07:59:00         07:59           2022             Thursday   \n",
       "2022-11-17 23:30:00         23:30           2022             Thursday   \n",
       "\n",
       "                    report_type_code report_type_description filed_online  \\\n",
       "datetime                                                                    \n",
       "2022-02-10 07:59:00               VS      Vehicle Supplement          NaN   \n",
       "2022-11-17 23:30:00               II                 Initial          NaN   \n",
       "\n",
       "                     incident_code  ...                intersection  \\\n",
       "datetime                            ...                               \n",
       "2022-02-10 07:59:00           7041  ...  SAN BENITO WAY \\ OCEAN AVE   \n",
       "2022-11-17 23:30:00          75000  ...   SYCAMORE ST \\ VALENCIA ST   \n",
       "\n",
       "                            cnn police_district analysis_neighborhood  \\\n",
       "datetime                                                                \n",
       "2022-02-10 07:59:00  22771000.0       Ingleside    West of Twin Peaks   \n",
       "2022-11-17 23:30:00  24172000.0         Mission               Mission   \n",
       "\n",
       "                    supervisor_district  supervisor_district_2012  \\\n",
       "datetime                                                            \n",
       "2022-02-10 07:59:00                 7.0                       7.0   \n",
       "2022-11-17 23:30:00                 9.0                       8.0   \n",
       "\n",
       "                    neighborhoods current_supervisor_districts  \\\n",
       "datetime                                                         \n",
       "2022-02-10 07:59:00          67.0                          8.0   \n",
       "2022-11-17 23:30:00          53.0                          5.0   \n",
       "\n",
       "                     current_police_districts       date  \n",
       "datetime                                                  \n",
       "2022-02-10 07:59:00                      10.0 2022-02-10  \n",
       "2022-11-17 23:30:00                       3.0 2022-11-17  \n",
       "\n",
       "[2 rows x 24 columns]"
      ]
     },
     "execution_count": 22,
     "metadata": {},
     "output_type": "execute_result"
    }
   ],
   "source": [
    "data.head(2)"
   ]
  },
  {
   "cell_type": "code",
   "execution_count": 24,
   "id": "f76153ed-5fd7-4c47-bb27-1e94baa2f8aa",
   "metadata": {},
   "outputs": [
    {
     "data": {
      "text/plain": [
       "resolution\n",
       "Open or Active          0.803645\n",
       "Cite or Arrest Adult    0.188656\n",
       "Unfounded               0.005005\n",
       "Exceptional Adult       0.002694\n",
       "Name: proportion, dtype: float64"
      ]
     },
     "execution_count": 24,
     "metadata": {},
     "output_type": "execute_result"
    }
   ],
   "source": [
    "data.resolution.value_counts(normalize=True)"
   ]
  },
  {
   "cell_type": "code",
   "execution_count": 25,
   "id": "a4182090-0468-46bd-ba86-8d5213ddf48a",
   "metadata": {},
   "outputs": [
    {
     "data": {
      "text/plain": [
       "Index(['Unnamed: 0', 'incident_datetime', 'incident_date', 'incident_time',\n",
       "       'incident_year', 'incident_day_of_week', 'report_type_code',\n",
       "       'report_type_description', 'filed_online', 'incident_code',\n",
       "       'incident_category', 'incident_subcategory', 'incident_description',\n",
       "       'resolution', 'intersection', 'cnn', 'police_district',\n",
       "       'analysis_neighborhood', 'supervisor_district',\n",
       "       'supervisor_district_2012', 'neighborhoods',\n",
       "       'current_supervisor_districts', 'current_police_districts', 'date'],\n",
       "      dtype='object')"
      ]
     },
     "execution_count": 25,
     "metadata": {},
     "output_type": "execute_result"
    }
   ],
   "source": [
    "temp_copy = data.copy()\n",
    "\n",
    "temp_copy.columns"
   ]
  },
  {
   "cell_type": "code",
   "execution_count": 26,
   "id": "e0129962-8625-486c-b3f2-912bdab732dc",
   "metadata": {},
   "outputs": [
    {
     "data": {
      "text/plain": [
       "Index(['Unnamed: 0', 'incident_datetime', 'incident_date', 'incident_time',\n",
       "       'incident_year', 'incident_day_of_week', 'report_type_code',\n",
       "       'report_type_description', 'filed_online', 'incident_code',\n",
       "       'incident_category', 'incident_subcategory', 'incident_description',\n",
       "       'resolution', 'intersection', 'cnn', 'police_district',\n",
       "       'analysis_neighborhood', 'supervisor_district',\n",
       "       'supervisor_district_2012', 'neighborhoods',\n",
       "       'current_supervisor_districts', 'current_police_districts', 'date'],\n",
       "      dtype='object')"
      ]
     },
     "execution_count": 26,
     "metadata": {},
     "output_type": "execute_result"
    }
   ],
   "source": [
    "temp_copy.columns"
   ]
  },
  {
   "cell_type": "code",
   "execution_count": 27,
   "id": "63535c4a-9baa-4d6d-ab5a-9dc84ff43f13",
   "metadata": {},
   "outputs": [],
   "source": [
    "temp = temp_copy.head(1000)"
   ]
  },
  {
   "cell_type": "code",
   "execution_count": 28,
   "id": "c0c29e2c-049c-43f5-b2e2-74b01c706621",
   "metadata": {},
   "outputs": [
    {
     "data": {
      "text/plain": [
       "Index(['Unnamed: 0', 'incident_datetime', 'incident_date', 'incident_time',\n",
       "       'incident_year', 'incident_day_of_week', 'report_type_code',\n",
       "       'report_type_description', 'filed_online', 'incident_code',\n",
       "       'incident_category', 'incident_subcategory', 'incident_description',\n",
       "       'resolution', 'intersection', 'cnn', 'police_district',\n",
       "       'analysis_neighborhood', 'supervisor_district',\n",
       "       'supervisor_district_2012', 'neighborhoods',\n",
       "       'current_supervisor_districts', 'current_police_districts', 'date'],\n",
       "      dtype='object')"
      ]
     },
     "execution_count": 28,
     "metadata": {},
     "output_type": "execute_result"
    }
   ],
   "source": [
    "temp.columns"
   ]
  },
  {
   "cell_type": "code",
   "execution_count": 29,
   "id": "80fa0ffe-f9b4-45aa-9a31-f0bd985d234e",
   "metadata": {},
   "outputs": [],
   "source": [
    "# graph_utils.graph_features(temp, 13, 2, figsize=(10, 15))"
   ]
  },
  {
   "cell_type": "code",
   "execution_count": 30,
   "id": "022b80d2-8ca9-4096-b162-788cd7188ae8",
   "metadata": {},
   "outputs": [],
   "source": [
    "# feature_df = temp[['incident_datetime', 'incident_date', 'incident_time', 'incident_year', 'incident_day_of_week']]\n",
    "# graph_features(feature_df, 3, 2)"
   ]
  },
  {
   "cell_type": "code",
   "execution_count": 31,
   "id": "d680dba6-177b-482f-a380-72ef496a955f",
   "metadata": {},
   "outputs": [
    {
     "data": {
      "text/plain": [
       "Index(['Unnamed: 0', 'incident_datetime', 'incident_date', 'incident_time',\n",
       "       'incident_year', 'incident_day_of_week', 'report_type_code',\n",
       "       'report_type_description', 'filed_online', 'incident_code',\n",
       "       'incident_category', 'incident_subcategory', 'incident_description',\n",
       "       'resolution', 'intersection', 'cnn', 'police_district',\n",
       "       'analysis_neighborhood', 'supervisor_district',\n",
       "       'supervisor_district_2012', 'neighborhoods',\n",
       "       'current_supervisor_districts', 'current_police_districts', 'date'],\n",
       "      dtype='object')"
      ]
     },
     "execution_count": 31,
     "metadata": {},
     "output_type": "execute_result"
    }
   ],
   "source": [
    "temp_copy.columns"
   ]
  },
  {
   "cell_type": "code",
   "execution_count": 32,
   "id": "2dca3bb1-a8dd-4e2b-8f0a-faead9e9f4dc",
   "metadata": {},
   "outputs": [
    {
     "data": {
      "text/plain": [
       "datetime\n",
       "2022-02-10 07:59:00                Vehicle, Recovered, Auto\n",
       "2022-11-17 23:30:00                            Found Person\n",
       "2023-12-23 22:50:00                         Found  Property\n",
       "2018-09-05 13:20:00    Methamphetamine, Possession For Sale\n",
       "2022-01-22 10:28:00                Vehicle, Recovered, Auto\n",
       "Name: incident_description, dtype: object"
      ]
     },
     "execution_count": 32,
     "metadata": {},
     "output_type": "execute_result"
    }
   ],
   "source": [
    "temp_copy.incident_description.head(5)"
   ]
  },
  {
   "cell_type": "code",
   "execution_count": 33,
   "id": "2821fd34-7c3e-480d-8c4e-a115cab6c5cc",
   "metadata": {},
   "outputs": [
    {
     "data": {
      "text/plain": [
       "(88717, 24)"
      ]
     },
     "execution_count": 33,
     "metadata": {},
     "output_type": "execute_result"
    }
   ],
   "source": [
    "temp_copy.shape"
   ]
  },
  {
   "cell_type": "code",
   "execution_count": 34,
   "id": "33cd0694-0347-4fc1-a55c-70241489e18e",
   "metadata": {},
   "outputs": [
    {
     "data": {
      "text/plain": [
       "incident_description\n",
       "Theft, From Locked Vehicle, >$950            10659\n",
       "Malicious Mischief, Vandalism to Property     2894\n",
       "Battery                                       2693\n",
       "Lost Property                                 2667\n",
       "Vehicle, Stolen, Auto                         2650\n",
       "                                             ...  \n",
       "Homicide, Drive-by                               1\n",
       "Assault, Mayhem, W/ Gun                          1\n",
       "Throwing Injurious Substance on Highway          1\n",
       "Loitering near ATM                               1\n",
       "Assault, Att. Mayhem, W/ Force                   1\n",
       "Name: count, Length: 657, dtype: int64"
      ]
     },
     "execution_count": 34,
     "metadata": {},
     "output_type": "execute_result"
    }
   ],
   "source": [
    "temp_copy.incident_description.value_counts()"
   ]
  },
  {
   "cell_type": "code",
   "execution_count": 35,
   "id": "a164c2df-7389-4079-8ee5-cf8d90c3efac",
   "metadata": {},
   "outputs": [
    {
     "data": {
      "text/plain": [
       "incident_category\n",
       "Larceny Theft                                   26472\n",
       "Other Miscellaneous                              6039\n",
       "Malicious Mischief                               5935\n",
       "Assault                                          5512\n",
       "Non-Criminal                                     5207\n",
       "Motor Vehicle Theft                              5009\n",
       "Burglary                                         4929\n",
       "Recovered Vehicle                                3534\n",
       "Fraud                                            2857\n",
       "Warrant                                          2700\n",
       "Lost Property                                    2667\n",
       "Drug Offense                                     2256\n",
       "Robbery                                          1945\n",
       "Missing Person                                   1887\n",
       "Suspicious Occ                                   1811\n",
       "Disorderly Conduct                               1523\n",
       "Offences Against The Family And Children         1201\n",
       "Miscellaneous Investigation                      1032\n",
       "Traffic Violation Arrest                          777\n",
       "Other Offenses                                    751\n",
       "Other                                             746\n",
       "Weapons Offense                                   592\n",
       "Weapons Carrying Etc                              513\n",
       "Stolen Property                                   437\n",
       "Case Closure                                      339\n",
       "Courtesy Report                                   298\n",
       "Forgery And Counterfeiting                        259\n",
       "Arson                                             254\n",
       "Traffic Collision                                 223\n",
       "Vandalism                                         173\n",
       "Fire Report                                       130\n",
       "Sex Offense                                       115\n",
       "Embezzlement                                      105\n",
       "Prostitution                                       84\n",
       "Civil Sidewalks                                    64\n",
       "Vehicle Impounded                                  60\n",
       "Vehicle Misplaced                                  47\n",
       "Suicide                                            35\n",
       "Homicide                                           21\n",
       "Drug Violation                                     18\n",
       "Rape                                               18\n",
       "Suspicious                                         17\n",
       "Liquor Laws                                        10\n",
       "Human Trafficking (A), Commercial Sex Acts          7\n",
       "Motor Vehicle Theft?                                5\n",
       "Gambling                                            4\n",
       "Human Trafficking, Commercial Sex Acts              4\n",
       "Weapons Offence                                     1\n",
       "Human Trafficking (B), Involuntary Servitude        1\n",
       "Name: count, dtype: int64"
      ]
     },
     "execution_count": 35,
     "metadata": {},
     "output_type": "execute_result"
    }
   ],
   "source": [
    "temp_copy.incident_category.value_counts()"
   ]
  },
  {
   "cell_type": "code",
   "execution_count": null,
   "id": "e448a2b3-5ed2-4dd3-9f9e-acbc9267369a",
   "metadata": {},
   "outputs": [],
   "source": []
  }
 ],
 "metadata": {
  "kernelspec": {
   "display_name": "Python 3 (ipykernel)",
   "language": "python",
   "name": "python3"
  },
  "language_info": {
   "codemirror_mode": {
    "name": "ipython",
    "version": 3
   },
   "file_extension": ".py",
   "mimetype": "text/x-python",
   "name": "python",
   "nbconvert_exporter": "python",
   "pygments_lexer": "ipython3",
   "version": "3.11.9"
  },
  "widgets": {
   "application/vnd.jupyter.widget-state+json": {
    "state": {},
    "version_major": 2,
    "version_minor": 0
   }
  }
 },
 "nbformat": 4,
 "nbformat_minor": 5
}
