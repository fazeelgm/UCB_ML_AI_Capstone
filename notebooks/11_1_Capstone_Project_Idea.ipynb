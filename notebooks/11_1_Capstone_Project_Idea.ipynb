{
 "cells": [
  {
   "cell_type": "markdown",
   "id": "dc3aa149-9599-4087-8ded-19200e9b9655",
   "metadata": {},
   "source": [
    "# Capstone Project 11.1: Initial Question and Data"
   ]
  },
  {
   "cell_type": "markdown",
   "id": "96039abe-91b7-4227-9391-19913028f628",
   "metadata": {},
   "source": [
    "**Learning Outcome Addressed:**\n",
    "\n",
    ">2. Develop a capstone question\n",
    "\n",
    "It is time to start putting your creativity and domain-specific knowledge to use. Your capstone project will be a question of your own design where you answer a question in your specific field (or the field you want to move into). For this initial submission, all you need to submit is:\n",
    "\n",
    "* A general idea of your question (a sentence or two)\n",
    "* An initial guess at what data you will need to answer that question\n",
    "* An initial guess as to how you will source that data\n",
    "\n",
    "Notice what is missing in this initial post. You DO NOT have to suggest what technique you will use to find the answer. This omission is on purpose. Your initial submission here is a place to start your conversation with your Learning Facilitator. Over the next few weeks, your Learning Facilitator will have a 1:1 session with you to refine your question, discuss your data (and where to source it), and brainstorm techniques you might use to address your question.\n",
    "\n",
    "_This is a required assignment and counts toward program completion._\n",
    "\n",
    "**Submission Instructions:**\n",
    "\n",
    "* Submit your text or upload a file to start a conversation with your Learning Facilitator\n",
    "* You may attempt this activity as many times as you wish until the due date\n",
    "* Your submission will be graded as complete/incomplete\n",
    "\n",
    "**Suggested Time:** 120 minutes"
   ]
  },
  {
   "cell_type": "markdown",
   "id": "9cc4d0b6-664e-4e9a-b027-db93d56b3cd1",
   "metadata": {},
   "source": [
    "## My Writeup"
   ]
  },
  {
   "cell_type": "markdown",
   "id": "94766b8b-e421-40a3-a769-896e496ad160",
   "metadata": {},
   "source": [
    "### Background\n",
    "\n",
    "I am interested in forecasting and classification problems and use of data for social issues. I came across this dataset daily feed from the SF Police Dept. (SFPD) a few months ago when there was a lot of reporting about San Francisco being in a doom-loop, and someone used this dataset to show that things were actually not that bad from a crime lens.\n",
    "\n",
    "I would like to use this dataset for my project as I think there are many interesting models that can be built using this data. However, since we haven't done classification or neural networks yet, I'm a little concerned that I might be taking on too much. Would appreciate your feedback!\n",
    "\n",
    "### Basic Question / Ideas\n",
    "\n",
    "1. Is it possible to use the nightly SF Police Dept (SFPD) Incident Report data for hot-spots or detecting trends that are actionable based on newly reported incidents?\n",
    "   * Incident spikes over time-span: Anomalies, trend-analysis\n",
    "   * Neighborhood irregularities: Clustering\n",
    "   * Leveraging seasonality for shift staffing recommendations\n",
    "1. Is it possible to forecast needs by precinct or incident type based on past data?\n",
    "\n",
    "### Data Source\n",
    "\n",
    "[SF Police Department Incident Reports: 2018 to Present](https://data.sfgov.org/Public-Safety/Police-Department-Incident-Reports-2018-to-Present/wg3w-h783/about_data)\n",
    "\n",
    "* DataType: Time Series data for SFPD incidents reported by:\n",
    "  * Police officers\n",
    "  * Citizens using SFPD website and Twitter/X\n",
    "* Published daily and ranges from Sept 5, 2018 up to the current time\n",
    "  * Historical data going back to 2003 is also available\n",
    "* Includes categorization and sub-categorization of incidents, as well as resolution codes\n",
    "* Include GIS (LatLong) and neighborhood data that can be cross-indexed with other SF City datasets\n"
   ]
  },
  {
   "cell_type": "code",
   "execution_count": null,
   "id": "eabeed7c-7295-4720-89c9-c938c3f69940",
   "metadata": {},
   "outputs": [],
   "source": []
  }
 ],
 "metadata": {
  "kernelspec": {
   "display_name": "Python 3 (ipykernel)",
   "language": "python",
   "name": "python3"
  },
  "language_info": {
   "codemirror_mode": {
    "name": "ipython",
    "version": 3
   },
   "file_extension": ".py",
   "mimetype": "text/x-python",
   "name": "python",
   "nbconvert_exporter": "python",
   "pygments_lexer": "ipython3",
   "version": "3.11.9"
  },
  "widgets": {
   "application/vnd.jupyter.widget-state+json": {
    "state": {},
    "version_major": 2,
    "version_minor": 0
   }
  }
 },
 "nbformat": 4,
 "nbformat_minor": 5
}
